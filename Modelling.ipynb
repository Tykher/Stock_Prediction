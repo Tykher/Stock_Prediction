{
 "cells": [
  {
   "cell_type": "code",
   "execution_count": 1,
   "id": "55b9a240-ec90-440a-baa5-211502b99a4f",
   "metadata": {},
   "outputs": [],
   "source": [
    "import pandas as pd"
   ]
  },
  {
   "cell_type": "code",
   "execution_count": 2,
   "id": "77f4965a-1cfb-4034-8e3c-37b1f414648a",
   "metadata": {},
   "outputs": [],
   "source": [
    "from sklearn.preprocessing import MinMaxScaler\n",
    "# Separate scaler for the target variable\n",
    "target_scaler = MinMaxScaler()\n",
    "feature_scaler = MinMaxScaler()"
   ]
  },
  {
   "cell_type": "code",
   "execution_count": 3,
   "id": "1654b919-57ad-4f36-9a19-fc871a84bd46",
   "metadata": {},
   "outputs": [],
   "source": [
    "df = pd.read_csv(\"final_data.csv\")"
   ]
  },
  {
   "cell_type": "code",
   "execution_count": 4,
   "id": "1fdfec53-2100-4095-a8a5-fdba89263314",
   "metadata": {},
   "outputs": [],
   "source": [
    "df.set_index('Unnamed: 0', inplace=True)"
   ]
  },
  {
   "cell_type": "code",
   "execution_count": 5,
   "id": "cf8acab9-94d4-48eb-ab7a-5ac373a61c6f",
   "metadata": {},
   "outputs": [
    {
     "data": {
      "text/html": [
       "<div>\n",
       "<style scoped>\n",
       "    .dataframe tbody tr th:only-of-type {\n",
       "        vertical-align: middle;\n",
       "    }\n",
       "\n",
       "    .dataframe tbody tr th {\n",
       "        vertical-align: top;\n",
       "    }\n",
       "\n",
       "    .dataframe thead th {\n",
       "        text-align: right;\n",
       "    }\n",
       "</style>\n",
       "<table border=\"1\" class=\"dataframe\">\n",
       "  <thead>\n",
       "    <tr style=\"text-align: right;\">\n",
       "      <th></th>\n",
       "      <th>Open_NVDA</th>\n",
       "      <th>Lag_Close_1</th>\n",
       "      <th>MA10_</th>\n",
       "      <th>EMA10_</th>\n",
       "      <th>MA50_</th>\n",
       "      <th>Lag_Close_3</th>\n",
       "      <th>Close_NVDA</th>\n",
       "    </tr>\n",
       "    <tr>\n",
       "      <th>Unnamed: 0</th>\n",
       "      <th></th>\n",
       "      <th></th>\n",
       "      <th></th>\n",
       "      <th></th>\n",
       "      <th></th>\n",
       "      <th></th>\n",
       "      <th></th>\n",
       "    </tr>\n",
       "  </thead>\n",
       "  <tbody>\n",
       "    <tr>\n",
       "      <th>0</th>\n",
       "      <td>0.040119</td>\n",
       "      <td>0.037612</td>\n",
       "      <td>0.037289</td>\n",
       "      <td>0.037612</td>\n",
       "      <td>0.039066</td>\n",
       "      <td>0.037612</td>\n",
       "      <td>0.037612</td>\n",
       "    </tr>\n",
       "    <tr>\n",
       "      <th>1</th>\n",
       "      <td>0.040597</td>\n",
       "      <td>0.037612</td>\n",
       "      <td>0.037289</td>\n",
       "      <td>0.038328</td>\n",
       "      <td>0.039066</td>\n",
       "      <td>0.037612</td>\n",
       "      <td>0.041552</td>\n",
       "    </tr>\n",
       "    <tr>\n",
       "      <th>2</th>\n",
       "      <td>0.040597</td>\n",
       "      <td>0.041552</td>\n",
       "      <td>0.037289</td>\n",
       "      <td>0.038328</td>\n",
       "      <td>0.039066</td>\n",
       "      <td>0.037612</td>\n",
       "      <td>0.041552</td>\n",
       "    </tr>\n",
       "    <tr>\n",
       "      <th>3</th>\n",
       "      <td>0.040597</td>\n",
       "      <td>0.041552</td>\n",
       "      <td>0.037289</td>\n",
       "      <td>0.038328</td>\n",
       "      <td>0.039066</td>\n",
       "      <td>0.037612</td>\n",
       "      <td>0.041552</td>\n",
       "    </tr>\n",
       "    <tr>\n",
       "      <th>4</th>\n",
       "      <td>0.042029</td>\n",
       "      <td>0.041552</td>\n",
       "      <td>0.037289</td>\n",
       "      <td>0.038328</td>\n",
       "      <td>0.039066</td>\n",
       "      <td>0.041552</td>\n",
       "      <td>0.038328</td>\n",
       "    </tr>\n",
       "    <tr>\n",
       "      <th>...</th>\n",
       "      <td>...</td>\n",
       "      <td>...</td>\n",
       "      <td>...</td>\n",
       "      <td>...</td>\n",
       "      <td>...</td>\n",
       "      <td>...</td>\n",
       "      <td>...</td>\n",
       "    </tr>\n",
       "    <tr>\n",
       "      <th>9632</th>\n",
       "      <td>142.509995</td>\n",
       "      <td>139.990005</td>\n",
       "      <td>137.815001</td>\n",
       "      <td>138.076883</td>\n",
       "      <td>118.404400</td>\n",
       "      <td>141.220001</td>\n",
       "      <td>141.720001</td>\n",
       "    </tr>\n",
       "    <tr>\n",
       "      <th>9633</th>\n",
       "      <td>143.190002</td>\n",
       "      <td>141.720001</td>\n",
       "      <td>138.949002</td>\n",
       "      <td>138.904724</td>\n",
       "      <td>119.028400</td>\n",
       "      <td>141.919998</td>\n",
       "      <td>142.630005</td>\n",
       "    </tr>\n",
       "    <tr>\n",
       "      <th>9634</th>\n",
       "      <td>143.190002</td>\n",
       "      <td>142.630005</td>\n",
       "      <td>138.949002</td>\n",
       "      <td>138.904724</td>\n",
       "      <td>119.028400</td>\n",
       "      <td>139.990005</td>\n",
       "      <td>142.630005</td>\n",
       "    </tr>\n",
       "    <tr>\n",
       "      <th>9635</th>\n",
       "      <td>143.190002</td>\n",
       "      <td>142.630005</td>\n",
       "      <td>138.949002</td>\n",
       "      <td>138.904724</td>\n",
       "      <td>119.028400</td>\n",
       "      <td>141.720001</td>\n",
       "      <td>142.630005</td>\n",
       "    </tr>\n",
       "    <tr>\n",
       "      <th>9636</th>\n",
       "      <td>142.690002</td>\n",
       "      <td>142.630005</td>\n",
       "      <td>139.795003</td>\n",
       "      <td>139.823866</td>\n",
       "      <td>119.714200</td>\n",
       "      <td>142.630005</td>\n",
       "      <td>143.960007</td>\n",
       "    </tr>\n",
       "  </tbody>\n",
       "</table>\n",
       "<p>9637 rows × 7 columns</p>\n",
       "</div>"
      ],
      "text/plain": [
       "             Open_NVDA  Lag_Close_1       MA10_      EMA10_       MA50_  \\\n",
       "Unnamed: 0                                                                \n",
       "0             0.040119     0.037612    0.037289    0.037612    0.039066   \n",
       "1             0.040597     0.037612    0.037289    0.038328    0.039066   \n",
       "2             0.040597     0.041552    0.037289    0.038328    0.039066   \n",
       "3             0.040597     0.041552    0.037289    0.038328    0.039066   \n",
       "4             0.042029     0.041552    0.037289    0.038328    0.039066   \n",
       "...                ...          ...         ...         ...         ...   \n",
       "9632        142.509995   139.990005  137.815001  138.076883  118.404400   \n",
       "9633        143.190002   141.720001  138.949002  138.904724  119.028400   \n",
       "9634        143.190002   142.630005  138.949002  138.904724  119.028400   \n",
       "9635        143.190002   142.630005  138.949002  138.904724  119.028400   \n",
       "9636        142.690002   142.630005  139.795003  139.823866  119.714200   \n",
       "\n",
       "            Lag_Close_3  Close_NVDA  \n",
       "Unnamed: 0                           \n",
       "0              0.037612    0.037612  \n",
       "1              0.037612    0.041552  \n",
       "2              0.037612    0.041552  \n",
       "3              0.037612    0.041552  \n",
       "4              0.041552    0.038328  \n",
       "...                 ...         ...  \n",
       "9632         141.220001  141.720001  \n",
       "9633         141.919998  142.630005  \n",
       "9634         139.990005  142.630005  \n",
       "9635         141.720001  142.630005  \n",
       "9636         142.630005  143.960007  \n",
       "\n",
       "[9637 rows x 7 columns]"
      ]
     },
     "execution_count": 5,
     "metadata": {},
     "output_type": "execute_result"
    }
   ],
   "source": [
    "df"
   ]
  },
  {
   "cell_type": "code",
   "execution_count": 6,
   "id": "30ea256a-11a4-4c82-b343-50765eaec2d2",
   "metadata": {},
   "outputs": [],
   "source": [
    "# Create lagged features for Close_diff_NVDA\n",
    "\n",
    "lags_to_add = [1, 2, 3]  # Specify the lags to include\n",
    "\n",
    "for lag in lags_to_add:\n",
    "    df[f'Lag_Close_diff_{lag}'] = df['Close_NVDA'].shift(lag)"
   ]
  },
  {
   "cell_type": "code",
   "execution_count": 7,
   "id": "104e590f-04a2-4c83-a98c-c523610a5ba4",
   "metadata": {},
   "outputs": [],
   "source": [
    "df = df.bfill()"
   ]
  },
  {
   "cell_type": "code",
   "execution_count": 8,
   "id": "df7a55d8-680d-424a-acf3-47b46e7729ed",
   "metadata": {},
   "outputs": [],
   "source": [
    "df['Close_NVDA'] = target_scaler.fit_transform(df[['Close_NVDA']])  # Target variable\n",
    "df[df.columns.difference(['Close_NVDA'])] = feature_scaler.fit_transform(df[df.columns.difference(['Close_NVDA'])])"
   ]
  },
  {
   "cell_type": "code",
   "execution_count": 9,
   "id": "44628aa1-5cef-4bb3-8846-77daf18de44a",
   "metadata": {},
   "outputs": [
    {
     "data": {
      "text/html": [
       "<div>\n",
       "<style scoped>\n",
       "    .dataframe tbody tr th:only-of-type {\n",
       "        vertical-align: middle;\n",
       "    }\n",
       "\n",
       "    .dataframe tbody tr th {\n",
       "        vertical-align: top;\n",
       "    }\n",
       "\n",
       "    .dataframe thead th {\n",
       "        text-align: right;\n",
       "    }\n",
       "</style>\n",
       "<table border=\"1\" class=\"dataframe\">\n",
       "  <thead>\n",
       "    <tr style=\"text-align: right;\">\n",
       "      <th></th>\n",
       "      <th>Open_NVDA</th>\n",
       "      <th>Lag_Close_1</th>\n",
       "      <th>MA10_</th>\n",
       "      <th>EMA10_</th>\n",
       "      <th>MA50_</th>\n",
       "      <th>Lag_Close_3</th>\n",
       "      <th>Close_NVDA</th>\n",
       "      <th>Lag_Close_diff_1</th>\n",
       "      <th>Lag_Close_diff_2</th>\n",
       "      <th>Lag_Close_diff_3</th>\n",
       "    </tr>\n",
       "    <tr>\n",
       "      <th>Unnamed: 0</th>\n",
       "      <th></th>\n",
       "      <th></th>\n",
       "      <th></th>\n",
       "      <th></th>\n",
       "      <th></th>\n",
       "      <th></th>\n",
       "      <th></th>\n",
       "      <th></th>\n",
       "      <th></th>\n",
       "      <th></th>\n",
       "    </tr>\n",
       "  </thead>\n",
       "  <tbody>\n",
       "    <tr>\n",
       "      <th>0</th>\n",
       "      <td>0.000053</td>\n",
       "      <td>0.000042</td>\n",
       "      <td>0.000034</td>\n",
       "      <td>0.000034</td>\n",
       "      <td>0.000039</td>\n",
       "      <td>0.000042</td>\n",
       "      <td>0.000042</td>\n",
       "      <td>0.000042</td>\n",
       "      <td>0.000042</td>\n",
       "      <td>0.000042</td>\n",
       "    </tr>\n",
       "    <tr>\n",
       "      <th>1</th>\n",
       "      <td>0.000056</td>\n",
       "      <td>0.000042</td>\n",
       "      <td>0.000034</td>\n",
       "      <td>0.000039</td>\n",
       "      <td>0.000039</td>\n",
       "      <td>0.000042</td>\n",
       "      <td>0.000069</td>\n",
       "      <td>0.000042</td>\n",
       "      <td>0.000042</td>\n",
       "      <td>0.000042</td>\n",
       "    </tr>\n",
       "    <tr>\n",
       "      <th>2</th>\n",
       "      <td>0.000056</td>\n",
       "      <td>0.000069</td>\n",
       "      <td>0.000034</td>\n",
       "      <td>0.000039</td>\n",
       "      <td>0.000039</td>\n",
       "      <td>0.000042</td>\n",
       "      <td>0.000069</td>\n",
       "      <td>0.000069</td>\n",
       "      <td>0.000042</td>\n",
       "      <td>0.000042</td>\n",
       "    </tr>\n",
       "    <tr>\n",
       "      <th>3</th>\n",
       "      <td>0.000056</td>\n",
       "      <td>0.000069</td>\n",
       "      <td>0.000034</td>\n",
       "      <td>0.000039</td>\n",
       "      <td>0.000039</td>\n",
       "      <td>0.000042</td>\n",
       "      <td>0.000069</td>\n",
       "      <td>0.000069</td>\n",
       "      <td>0.000069</td>\n",
       "      <td>0.000042</td>\n",
       "    </tr>\n",
       "    <tr>\n",
       "      <th>4</th>\n",
       "      <td>0.000066</td>\n",
       "      <td>0.000069</td>\n",
       "      <td>0.000034</td>\n",
       "      <td>0.000039</td>\n",
       "      <td>0.000039</td>\n",
       "      <td>0.000069</td>\n",
       "      <td>0.000047</td>\n",
       "      <td>0.000069</td>\n",
       "      <td>0.000069</td>\n",
       "      <td>0.000069</td>\n",
       "    </tr>\n",
       "    <tr>\n",
       "      <th>...</th>\n",
       "      <td>...</td>\n",
       "      <td>...</td>\n",
       "      <td>...</td>\n",
       "      <td>...</td>\n",
       "      <td>...</td>\n",
       "      <td>...</td>\n",
       "      <td>...</td>\n",
       "      <td>...</td>\n",
       "      <td>...</td>\n",
       "      <td>...</td>\n",
       "    </tr>\n",
       "    <tr>\n",
       "      <th>9632</th>\n",
       "      <td>0.931327</td>\n",
       "      <td>0.936900</td>\n",
       "      <td>0.945295</td>\n",
       "      <td>0.953488</td>\n",
       "      <td>0.845836</td>\n",
       "      <td>0.945133</td>\n",
       "      <td>0.948480</td>\n",
       "      <td>0.936900</td>\n",
       "      <td>0.949819</td>\n",
       "      <td>0.945133</td>\n",
       "    </tr>\n",
       "    <tr>\n",
       "      <th>9633</th>\n",
       "      <td>0.935772</td>\n",
       "      <td>0.948480</td>\n",
       "      <td>0.953075</td>\n",
       "      <td>0.959206</td>\n",
       "      <td>0.850295</td>\n",
       "      <td>0.949819</td>\n",
       "      <td>0.954572</td>\n",
       "      <td>0.948480</td>\n",
       "      <td>0.936900</td>\n",
       "      <td>0.949819</td>\n",
       "    </tr>\n",
       "    <tr>\n",
       "      <th>9634</th>\n",
       "      <td>0.935772</td>\n",
       "      <td>0.954572</td>\n",
       "      <td>0.953075</td>\n",
       "      <td>0.959206</td>\n",
       "      <td>0.850295</td>\n",
       "      <td>0.936900</td>\n",
       "      <td>0.954572</td>\n",
       "      <td>0.954572</td>\n",
       "      <td>0.948480</td>\n",
       "      <td>0.936900</td>\n",
       "    </tr>\n",
       "    <tr>\n",
       "      <th>9635</th>\n",
       "      <td>0.935772</td>\n",
       "      <td>0.954572</td>\n",
       "      <td>0.953075</td>\n",
       "      <td>0.959206</td>\n",
       "      <td>0.850295</td>\n",
       "      <td>0.948480</td>\n",
       "      <td>0.954572</td>\n",
       "      <td>0.954572</td>\n",
       "      <td>0.954572</td>\n",
       "      <td>0.948480</td>\n",
       "    </tr>\n",
       "    <tr>\n",
       "      <th>9636</th>\n",
       "      <td>0.932503</td>\n",
       "      <td>0.954572</td>\n",
       "      <td>0.958880</td>\n",
       "      <td>0.965555</td>\n",
       "      <td>0.855196</td>\n",
       "      <td>0.954572</td>\n",
       "      <td>0.963475</td>\n",
       "      <td>0.954572</td>\n",
       "      <td>0.954572</td>\n",
       "      <td>0.954572</td>\n",
       "    </tr>\n",
       "  </tbody>\n",
       "</table>\n",
       "<p>9637 rows × 10 columns</p>\n",
       "</div>"
      ],
      "text/plain": [
       "            Open_NVDA  Lag_Close_1     MA10_    EMA10_     MA50_  Lag_Close_3  \\\n",
       "Unnamed: 0                                                                      \n",
       "0            0.000053     0.000042  0.000034  0.000034  0.000039     0.000042   \n",
       "1            0.000056     0.000042  0.000034  0.000039  0.000039     0.000042   \n",
       "2            0.000056     0.000069  0.000034  0.000039  0.000039     0.000042   \n",
       "3            0.000056     0.000069  0.000034  0.000039  0.000039     0.000042   \n",
       "4            0.000066     0.000069  0.000034  0.000039  0.000039     0.000069   \n",
       "...               ...          ...       ...       ...       ...          ...   \n",
       "9632         0.931327     0.936900  0.945295  0.953488  0.845836     0.945133   \n",
       "9633         0.935772     0.948480  0.953075  0.959206  0.850295     0.949819   \n",
       "9634         0.935772     0.954572  0.953075  0.959206  0.850295     0.936900   \n",
       "9635         0.935772     0.954572  0.953075  0.959206  0.850295     0.948480   \n",
       "9636         0.932503     0.954572  0.958880  0.965555  0.855196     0.954572   \n",
       "\n",
       "            Close_NVDA  Lag_Close_diff_1  Lag_Close_diff_2  Lag_Close_diff_3  \n",
       "Unnamed: 0                                                                    \n",
       "0             0.000042          0.000042          0.000042          0.000042  \n",
       "1             0.000069          0.000042          0.000042          0.000042  \n",
       "2             0.000069          0.000069          0.000042          0.000042  \n",
       "3             0.000069          0.000069          0.000069          0.000042  \n",
       "4             0.000047          0.000069          0.000069          0.000069  \n",
       "...                ...               ...               ...               ...  \n",
       "9632          0.948480          0.936900          0.949819          0.945133  \n",
       "9633          0.954572          0.948480          0.936900          0.949819  \n",
       "9634          0.954572          0.954572          0.948480          0.936900  \n",
       "9635          0.954572          0.954572          0.954572          0.948480  \n",
       "9636          0.963475          0.954572          0.954572          0.954572  \n",
       "\n",
       "[9637 rows x 10 columns]"
      ]
     },
     "execution_count": 9,
     "metadata": {},
     "output_type": "execute_result"
    }
   ],
   "source": [
    "df"
   ]
  },
  {
   "cell_type": "code",
   "execution_count": 10,
   "id": "f2745f11-e378-4a19-a760-c7b6afe28d9e",
   "metadata": {},
   "outputs": [],
   "source": [
    "import numpy as np"
   ]
  },
  {
   "cell_type": "code",
   "execution_count": 11,
   "id": "76224c2d-2155-4b26-b567-5a9b6530d7f7",
   "metadata": {},
   "outputs": [],
   "source": [
    "# Ensure the target column is defined\n",
    "target_column = 'Close_NVDA'\n",
    "sequence_length = 10\n",
    "\n",
    "# Get the index of the target column\n",
    "target_index = df.columns.get_loc(target_column)"
   ]
  },
  {
   "cell_type": "code",
   "execution_count": 12,
   "id": "03881bf6-57fe-4b5f-a21d-0856af3ee35f",
   "metadata": {},
   "outputs": [],
   "source": [
    "# Prepare sequences\n",
    "X, y = [], []\n",
    "\n",
    "for i in range(len(df) - sequence_length):\n",
    "    X.append(df.iloc[i:i + sequence_length].values)  # Input sequence\n",
    "    y.append(df.iloc[i + sequence_length, target_index])  # Target value\n",
    "\n",
    "# Convert to numpy arrays\n",
    "X = np.array(X)\n",
    "y = np.array(y)"
   ]
  },
  {
   "cell_type": "code",
   "execution_count": 13,
   "id": "a541e2d1-c04a-4877-a948-82d1404c648b",
   "metadata": {},
   "outputs": [
    {
     "data": {
      "text/plain": [
       "((9627, 10, 10), (9627,))"
      ]
     },
     "execution_count": 13,
     "metadata": {},
     "output_type": "execute_result"
    }
   ],
   "source": [
    "X.shape, y.shape"
   ]
  },
  {
   "cell_type": "code",
   "execution_count": 14,
   "id": "852ba7eb-655e-432a-ba1f-1defc1c9203e",
   "metadata": {},
   "outputs": [],
   "source": [
    "# Convert the DataFrame to a NumPy array, excluding the index\n",
    "data_values = df.values"
   ]
  },
  {
   "cell_type": "code",
   "execution_count": 15,
   "id": "948e1617-b102-4a1b-9eb7-9f4480d0e5cd",
   "metadata": {},
   "outputs": [],
   "source": [
    "# Initialize as Python lists\n",
    "X_train, X_val, X_test = [], [], []\n",
    "y_train, y_val, y_test = [], [], []\n",
    "\n",
    "# Split data manually into train, validation, and test sets\n",
    "train_size = int(len(data_values) * 0.7)\n",
    "val_size = int(len(data_values) * 0.85)\n",
    "\n",
    "for i in range(len(data_values) - sequence_length):\n",
    "    if i + sequence_length <= train_size:\n",
    "        # Add to training data\n",
    "        X_train.append(data_values[i:i + sequence_length])  # Input sequence\n",
    "        y_train.append(data_values[i + sequence_length, target_index])  # Target value\n",
    "    elif i + sequence_length <= val_size:\n",
    "        # Add to validation data\n",
    "        X_val.append(data_values[i:i + sequence_length])\n",
    "        y_val.append(data_values[i + sequence_length, target_index])\n",
    "    else:\n",
    "        # Add to test data\n",
    "        X_test.append(data_values[i:i + sequence_length])\n",
    "        y_test.append(data_values[i + sequence_length, target_index])\n",
    "\n",
    "# Convert to NumPy arrays after appending\n",
    "X_train, X_val, X_test = np.array(X_train), np.array(X_val), np.array(X_test)\n",
    "y_train, y_val, y_test = np.array(y_train), np.array(y_val), np.array(y_test)\n"
   ]
  },
  {
   "cell_type": "code",
   "execution_count": 16,
   "id": "e2a9a332-45cd-4d26-b11d-b821a6b87236",
   "metadata": {},
   "outputs": [
    {
     "data": {
      "text/plain": [
       "((6736, 10, 10), (6736,), (1446, 10, 10), (1446,), (1445, 10, 10), (1445,))"
      ]
     },
     "execution_count": 16,
     "metadata": {},
     "output_type": "execute_result"
    }
   ],
   "source": [
    "X_train.shape, y_train.shape, X_val.shape, y_val.shape, X_test.shape, y_test.shape"
   ]
  },
  {
   "cell_type": "code",
   "execution_count": 17,
   "id": "e3bcd593-2215-4e6f-b077-eccb412bd5f4",
   "metadata": {},
   "outputs": [],
   "source": [
    "import tensorflow as tf\n",
    "from tensorflow.keras import Input\n",
    "from tensorflow.keras.models import Sequential\n",
    "from tensorflow.keras.layers import GRU, Dense, Dropout\n",
    "from tensorflow.keras.optimizers import Adam"
   ]
  },
  {
   "cell_type": "code",
   "execution_count": 18,
   "id": "cc7f0090-1b97-44bc-aa84-07d7259fb961",
   "metadata": {},
   "outputs": [
    {
     "name": "stderr",
     "output_type": "stream",
     "text": [
      "D:\\Anaconda\\Lib\\site-packages\\keras\\src\\layers\\rnn\\rnn.py:204: UserWarning: Do not pass an `input_shape`/`input_dim` argument to a layer. When using Sequential models, prefer using an `Input(shape)` object as the first layer in the model instead.\n",
      "  super().__init__(**kwargs)\n"
     ]
    }
   ],
   "source": [
    "model = Sequential([\n",
    "    Input(shape=(X_train.shape[1], X_train.shape[2])),\n",
    "    GRU(64, activation='tanh', input_shape=(X_train.shape[1], X_train.shape[2])),\n",
    "    Dense(1)  # Single output\n",
    "])"
   ]
  },
  {
   "cell_type": "code",
   "execution_count": 19,
   "id": "a054a44e-b514-4831-a98d-4789fbde7a89",
   "metadata": {},
   "outputs": [],
   "source": [
    "model.compile(optimizer='adam', loss='mse', metrics=['mae'])"
   ]
  },
  {
   "cell_type": "code",
   "execution_count": 20,
   "id": "bcc884b7-af1a-44cb-bc09-1e48921a2d4b",
   "metadata": {},
   "outputs": [
    {
     "data": {
      "text/html": [
       "<pre style=\"white-space:pre;overflow-x:auto;line-height:normal;font-family:Menlo,'DejaVu Sans Mono',consolas,'Courier New',monospace\"><span style=\"font-weight: bold\">Model: \"sequential\"</span>\n",
       "</pre>\n"
      ],
      "text/plain": [
       "\u001b[1mModel: \"sequential\"\u001b[0m\n"
      ]
     },
     "metadata": {},
     "output_type": "display_data"
    },
    {
     "data": {
      "text/html": [
       "<pre style=\"white-space:pre;overflow-x:auto;line-height:normal;font-family:Menlo,'DejaVu Sans Mono',consolas,'Courier New',monospace\">┏━━━━━━━━━━━━━━━━━━━━━━━━━━━━━━━━━━━━━━┳━━━━━━━━━━━━━━━━━━━━━━━━━━━━━┳━━━━━━━━━━━━━━━━━┓\n",
       "┃<span style=\"font-weight: bold\"> Layer (type)                         </span>┃<span style=\"font-weight: bold\"> Output Shape                </span>┃<span style=\"font-weight: bold\">         Param # </span>┃\n",
       "┡━━━━━━━━━━━━━━━━━━━━━━━━━━━━━━━━━━━━━━╇━━━━━━━━━━━━━━━━━━━━━━━━━━━━━╇━━━━━━━━━━━━━━━━━┩\n",
       "│ gru (<span style=\"color: #0087ff; text-decoration-color: #0087ff\">GRU</span>)                            │ (<span style=\"color: #00d7ff; text-decoration-color: #00d7ff\">None</span>, <span style=\"color: #00af00; text-decoration-color: #00af00\">64</span>)                  │          <span style=\"color: #00af00; text-decoration-color: #00af00\">14,592</span> │\n",
       "├──────────────────────────────────────┼─────────────────────────────┼─────────────────┤\n",
       "│ dense (<span style=\"color: #0087ff; text-decoration-color: #0087ff\">Dense</span>)                        │ (<span style=\"color: #00d7ff; text-decoration-color: #00d7ff\">None</span>, <span style=\"color: #00af00; text-decoration-color: #00af00\">1</span>)                   │              <span style=\"color: #00af00; text-decoration-color: #00af00\">65</span> │\n",
       "└──────────────────────────────────────┴─────────────────────────────┴─────────────────┘\n",
       "</pre>\n"
      ],
      "text/plain": [
       "┏━━━━━━━━━━━━━━━━━━━━━━━━━━━━━━━━━━━━━━┳━━━━━━━━━━━━━━━━━━━━━━━━━━━━━┳━━━━━━━━━━━━━━━━━┓\n",
       "┃\u001b[1m \u001b[0m\u001b[1mLayer (type)                        \u001b[0m\u001b[1m \u001b[0m┃\u001b[1m \u001b[0m\u001b[1mOutput Shape               \u001b[0m\u001b[1m \u001b[0m┃\u001b[1m \u001b[0m\u001b[1m        Param #\u001b[0m\u001b[1m \u001b[0m┃\n",
       "┡━━━━━━━━━━━━━━━━━━━━━━━━━━━━━━━━━━━━━━╇━━━━━━━━━━━━━━━━━━━━━━━━━━━━━╇━━━━━━━━━━━━━━━━━┩\n",
       "│ gru (\u001b[38;5;33mGRU\u001b[0m)                            │ (\u001b[38;5;45mNone\u001b[0m, \u001b[38;5;34m64\u001b[0m)                  │          \u001b[38;5;34m14,592\u001b[0m │\n",
       "├──────────────────────────────────────┼─────────────────────────────┼─────────────────┤\n",
       "│ dense (\u001b[38;5;33mDense\u001b[0m)                        │ (\u001b[38;5;45mNone\u001b[0m, \u001b[38;5;34m1\u001b[0m)                   │              \u001b[38;5;34m65\u001b[0m │\n",
       "└──────────────────────────────────────┴─────────────────────────────┴─────────────────┘\n"
      ]
     },
     "metadata": {},
     "output_type": "display_data"
    },
    {
     "data": {
      "text/html": [
       "<pre style=\"white-space:pre;overflow-x:auto;line-height:normal;font-family:Menlo,'DejaVu Sans Mono',consolas,'Courier New',monospace\"><span style=\"font-weight: bold\"> Total params: </span><span style=\"color: #00af00; text-decoration-color: #00af00\">14,657</span> (57.25 KB)\n",
       "</pre>\n"
      ],
      "text/plain": [
       "\u001b[1m Total params: \u001b[0m\u001b[38;5;34m14,657\u001b[0m (57.25 KB)\n"
      ]
     },
     "metadata": {},
     "output_type": "display_data"
    },
    {
     "data": {
      "text/html": [
       "<pre style=\"white-space:pre;overflow-x:auto;line-height:normal;font-family:Menlo,'DejaVu Sans Mono',consolas,'Courier New',monospace\"><span style=\"font-weight: bold\"> Trainable params: </span><span style=\"color: #00af00; text-decoration-color: #00af00\">14,657</span> (57.25 KB)\n",
       "</pre>\n"
      ],
      "text/plain": [
       "\u001b[1m Trainable params: \u001b[0m\u001b[38;5;34m14,657\u001b[0m (57.25 KB)\n"
      ]
     },
     "metadata": {},
     "output_type": "display_data"
    },
    {
     "data": {
      "text/html": [
       "<pre style=\"white-space:pre;overflow-x:auto;line-height:normal;font-family:Menlo,'DejaVu Sans Mono',consolas,'Courier New',monospace\"><span style=\"font-weight: bold\"> Non-trainable params: </span><span style=\"color: #00af00; text-decoration-color: #00af00\">0</span> (0.00 B)\n",
       "</pre>\n"
      ],
      "text/plain": [
       "\u001b[1m Non-trainable params: \u001b[0m\u001b[38;5;34m0\u001b[0m (0.00 B)\n"
      ]
     },
     "metadata": {},
     "output_type": "display_data"
    }
   ],
   "source": [
    "model.summary()"
   ]
  },
  {
   "cell_type": "code",
   "execution_count": 21,
   "id": "f561cbbd-1d89-406d-9508-fa3dce689852",
   "metadata": {},
   "outputs": [],
   "source": [
    "# Train the GRU model\n",
    "batch_size = 32\n",
    "epochs = 50"
   ]
  },
  {
   "cell_type": "code",
   "execution_count": 22,
   "id": "39f11076-87f7-468b-9a31-5e144e00b770",
   "metadata": {},
   "outputs": [
    {
     "name": "stdout",
     "output_type": "stream",
     "text": [
      "Epoch 1/50\n",
      "\u001b[1m211/211\u001b[0m \u001b[32m━━━━━━━━━━━━━━━━━━━━\u001b[0m\u001b[37m\u001b[0m \u001b[1m6s\u001b[0m 4ms/step - loss: 1.2105e-05 - mae: 0.0020 - val_loss: 5.6949e-06 - val_mae: 0.0016\n",
      "Epoch 2/50\n",
      "\u001b[1m211/211\u001b[0m \u001b[32m━━━━━━━━━━━━━━━━━━━━\u001b[0m\u001b[37m\u001b[0m \u001b[1m1s\u001b[0m 3ms/step - loss: 6.8624e-08 - mae: 1.6882e-04 - val_loss: 5.1239e-06 - val_mae: 0.0015\n",
      "Epoch 3/50\n",
      "\u001b[1m211/211\u001b[0m \u001b[32m━━━━━━━━━━━━━━━━━━━━\u001b[0m\u001b[37m\u001b[0m \u001b[1m1s\u001b[0m 3ms/step - loss: 5.1441e-08 - mae: 1.3027e-04 - val_loss: 4.9318e-06 - val_mae: 0.0015\n",
      "Epoch 4/50\n",
      "\u001b[1m211/211\u001b[0m \u001b[32m━━━━━━━━━━━━━━━━━━━━\u001b[0m\u001b[37m\u001b[0m \u001b[1m1s\u001b[0m 3ms/step - loss: 6.5823e-08 - mae: 1.6805e-04 - val_loss: 6.5233e-06 - val_mae: 0.0018\n",
      "Epoch 5/50\n",
      "\u001b[1m211/211\u001b[0m \u001b[32m━━━━━━━━━━━━━━━━━━━━\u001b[0m\u001b[37m\u001b[0m \u001b[1m1s\u001b[0m 3ms/step - loss: 6.4361e-08 - mae: 1.6281e-04 - val_loss: 4.8964e-06 - val_mae: 0.0015\n",
      "Epoch 6/50\n",
      "\u001b[1m211/211\u001b[0m \u001b[32m━━━━━━━━━━━━━━━━━━━━\u001b[0m\u001b[37m\u001b[0m \u001b[1m1s\u001b[0m 3ms/step - loss: 4.8980e-08 - mae: 1.3857e-04 - val_loss: 3.9505e-06 - val_mae: 0.0013\n",
      "Epoch 7/50\n",
      "\u001b[1m211/211\u001b[0m \u001b[32m━━━━━━━━━━━━━━━━━━━━\u001b[0m\u001b[37m\u001b[0m \u001b[1m1s\u001b[0m 3ms/step - loss: 6.9686e-08 - mae: 1.8173e-04 - val_loss: 4.9123e-06 - val_mae: 0.0015\n",
      "Epoch 8/50\n",
      "\u001b[1m211/211\u001b[0m \u001b[32m━━━━━━━━━━━━━━━━━━━━\u001b[0m\u001b[37m\u001b[0m \u001b[1m1s\u001b[0m 3ms/step - loss: 8.4578e-08 - mae: 2.1436e-04 - val_loss: 3.5628e-06 - val_mae: 0.0012\n",
      "Epoch 9/50\n",
      "\u001b[1m211/211\u001b[0m \u001b[32m━━━━━━━━━━━━━━━━━━━━\u001b[0m\u001b[37m\u001b[0m \u001b[1m1s\u001b[0m 3ms/step - loss: 6.6316e-08 - mae: 1.8082e-04 - val_loss: 6.6785e-06 - val_mae: 0.0019\n",
      "Epoch 10/50\n",
      "\u001b[1m211/211\u001b[0m \u001b[32m━━━━━━━━━━━━━━━━━━━━\u001b[0m\u001b[37m\u001b[0m \u001b[1m1s\u001b[0m 3ms/step - loss: 5.5681e-08 - mae: 1.5477e-04 - val_loss: 7.3414e-06 - val_mae: 0.0020\n",
      "Epoch 11/50\n",
      "\u001b[1m211/211\u001b[0m \u001b[32m━━━━━━━━━━━━━━━━━━━━\u001b[0m\u001b[37m\u001b[0m \u001b[1m1s\u001b[0m 3ms/step - loss: 7.1199e-08 - mae: 1.8172e-04 - val_loss: 6.0150e-06 - val_mae: 0.0019\n",
      "Epoch 12/50\n",
      "\u001b[1m211/211\u001b[0m \u001b[32m━━━━━━━━━━━━━━━━━━━━\u001b[0m\u001b[37m\u001b[0m \u001b[1m1s\u001b[0m 3ms/step - loss: 9.0417e-08 - mae: 2.0979e-04 - val_loss: 3.1822e-06 - val_mae: 0.0012\n",
      "Epoch 13/50\n",
      "\u001b[1m211/211\u001b[0m \u001b[32m━━━━━━━━━━━━━━━━━━━━\u001b[0m\u001b[37m\u001b[0m \u001b[1m1s\u001b[0m 3ms/step - loss: 7.2537e-08 - mae: 2.0193e-04 - val_loss: 2.9932e-06 - val_mae: 0.0011\n",
      "Epoch 14/50\n",
      "\u001b[1m211/211\u001b[0m \u001b[32m━━━━━━━━━━━━━━━━━━━━\u001b[0m\u001b[37m\u001b[0m \u001b[1m1s\u001b[0m 3ms/step - loss: 4.8182e-08 - mae: 1.4399e-04 - val_loss: 4.5263e-06 - val_mae: 0.0015\n",
      "Epoch 15/50\n",
      "\u001b[1m211/211\u001b[0m \u001b[32m━━━━━━━━━━━━━━━━━━━━\u001b[0m\u001b[37m\u001b[0m \u001b[1m1s\u001b[0m 3ms/step - loss: 5.2791e-08 - mae: 1.6173e-04 - val_loss: 3.1746e-06 - val_mae: 0.0012\n",
      "Epoch 16/50\n",
      "\u001b[1m211/211\u001b[0m \u001b[32m━━━━━━━━━━━━━━━━━━━━\u001b[0m\u001b[37m\u001b[0m \u001b[1m1s\u001b[0m 3ms/step - loss: 9.4540e-08 - mae: 2.2825e-04 - val_loss: 2.8039e-06 - val_mae: 0.0011\n",
      "Epoch 17/50\n",
      "\u001b[1m211/211\u001b[0m \u001b[32m━━━━━━━━━━━━━━━━━━━━\u001b[0m\u001b[37m\u001b[0m \u001b[1m1s\u001b[0m 3ms/step - loss: 6.3471e-08 - mae: 1.8921e-04 - val_loss: 4.7253e-06 - val_mae: 0.0016\n",
      "Epoch 18/50\n",
      "\u001b[1m211/211\u001b[0m \u001b[32m━━━━━━━━━━━━━━━━━━━━\u001b[0m\u001b[37m\u001b[0m \u001b[1m1s\u001b[0m 3ms/step - loss: 6.3137e-08 - mae: 1.8325e-04 - val_loss: 5.1769e-06 - val_mae: 0.0017\n",
      "Epoch 19/50\n",
      "\u001b[1m211/211\u001b[0m \u001b[32m━━━━━━━━━━━━━━━━━━━━\u001b[0m\u001b[37m\u001b[0m \u001b[1m1s\u001b[0m 3ms/step - loss: 5.2791e-08 - mae: 1.6666e-04 - val_loss: 2.7193e-06 - val_mae: 0.0011\n",
      "Epoch 20/50\n",
      "\u001b[1m211/211\u001b[0m \u001b[32m━━━━━━━━━━━━━━━━━━━━\u001b[0m\u001b[37m\u001b[0m \u001b[1m1s\u001b[0m 3ms/step - loss: 6.1835e-08 - mae: 1.8472e-04 - val_loss: 8.4679e-06 - val_mae: 0.0023\n",
      "Epoch 21/50\n",
      "\u001b[1m211/211\u001b[0m \u001b[32m━━━━━━━━━━━━━━━━━━━━\u001b[0m\u001b[37m\u001b[0m \u001b[1m1s\u001b[0m 3ms/step - loss: 7.1919e-08 - mae: 1.9797e-04 - val_loss: 6.0675e-06 - val_mae: 0.0019\n",
      "Epoch 22/50\n",
      "\u001b[1m211/211\u001b[0m \u001b[32m━━━━━━━━━━━━━━━━━━━━\u001b[0m\u001b[37m\u001b[0m \u001b[1m1s\u001b[0m 3ms/step - loss: 8.9032e-08 - mae: 2.1209e-04 - val_loss: 2.5768e-06 - val_mae: 0.0010\n",
      "Epoch 23/50\n",
      "\u001b[1m211/211\u001b[0m \u001b[32m━━━━━━━━━━━━━━━━━━━━\u001b[0m\u001b[37m\u001b[0m \u001b[1m1s\u001b[0m 3ms/step - loss: 7.9408e-08 - mae: 1.9508e-04 - val_loss: 3.0198e-06 - val_mae: 0.0012\n",
      "Epoch 24/50\n",
      "\u001b[1m211/211\u001b[0m \u001b[32m━━━━━━━━━━━━━━━━━━━━\u001b[0m\u001b[37m\u001b[0m \u001b[1m1s\u001b[0m 3ms/step - loss: 5.2172e-08 - mae: 1.6574e-04 - val_loss: 2.6250e-06 - val_mae: 0.0011\n",
      "Epoch 25/50\n",
      "\u001b[1m211/211\u001b[0m \u001b[32m━━━━━━━━━━━━━━━━━━━━\u001b[0m\u001b[37m\u001b[0m \u001b[1m1s\u001b[0m 3ms/step - loss: 5.9622e-08 - mae: 1.6755e-04 - val_loss: 9.0620e-06 - val_mae: 0.0024\n",
      "Epoch 26/50\n",
      "\u001b[1m211/211\u001b[0m \u001b[32m━━━━━━━━━━━━━━━━━━━━\u001b[0m\u001b[37m\u001b[0m \u001b[1m1s\u001b[0m 3ms/step - loss: 5.4637e-08 - mae: 1.4998e-04 - val_loss: 5.5230e-06 - val_mae: 0.0017\n",
      "Epoch 27/50\n",
      "\u001b[1m211/211\u001b[0m \u001b[32m━━━━━━━━━━━━━━━━━━━━\u001b[0m\u001b[37m\u001b[0m \u001b[1m1s\u001b[0m 3ms/step - loss: 6.8122e-08 - mae: 1.8223e-04 - val_loss: 5.4671e-06 - val_mae: 0.0017\n",
      "Epoch 28/50\n",
      "\u001b[1m211/211\u001b[0m \u001b[32m━━━━━━━━━━━━━━━━━━━━\u001b[0m\u001b[37m\u001b[0m \u001b[1m1s\u001b[0m 3ms/step - loss: 5.4261e-08 - mae: 1.7311e-04 - val_loss: 2.9135e-06 - val_mae: 0.0011\n",
      "Epoch 29/50\n",
      "\u001b[1m211/211\u001b[0m \u001b[32m━━━━━━━━━━━━━━━━━━━━\u001b[0m\u001b[37m\u001b[0m \u001b[1m1s\u001b[0m 3ms/step - loss: 3.7597e-08 - mae: 1.2838e-04 - val_loss: 5.5381e-06 - val_mae: 0.0017\n",
      "Epoch 30/50\n",
      "\u001b[1m211/211\u001b[0m \u001b[32m━━━━━━━━━━━━━━━━━━━━\u001b[0m\u001b[37m\u001b[0m \u001b[1m1s\u001b[0m 3ms/step - loss: 8.5928e-08 - mae: 2.1742e-04 - val_loss: 2.4816e-06 - val_mae: 0.0010\n",
      "Epoch 31/50\n",
      "\u001b[1m211/211\u001b[0m \u001b[32m━━━━━━━━━━━━━━━━━━━━\u001b[0m\u001b[37m\u001b[0m \u001b[1m1s\u001b[0m 3ms/step - loss: 6.8606e-08 - mae: 1.8982e-04 - val_loss: 2.6457e-06 - val_mae: 0.0011\n",
      "Epoch 32/50\n",
      "\u001b[1m211/211\u001b[0m \u001b[32m━━━━━━━━━━━━━━━━━━━━\u001b[0m\u001b[37m\u001b[0m \u001b[1m1s\u001b[0m 3ms/step - loss: 4.8912e-08 - mae: 1.4687e-04 - val_loss: 3.1087e-06 - val_mae: 0.0012\n",
      "Epoch 33/50\n",
      "\u001b[1m211/211\u001b[0m \u001b[32m━━━━━━━━━━━━━━━━━━━━\u001b[0m\u001b[37m\u001b[0m \u001b[1m1s\u001b[0m 3ms/step - loss: 4.3344e-08 - mae: 1.4736e-04 - val_loss: 3.4340e-06 - val_mae: 0.0013\n",
      "Epoch 34/50\n",
      "\u001b[1m211/211\u001b[0m \u001b[32m━━━━━━━━━━━━━━━━━━━━\u001b[0m\u001b[37m\u001b[0m \u001b[1m1s\u001b[0m 3ms/step - loss: 5.0831e-08 - mae: 1.5746e-04 - val_loss: 2.4502e-06 - val_mae: 0.0010\n",
      "Epoch 35/50\n",
      "\u001b[1m211/211\u001b[0m \u001b[32m━━━━━━━━━━━━━━━━━━━━\u001b[0m\u001b[37m\u001b[0m \u001b[1m1s\u001b[0m 3ms/step - loss: 6.0005e-08 - mae: 1.7948e-04 - val_loss: 2.7871e-06 - val_mae: 0.0011\n",
      "Epoch 36/50\n",
      "\u001b[1m211/211\u001b[0m \u001b[32m━━━━━━━━━━━━━━━━━━━━\u001b[0m\u001b[37m\u001b[0m \u001b[1m1s\u001b[0m 3ms/step - loss: 3.5036e-08 - mae: 1.2800e-04 - val_loss: 3.2384e-06 - val_mae: 0.0012\n",
      "Epoch 37/50\n",
      "\u001b[1m211/211\u001b[0m \u001b[32m━━━━━━━━━━━━━━━━━━━━\u001b[0m\u001b[37m\u001b[0m \u001b[1m1s\u001b[0m 3ms/step - loss: 5.9982e-08 - mae: 1.8156e-04 - val_loss: 2.7311e-06 - val_mae: 0.0011\n",
      "Epoch 38/50\n",
      "\u001b[1m211/211\u001b[0m \u001b[32m━━━━━━━━━━━━━━━━━━━━\u001b[0m\u001b[37m\u001b[0m \u001b[1m1s\u001b[0m 3ms/step - loss: 4.6742e-08 - mae: 1.5321e-04 - val_loss: 3.1429e-06 - val_mae: 0.0012\n",
      "Epoch 39/50\n",
      "\u001b[1m211/211\u001b[0m \u001b[32m━━━━━━━━━━━━━━━━━━━━\u001b[0m\u001b[37m\u001b[0m \u001b[1m1s\u001b[0m 3ms/step - loss: 5.4467e-08 - mae: 1.6806e-04 - val_loss: 7.0772e-06 - val_mae: 0.0020\n",
      "Epoch 40/50\n",
      "\u001b[1m211/211\u001b[0m \u001b[32m━━━━━━━━━━━━━━━━━━━━\u001b[0m\u001b[37m\u001b[0m \u001b[1m1s\u001b[0m 3ms/step - loss: 5.3916e-08 - mae: 1.5982e-04 - val_loss: 2.9886e-06 - val_mae: 0.0012\n",
      "Epoch 41/50\n",
      "\u001b[1m211/211\u001b[0m \u001b[32m━━━━━━━━━━━━━━━━━━━━\u001b[0m\u001b[37m\u001b[0m \u001b[1m1s\u001b[0m 3ms/step - loss: 5.5421e-08 - mae: 1.6406e-04 - val_loss: 3.4341e-06 - val_mae: 0.0013\n",
      "Epoch 42/50\n",
      "\u001b[1m211/211\u001b[0m \u001b[32m━━━━━━━━━━━━━━━━━━━━\u001b[0m\u001b[37m\u001b[0m \u001b[1m1s\u001b[0m 3ms/step - loss: 5.2352e-08 - mae: 1.6620e-04 - val_loss: 2.4366e-06 - val_mae: 0.0010\n",
      "Epoch 43/50\n",
      "\u001b[1m211/211\u001b[0m \u001b[32m━━━━━━━━━━━━━━━━━━━━\u001b[0m\u001b[37m\u001b[0m \u001b[1m1s\u001b[0m 3ms/step - loss: 3.4881e-08 - mae: 1.1879e-04 - val_loss: 2.6242e-06 - val_mae: 0.0011\n",
      "Epoch 44/50\n",
      "\u001b[1m211/211\u001b[0m \u001b[32m━━━━━━━━━━━━━━━━━━━━\u001b[0m\u001b[37m\u001b[0m \u001b[1m1s\u001b[0m 3ms/step - loss: 3.9510e-08 - mae: 1.3846e-04 - val_loss: 2.6872e-06 - val_mae: 0.0011\n",
      "Epoch 45/50\n",
      "\u001b[1m211/211\u001b[0m \u001b[32m━━━━━━━━━━━━━━━━━━━━\u001b[0m\u001b[37m\u001b[0m \u001b[1m1s\u001b[0m 3ms/step - loss: 4.3036e-08 - mae: 1.4598e-04 - val_loss: 7.6294e-06 - val_mae: 0.0021\n",
      "Epoch 46/50\n",
      "\u001b[1m211/211\u001b[0m \u001b[32m━━━━━━━━━━━━━━━━━━━━\u001b[0m\u001b[37m\u001b[0m \u001b[1m1s\u001b[0m 3ms/step - loss: 4.5526e-08 - mae: 1.4661e-04 - val_loss: 3.5725e-06 - val_mae: 0.0013\n",
      "Epoch 47/50\n",
      "\u001b[1m211/211\u001b[0m \u001b[32m━━━━━━━━━━━━━━━━━━━━\u001b[0m\u001b[37m\u001b[0m \u001b[1m1s\u001b[0m 3ms/step - loss: 5.0290e-08 - mae: 1.4676e-04 - val_loss: 2.6335e-06 - val_mae: 0.0011\n",
      "Epoch 48/50\n",
      "\u001b[1m211/211\u001b[0m \u001b[32m━━━━━━━━━━━━━━━━━━━━\u001b[0m\u001b[37m\u001b[0m \u001b[1m1s\u001b[0m 3ms/step - loss: 6.9500e-08 - mae: 1.9353e-04 - val_loss: 2.6554e-06 - val_mae: 0.0011\n",
      "Epoch 49/50\n",
      "\u001b[1m211/211\u001b[0m \u001b[32m━━━━━━━━━━━━━━━━━━━━\u001b[0m\u001b[37m\u001b[0m \u001b[1m1s\u001b[0m 3ms/step - loss: 3.3831e-08 - mae: 1.2167e-04 - val_loss: 3.0097e-06 - val_mae: 0.0012\n",
      "Epoch 50/50\n",
      "\u001b[1m211/211\u001b[0m \u001b[32m━━━━━━━━━━━━━━━━━━━━\u001b[0m\u001b[37m\u001b[0m \u001b[1m1s\u001b[0m 3ms/step - loss: 3.2302e-08 - mae: 1.1619e-04 - val_loss: 3.3932e-06 - val_mae: 0.0013\n"
     ]
    }
   ],
   "source": [
    "history = model.fit(\n",
    "    X_train, y_train,\n",
    "    validation_data=(X_val, y_val),\n",
    "    epochs=epochs,\n",
    "    batch_size=batch_size,\n",
    "    verbose=1\n",
    ")"
   ]
  },
  {
   "cell_type": "code",
   "execution_count": 23,
   "id": "c4730a90-bc58-4043-9df5-df9096a2a588",
   "metadata": {},
   "outputs": [],
   "source": [
    "import matplotlib.pyplot as plt"
   ]
  },
  {
   "cell_type": "code",
   "execution_count": 24,
   "id": "09756641-a3c5-4f7d-ae9d-ed2364835abc",
   "metadata": {},
   "outputs": [
    {
     "data": {
      "image/png": "[encoded data removed]",
      "text/plain": [
       "<Figure size 640x480 with 1 Axes>"
      ]
     },
     "metadata": {},
     "output_type": "display_data"
    }
   ],
   "source": [
    "plt.plot(history.history['loss'], label='Training Loss')\n",
    "plt.plot(history.history['val_loss'], label='Validation Loss')\n",
    "plt.title('Model Loss')\n",
    "plt.xlabel('Epochs')\n",
    "plt.ylabel('Loss')\n",
    "plt.legend()\n",
    "plt.show()"
   ]
  },
  {
   "cell_type": "code",
   "execution_count": 25,
   "id": "b87b6157-25e0-4a74-bc84-271332ce3331",
   "metadata": {},
   "outputs": [],
   "source": [
    "from sklearn.metrics import mean_squared_error, mean_absolute_error"
   ]
  },
  {
   "cell_type": "code",
   "execution_count": 26,
   "id": "d1405157-3714-4347-abcc-f383763df8a5",
   "metadata": {},
   "outputs": [
    {
     "name": "stdout",
     "output_type": "stream",
     "text": [
      "\u001b[1m46/46\u001b[0m \u001b[32m━━━━━━━━━━━━━━━━━━━━\u001b[0m\u001b[37m\u001b[0m \u001b[1m0s\u001b[0m 4ms/step \n",
      "Unscaled Test MSE: 10.56199987894148\n",
      "Unscaled Test MAE: 2.0053113620586465\n"
     ]
    }
   ],
   "source": [
    "# Unscale y_test and predictions using the target_scaler\n",
    "y_test_unscaled = target_scaler.inverse_transform(y_test.reshape(-1, 1))\n",
    "predictions_unscaled = target_scaler.inverse_transform(model.predict(X_test).reshape(-1, 1))\n",
    "\n",
    "# Calculate MSE and MAE on unscaled data\n",
    "mse = mean_squared_error(y_test_unscaled, predictions_unscaled)\n",
    "mae = mean_absolute_error(y_test_unscaled, predictions_unscaled)\n",
    "\n",
    "print(f\"Unscaled Test MSE: {mse}\")\n",
    "print(f\"Unscaled Test MAE: {mae}\")"
   ]
  },
  {
   "cell_type": "code",
   "execution_count": 27,
   "id": "0d84badf-6993-467f-9998-489ae5807e0f",
   "metadata": {},
   "outputs": [],
   "source": [
    "# Function to create a GRU model with given hyperparameters\n",
    "def create_gru_model(units_layer1=64, units_layer2=32, dropout_rate=0.2, learning_rate=0.001):\n",
    "    model = Sequential([\n",
    "        Input(shape=(X_train.shape[1], X_train.shape[2])),\n",
    "        GRU(64, activation='tanh', input_shape=(X_train.shape[1], X_train.shape[2])),\n",
    "        Dense(1)  # Single output\n",
    "    ])\n",
    "    optimizer = Adam(learning_rate=learning_rate)\n",
    "    model.compile(optimizer=optimizer, loss='mse', metrics=['mae'])\n",
    "    return model"
   ]
  },
  {
   "cell_type": "code",
   "execution_count": 28,
   "id": "49ab9884-9eab-4a56-a021-edfd63277679",
   "metadata": {},
   "outputs": [
    {
     "name": "stderr",
     "output_type": "stream",
     "text": [
      "D:\\Anaconda\\Lib\\site-packages\\keras\\src\\layers\\rnn\\rnn.py:204: UserWarning: Do not pass an `input_shape`/`input_dim` argument to a layer. When using Sequential models, prefer using an `Input(shape)` object as the first layer in the model instead.\n",
      "  super().__init__(**kwargs)\n"
     ]
    },
    {
     "data": {
      "text/html": [
       "<pre style=\"white-space:pre;overflow-x:auto;line-height:normal;font-family:Menlo,'DejaVu Sans Mono',consolas,'Courier New',monospace\"><span style=\"font-weight: bold\">Model: \"sequential_1\"</span>\n",
       "</pre>\n"
      ],
      "text/plain": [
       "\u001b[1mModel: \"sequential_1\"\u001b[0m\n"
      ]
     },
     "metadata": {},
     "output_type": "display_data"
    },
    {
     "data": {
      "text/html": [
       "<pre style=\"white-space:pre;overflow-x:auto;line-height:normal;font-family:Menlo,'DejaVu Sans Mono',consolas,'Courier New',monospace\">┏━━━━━━━━━━━━━━━━━━━━━━━━━━━━━━━━━━━━━━┳━━━━━━━━━━━━━━━━━━━━━━━━━━━━━┳━━━━━━━━━━━━━━━━━┓\n",
       "┃<span style=\"font-weight: bold\"> Layer (type)                         </span>┃<span style=\"font-weight: bold\"> Output Shape                </span>┃<span style=\"font-weight: bold\">         Param # </span>┃\n",
       "┡━━━━━━━━━━━━━━━━━━━━━━━━━━━━━━━━━━━━━━╇━━━━━━━━━━━━━━━━━━━━━━━━━━━━━╇━━━━━━━━━━━━━━━━━┩\n",
       "│ gru_1 (<span style=\"color: #0087ff; text-decoration-color: #0087ff\">GRU</span>)                          │ (<span style=\"color: #00d7ff; text-decoration-color: #00d7ff\">None</span>, <span style=\"color: #00af00; text-decoration-color: #00af00\">64</span>)                  │          <span style=\"color: #00af00; text-decoration-color: #00af00\">14,592</span> │\n",
       "├──────────────────────────────────────┼─────────────────────────────┼─────────────────┤\n",
       "│ dense_1 (<span style=\"color: #0087ff; text-decoration-color: #0087ff\">Dense</span>)                      │ (<span style=\"color: #00d7ff; text-decoration-color: #00d7ff\">None</span>, <span style=\"color: #00af00; text-decoration-color: #00af00\">1</span>)                   │              <span style=\"color: #00af00; text-decoration-color: #00af00\">65</span> │\n",
       "└──────────────────────────────────────┴─────────────────────────────┴─────────────────┘\n",
       "</pre>\n"
      ],
      "text/plain": [
       "┏━━━━━━━━━━━━━━━━━━━━━━━━━━━━━━━━━━━━━━┳━━━━━━━━━━━━━━━━━━━━━━━━━━━━━┳━━━━━━━━━━━━━━━━━┓\n",
       "┃\u001b[1m \u001b[0m\u001b[1mLayer (type)                        \u001b[0m\u001b[1m \u001b[0m┃\u001b[1m \u001b[0m\u001b[1mOutput Shape               \u001b[0m\u001b[1m \u001b[0m┃\u001b[1m \u001b[0m\u001b[1m        Param #\u001b[0m\u001b[1m \u001b[0m┃\n",
       "┡━━━━━━━━━━━━━━━━━━━━━━━━━━━━━━━━━━━━━━╇━━━━━━━━━━━━━━━━━━━━━━━━━━━━━╇━━━━━━━━━━━━━━━━━┩\n",
       "│ gru_1 (\u001b[38;5;33mGRU\u001b[0m)                          │ (\u001b[38;5;45mNone\u001b[0m, \u001b[38;5;34m64\u001b[0m)                  │          \u001b[38;5;34m14,592\u001b[0m │\n",
       "├──────────────────────────────────────┼─────────────────────────────┼─────────────────┤\n",
       "│ dense_1 (\u001b[38;5;33mDense\u001b[0m)                      │ (\u001b[38;5;45mNone\u001b[0m, \u001b[38;5;34m1\u001b[0m)                   │              \u001b[38;5;34m65\u001b[0m │\n",
       "└──────────────────────────────────────┴─────────────────────────────┴─────────────────┘\n"
      ]
     },
     "metadata": {},
     "output_type": "display_data"
    },
    {
     "data": {
      "text/html": [
       "<pre style=\"white-space:pre;overflow-x:auto;line-height:normal;font-family:Menlo,'DejaVu Sans Mono',consolas,'Courier New',monospace\"><span style=\"font-weight: bold\"> Total params: </span><span style=\"color: #00af00; text-decoration-color: #00af00\">14,657</span> (57.25 KB)\n",
       "</pre>\n"
      ],
      "text/plain": [
       "\u001b[1m Total params: \u001b[0m\u001b[38;5;34m14,657\u001b[0m (57.25 KB)\n"
      ]
     },
     "metadata": {},
     "output_type": "display_data"
    },
    {
     "data": {
      "text/html": [
       "<pre style=\"white-space:pre;overflow-x:auto;line-height:normal;font-family:Menlo,'DejaVu Sans Mono',consolas,'Courier New',monospace\"><span style=\"font-weight: bold\"> Trainable params: </span><span style=\"color: #00af00; text-decoration-color: #00af00\">14,657</span> (57.25 KB)\n",
       "</pre>\n"
      ],
      "text/plain": [
       "\u001b[1m Trainable params: \u001b[0m\u001b[38;5;34m14,657\u001b[0m (57.25 KB)\n"
      ]
     },
     "metadata": {},
     "output_type": "display_data"
    },
    {
     "data": {
      "text/html": [
       "<pre style=\"white-space:pre;overflow-x:auto;line-height:normal;font-family:Menlo,'DejaVu Sans Mono',consolas,'Courier New',monospace\"><span style=\"font-weight: bold\"> Non-trainable params: </span><span style=\"color: #00af00; text-decoration-color: #00af00\">0</span> (0.00 B)\n",
       "</pre>\n"
      ],
      "text/plain": [
       "\u001b[1m Non-trainable params: \u001b[0m\u001b[38;5;34m0\u001b[0m (0.00 B)\n"
      ]
     },
     "metadata": {},
     "output_type": "display_data"
    }
   ],
   "source": [
    "# Example: Define a model with specific hyperparameters\n",
    "model = create_gru_model(units_layer1=128, units_layer2=64, dropout_rate=0.3, learning_rate=0.001)\n",
    "model.summary()"
   ]
  },
  {
   "cell_type": "code",
   "execution_count": 29,
   "id": "fe9b4f41-3ac3-41e3-9e0b-2f69f1f4953a",
   "metadata": {},
   "outputs": [],
   "source": [
    "import itertools\n",
    "from tensorflow.keras.callbacks import EarlyStopping\n",
    "\n",
    "# Define hyperparameter space\n",
    "param_grid = {\n",
    "    'units_layer1': [64, 128],\n",
    "    'units_layer2': [32, 64],\n",
    "    'dropout_rate': [0.2, 0.3],\n",
    "    'learning_rate': [0.001, 0.0005]\n",
    "}"
   ]
  },
  {
   "cell_type": "code",
   "execution_count": 30,
   "id": "56dc9c00-34d4-4c42-b9ea-9788664a4909",
   "metadata": {},
   "outputs": [],
   "source": [
    "# Generate all combinations of hyperparameters\n",
    "param_combinations = list(itertools.product(*param_grid.values()))"
   ]
  },
  {
   "cell_type": "code",
   "execution_count": 31,
   "id": "141fc77d-d98d-442d-8bcc-92e588f94829",
   "metadata": {},
   "outputs": [],
   "source": [
    "# Store results\n",
    "results = []"
   ]
  },
  {
   "cell_type": "code",
   "execution_count": 32,
   "id": "a6613c04-4f03-4291-84f1-8d70867c17b6",
   "metadata": {},
   "outputs": [
    {
     "name": "stdout",
     "output_type": "stream",
     "text": [
      "Training with params: (64, 32, 0.2, 0.001)\n",
      "Training with params: (64, 32, 0.2, 0.0005)\n"
     ]
    },
    {
     "name": "stderr",
     "output_type": "stream",
     "text": [
      "D:\\Anaconda\\Lib\\site-packages\\keras\\src\\layers\\rnn\\rnn.py:204: UserWarning: Do not pass an `input_shape`/`input_dim` argument to a layer. When using Sequential models, prefer using an `Input(shape)` object as the first layer in the model instead.\n",
      "  super().__init__(**kwargs)\n"
     ]
    },
    {
     "name": "stdout",
     "output_type": "stream",
     "text": [
      "Training with params: (64, 32, 0.3, 0.001)\n"
     ]
    },
    {
     "name": "stderr",
     "output_type": "stream",
     "text": [
      "D:\\Anaconda\\Lib\\site-packages\\keras\\src\\layers\\rnn\\rnn.py:204: UserWarning: Do not pass an `input_shape`/`input_dim` argument to a layer. When using Sequential models, prefer using an `Input(shape)` object as the first layer in the model instead.\n",
      "  super().__init__(**kwargs)\n"
     ]
    },
    {
     "name": "stdout",
     "output_type": "stream",
     "text": [
      "Training with params: (64, 32, 0.3, 0.0005)\n"
     ]
    },
    {
     "name": "stderr",
     "output_type": "stream",
     "text": [
      "D:\\Anaconda\\Lib\\site-packages\\keras\\src\\layers\\rnn\\rnn.py:204: UserWarning: Do not pass an `input_shape`/`input_dim` argument to a layer. When using Sequential models, prefer using an `Input(shape)` object as the first layer in the model instead.\n",
      "  super().__init__(**kwargs)\n"
     ]
    },
    {
     "name": "stdout",
     "output_type": "stream",
     "text": [
      "Training with params: (64, 64, 0.2, 0.001)\n"
     ]
    },
    {
     "name": "stderr",
     "output_type": "stream",
     "text": [
      "D:\\Anaconda\\Lib\\site-packages\\keras\\src\\layers\\rnn\\rnn.py:204: UserWarning: Do not pass an `input_shape`/`input_dim` argument to a layer. When using Sequential models, prefer using an `Input(shape)` object as the first layer in the model instead.\n",
      "  super().__init__(**kwargs)\n"
     ]
    },
    {
     "name": "stdout",
     "output_type": "stream",
     "text": [
      "Training with params: (64, 64, 0.2, 0.0005)\n"
     ]
    },
    {
     "name": "stderr",
     "output_type": "stream",
     "text": [
      "D:\\Anaconda\\Lib\\site-packages\\keras\\src\\layers\\rnn\\rnn.py:204: UserWarning: Do not pass an `input_shape`/`input_dim` argument to a layer. When using Sequential models, prefer using an `Input(shape)` object as the first layer in the model instead.\n",
      "  super().__init__(**kwargs)\n"
     ]
    },
    {
     "name": "stdout",
     "output_type": "stream",
     "text": [
      "Training with params: (64, 64, 0.3, 0.001)\n"
     ]
    },
    {
     "name": "stderr",
     "output_type": "stream",
     "text": [
      "D:\\Anaconda\\Lib\\site-packages\\keras\\src\\layers\\rnn\\rnn.py:204: UserWarning: Do not pass an `input_shape`/`input_dim` argument to a layer. When using Sequential models, prefer using an `Input(shape)` object as the first layer in the model instead.\n",
      "  super().__init__(**kwargs)\n"
     ]
    },
    {
     "name": "stdout",
     "output_type": "stream",
     "text": [
      "Training with params: (64, 64, 0.3, 0.0005)\n"
     ]
    },
    {
     "name": "stderr",
     "output_type": "stream",
     "text": [
      "D:\\Anaconda\\Lib\\site-packages\\keras\\src\\layers\\rnn\\rnn.py:204: UserWarning: Do not pass an `input_shape`/`input_dim` argument to a layer. When using Sequential models, prefer using an `Input(shape)` object as the first layer in the model instead.\n",
      "  super().__init__(**kwargs)\n"
     ]
    },
    {
     "name": "stdout",
     "output_type": "stream",
     "text": [
      "Training with params: (128, 32, 0.2, 0.001)\n"
     ]
    },
    {
     "name": "stderr",
     "output_type": "stream",
     "text": [
      "D:\\Anaconda\\Lib\\site-packages\\keras\\src\\layers\\rnn\\rnn.py:204: UserWarning: Do not pass an `input_shape`/`input_dim` argument to a layer. When using Sequential models, prefer using an `Input(shape)` object as the first layer in the model instead.\n",
      "  super().__init__(**kwargs)\n"
     ]
    },
    {
     "name": "stdout",
     "output_type": "stream",
     "text": [
      "Training with params: (128, 32, 0.2, 0.0005)\n"
     ]
    },
    {
     "name": "stderr",
     "output_type": "stream",
     "text": [
      "D:\\Anaconda\\Lib\\site-packages\\keras\\src\\layers\\rnn\\rnn.py:204: UserWarning: Do not pass an `input_shape`/`input_dim` argument to a layer. When using Sequential models, prefer using an `Input(shape)` object as the first layer in the model instead.\n",
      "  super().__init__(**kwargs)\n"
     ]
    },
    {
     "name": "stdout",
     "output_type": "stream",
     "text": [
      "Training with params: (128, 32, 0.3, 0.001)\n"
     ]
    },
    {
     "name": "stderr",
     "output_type": "stream",
     "text": [
      "D:\\Anaconda\\Lib\\site-packages\\keras\\src\\layers\\rnn\\rnn.py:204: UserWarning: Do not pass an `input_shape`/`input_dim` argument to a layer. When using Sequential models, prefer using an `Input(shape)` object as the first layer in the model instead.\n",
      "  super().__init__(**kwargs)\n"
     ]
    },
    {
     "name": "stdout",
     "output_type": "stream",
     "text": [
      "Training with params: (128, 32, 0.3, 0.0005)\n"
     ]
    },
    {
     "name": "stderr",
     "output_type": "stream",
     "text": [
      "D:\\Anaconda\\Lib\\site-packages\\keras\\src\\layers\\rnn\\rnn.py:204: UserWarning: Do not pass an `input_shape`/`input_dim` argument to a layer. When using Sequential models, prefer using an `Input(shape)` object as the first layer in the model instead.\n",
      "  super().__init__(**kwargs)\n"
     ]
    },
    {
     "name": "stdout",
     "output_type": "stream",
     "text": [
      "Training with params: (128, 64, 0.2, 0.001)\n"
     ]
    },
    {
     "name": "stderr",
     "output_type": "stream",
     "text": [
      "D:\\Anaconda\\Lib\\site-packages\\keras\\src\\layers\\rnn\\rnn.py:204: UserWarning: Do not pass an `input_shape`/`input_dim` argument to a layer. When using Sequential models, prefer using an `Input(shape)` object as the first layer in the model instead.\n",
      "  super().__init__(**kwargs)\n"
     ]
    },
    {
     "name": "stdout",
     "output_type": "stream",
     "text": [
      "Training with params: (128, 64, 0.2, 0.0005)\n"
     ]
    },
    {
     "name": "stderr",
     "output_type": "stream",
     "text": [
      "D:\\Anaconda\\Lib\\site-packages\\keras\\src\\layers\\rnn\\rnn.py:204: UserWarning: Do not pass an `input_shape`/`input_dim` argument to a layer. When using Sequential models, prefer using an `Input(shape)` object as the first layer in the model instead.\n",
      "  super().__init__(**kwargs)\n"
     ]
    },
    {
     "name": "stdout",
     "output_type": "stream",
     "text": [
      "Training with params: (128, 64, 0.3, 0.001)\n"
     ]
    },
    {
     "name": "stderr",
     "output_type": "stream",
     "text": [
      "D:\\Anaconda\\Lib\\site-packages\\keras\\src\\layers\\rnn\\rnn.py:204: UserWarning: Do not pass an `input_shape`/`input_dim` argument to a layer. When using Sequential models, prefer using an `Input(shape)` object as the first layer in the model instead.\n",
      "  super().__init__(**kwargs)\n"
     ]
    },
    {
     "name": "stdout",
     "output_type": "stream",
     "text": [
      "Training with params: (128, 64, 0.3, 0.0005)\n"
     ]
    },
    {
     "name": "stderr",
     "output_type": "stream",
     "text": [
      "D:\\Anaconda\\Lib\\site-packages\\keras\\src\\layers\\rnn\\rnn.py:204: UserWarning: Do not pass an `input_shape`/`input_dim` argument to a layer. When using Sequential models, prefer using an `Input(shape)` object as the first layer in the model instead.\n",
      "  super().__init__(**kwargs)\n"
     ]
    }
   ],
   "source": [
    "# Perform grid search\n",
    "for params in param_combinations:\n",
    "    units_layer1, units_layer2, dropout_rate, learning_rate = params\n",
    "\n",
    "    print(f\"Training with params: {params}\")\n",
    "    \n",
    "    # Create model with current hyperparameters\n",
    "    model = create_gru_model(\n",
    "        units_layer1=units_layer1,\n",
    "        units_layer2=units_layer2,\n",
    "        dropout_rate=dropout_rate,\n",
    "        learning_rate=learning_rate\n",
    "    )\n",
    "    \n",
    "    # Train the model\n",
    "    history = model.fit(\n",
    "        X_train, y_train,\n",
    "        validation_data=(X_val, y_val),\n",
    "        epochs=50,\n",
    "        batch_size=32,\n",
    "        verbose=0,  # Suppress detailed output\n",
    "        callbacks=[EarlyStopping(monitor='val_loss', patience=5, restore_best_weights=True)]\n",
    "    )\n",
    "    \n",
    "    # Predict on validation set\n",
    "    val_predictions = model.predict(X_val, verbose=0)\n",
    "    \n",
    "    # Unscale y_val and predictions\n",
    "    y_val_unscaled = target_scaler.inverse_transform(y_val.reshape(-1, 1))\n",
    "    val_predictions_unscaled = target_scaler.inverse_transform(val_predictions.reshape(-1, 1))\n",
    "    \n",
    "    # Calculate MSE and MAE on unscaled validation set\n",
    "    from sklearn.metrics import mean_squared_error, mean_absolute_error\n",
    "    val_mse_unscaled = mean_squared_error(y_val_unscaled, val_predictions_unscaled)\n",
    "    val_mae_unscaled = mean_absolute_error(y_val_unscaled, val_predictions_unscaled)\n",
    "\n",
    "    # Append results\n",
    "    results.append((params, val_mse_unscaled, val_mae_unscaled))"
   ]
  },
  {
   "cell_type": "code",
   "execution_count": 33,
   "id": "6eebbb13-7963-43f2-bd67-53dcf2b5a043",
   "metadata": {},
   "outputs": [],
   "source": [
    "# Find the best hyperparameters\n",
    "best_params = sorted(results, key=lambda x: x[1])[0]"
   ]
  },
  {
   "cell_type": "code",
   "execution_count": 34,
   "id": "18659dc0-d977-47a9-a536-4aaeeb5e3854",
   "metadata": {},
   "outputs": [
    {
     "name": "stdout",
     "output_type": "stream",
     "text": [
      "Best Parameters: (128, 64, 0.3, 0.001)\n",
      "Validation Loss: 0.05430809056113475\n",
      "Validation MAE: 0.1504221775389971\n"
     ]
    }
   ],
   "source": [
    "# Display the best hyperparameters and their validation loss\n",
    "print(\"Best Parameters:\", best_params[0])\n",
    "print(\"Validation Loss:\", best_params[1])\n",
    "print(\"Validation MAE:\", best_params[2])"
   ]
  },
  {
   "cell_type": "code",
   "execution_count": 35,
   "id": "f290e68a-c741-4f61-a138-ad190ab480d0",
   "metadata": {},
   "outputs": [],
   "source": [
    "import numpy as np\n",
    "X_final_train = np.concatenate((X_train, X_val), axis=0)\n",
    "y_final_train = np.concatenate((y_train, y_val), axis=0)"
   ]
  },
  {
   "cell_type": "code",
   "execution_count": 36,
   "id": "ed963beb-d7aa-4653-bb49-cbe98d1884f6",
   "metadata": {},
   "outputs": [
    {
     "name": "stderr",
     "output_type": "stream",
     "text": [
      "D:\\Anaconda\\Lib\\site-packages\\keras\\src\\layers\\rnn\\rnn.py:204: UserWarning: Do not pass an `input_shape`/`input_dim` argument to a layer. When using Sequential models, prefer using an `Input(shape)` object as the first layer in the model instead.\n",
      "  super().__init__(**kwargs)\n"
     ]
    }
   ],
   "source": [
    "# Retrain the model with the best hyperparameters\n",
    "best_model = create_gru_model(\n",
    "    units_layer1=best_params[0][0], \n",
    "    units_layer2=best_params[0][1], \n",
    "    dropout_rate=best_params[0][2], \n",
    "    learning_rate=best_params[0][3]\n",
    ")"
   ]
  },
  {
   "cell_type": "code",
   "execution_count": 37,
   "id": "38e7c7b1-1520-4b94-97e5-74b78c638722",
   "metadata": {
    "scrolled": true
   },
   "outputs": [
    {
     "data": {
      "text/html": [
       "<pre style=\"white-space:pre;overflow-x:auto;line-height:normal;font-family:Menlo,'DejaVu Sans Mono',consolas,'Courier New',monospace\"><span style=\"font-weight: bold\">Model: \"sequential_18\"</span>\n",
       "</pre>\n"
      ],
      "text/plain": [
       "\u001b[1mModel: \"sequential_18\"\u001b[0m\n"
      ]
     },
     "metadata": {},
     "output_type": "display_data"
    },
    {
     "data": {
      "text/html": [
       "<pre style=\"white-space:pre;overflow-x:auto;line-height:normal;font-family:Menlo,'DejaVu Sans Mono',consolas,'Courier New',monospace\">┏━━━━━━━━━━━━━━━━━━━━━━━━━━━━━━━━━━━━━━┳━━━━━━━━━━━━━━━━━━━━━━━━━━━━━┳━━━━━━━━━━━━━━━━━┓\n",
       "┃<span style=\"font-weight: bold\"> Layer (type)                         </span>┃<span style=\"font-weight: bold\"> Output Shape                </span>┃<span style=\"font-weight: bold\">         Param # </span>┃\n",
       "┡━━━━━━━━━━━━━━━━━━━━━━━━━━━━━━━━━━━━━━╇━━━━━━━━━━━━━━━━━━━━━━━━━━━━━╇━━━━━━━━━━━━━━━━━┩\n",
       "│ gru_18 (<span style=\"color: #0087ff; text-decoration-color: #0087ff\">GRU</span>)                         │ (<span style=\"color: #00d7ff; text-decoration-color: #00d7ff\">None</span>, <span style=\"color: #00af00; text-decoration-color: #00af00\">64</span>)                  │          <span style=\"color: #00af00; text-decoration-color: #00af00\">14,592</span> │\n",
       "├──────────────────────────────────────┼─────────────────────────────┼─────────────────┤\n",
       "│ dense_18 (<span style=\"color: #0087ff; text-decoration-color: #0087ff\">Dense</span>)                     │ (<span style=\"color: #00d7ff; text-decoration-color: #00d7ff\">None</span>, <span style=\"color: #00af00; text-decoration-color: #00af00\">1</span>)                   │              <span style=\"color: #00af00; text-decoration-color: #00af00\">65</span> │\n",
       "└──────────────────────────────────────┴─────────────────────────────┴─────────────────┘\n",
       "</pre>\n"
      ],
      "text/plain": [
       "┏━━━━━━━━━━━━━━━━━━━━━━━━━━━━━━━━━━━━━━┳━━━━━━━━━━━━━━━━━━━━━━━━━━━━━┳━━━━━━━━━━━━━━━━━┓\n",
       "┃\u001b[1m \u001b[0m\u001b[1mLayer (type)                        \u001b[0m\u001b[1m \u001b[0m┃\u001b[1m \u001b[0m\u001b[1mOutput Shape               \u001b[0m\u001b[1m \u001b[0m┃\u001b[1m \u001b[0m\u001b[1m        Param #\u001b[0m\u001b[1m \u001b[0m┃\n",
       "┡━━━━━━━━━━━━━━━━━━━━━━━━━━━━━━━━━━━━━━╇━━━━━━━━━━━━━━━━━━━━━━━━━━━━━╇━━━━━━━━━━━━━━━━━┩\n",
       "│ gru_18 (\u001b[38;5;33mGRU\u001b[0m)                         │ (\u001b[38;5;45mNone\u001b[0m, \u001b[38;5;34m64\u001b[0m)                  │          \u001b[38;5;34m14,592\u001b[0m │\n",
       "├──────────────────────────────────────┼─────────────────────────────┼─────────────────┤\n",
       "│ dense_18 (\u001b[38;5;33mDense\u001b[0m)                     │ (\u001b[38;5;45mNone\u001b[0m, \u001b[38;5;34m1\u001b[0m)                   │              \u001b[38;5;34m65\u001b[0m │\n",
       "└──────────────────────────────────────┴─────────────────────────────┴─────────────────┘\n"
      ]
     },
     "metadata": {},
     "output_type": "display_data"
    },
    {
     "data": {
      "text/html": [
       "<pre style=\"white-space:pre;overflow-x:auto;line-height:normal;font-family:Menlo,'DejaVu Sans Mono',consolas,'Courier New',monospace\"><span style=\"font-weight: bold\"> Total params: </span><span style=\"color: #00af00; text-decoration-color: #00af00\">14,657</span> (57.25 KB)\n",
       "</pre>\n"
      ],
      "text/plain": [
       "\u001b[1m Total params: \u001b[0m\u001b[38;5;34m14,657\u001b[0m (57.25 KB)\n"
      ]
     },
     "metadata": {},
     "output_type": "display_data"
    },
    {
     "data": {
      "text/html": [
       "<pre style=\"white-space:pre;overflow-x:auto;line-height:normal;font-family:Menlo,'DejaVu Sans Mono',consolas,'Courier New',monospace\"><span style=\"font-weight: bold\"> Trainable params: </span><span style=\"color: #00af00; text-decoration-color: #00af00\">14,657</span> (57.25 KB)\n",
       "</pre>\n"
      ],
      "text/plain": [
       "\u001b[1m Trainable params: \u001b[0m\u001b[38;5;34m14,657\u001b[0m (57.25 KB)\n"
      ]
     },
     "metadata": {},
     "output_type": "display_data"
    },
    {
     "data": {
      "text/html": [
       "<pre style=\"white-space:pre;overflow-x:auto;line-height:normal;font-family:Menlo,'DejaVu Sans Mono',consolas,'Courier New',monospace\"><span style=\"font-weight: bold\"> Non-trainable params: </span><span style=\"color: #00af00; text-decoration-color: #00af00\">0</span> (0.00 B)\n",
       "</pre>\n"
      ],
      "text/plain": [
       "\u001b[1m Non-trainable params: \u001b[0m\u001b[38;5;34m0\u001b[0m (0.00 B)\n"
      ]
     },
     "metadata": {},
     "output_type": "display_data"
    }
   ],
   "source": [
    "best_model.summary()"
   ]
  },
  {
   "cell_type": "code",
   "execution_count": 38,
   "id": "439c773e-1811-4cb0-956a-651e30c614fb",
   "metadata": {},
   "outputs": [
    {
     "name": "stdout",
     "output_type": "stream",
     "text": [
      "Epoch 1/50\n",
      "\u001b[1m256/256\u001b[0m \u001b[32m━━━━━━━━━━━━━━━━━━━━\u001b[0m\u001b[37m\u001b[0m \u001b[1m2s\u001b[0m 2ms/step - loss: 2.1894e-05 - mae: 0.0023\n",
      "Epoch 2/50\n",
      "\u001b[1m256/256\u001b[0m \u001b[32m━━━━━━━━━━━━━━━━━━━━\u001b[0m\u001b[37m\u001b[0m \u001b[1m1s\u001b[0m 2ms/step - loss: 1.0960e-06 - mae: 6.1046e-04\n",
      "Epoch 3/50\n",
      "\u001b[1m256/256\u001b[0m \u001b[32m━━━━━━━━━━━━━━━━━━━━\u001b[0m\u001b[37m\u001b[0m \u001b[1m1s\u001b[0m 2ms/step - loss: 1.4183e-06 - mae: 6.8867e-04\n",
      "Epoch 4/50\n",
      "\u001b[1m256/256\u001b[0m \u001b[32m━━━━━━━━━━━━━━━━━━━━\u001b[0m\u001b[37m\u001b[0m \u001b[1m1s\u001b[0m 2ms/step - loss: 1.0244e-06 - mae: 6.1894e-04\n",
      "Epoch 5/50\n",
      "\u001b[1m256/256\u001b[0m \u001b[32m━━━━━━━━━━━━━━━━━━━━\u001b[0m\u001b[37m\u001b[0m \u001b[1m1s\u001b[0m 2ms/step - loss: 1.1865e-06 - mae: 6.6762e-04\n",
      "Epoch 6/50\n",
      "\u001b[1m256/256\u001b[0m \u001b[32m━━━━━━━━━━━━━━━━━━━━\u001b[0m\u001b[37m\u001b[0m \u001b[1m1s\u001b[0m 2ms/step - loss: 1.2598e-06 - mae: 7.9079e-04\n",
      "Epoch 7/50\n",
      "\u001b[1m256/256\u001b[0m \u001b[32m━━━━━━━━━━━━━━━━━━━━\u001b[0m\u001b[37m\u001b[0m \u001b[1m1s\u001b[0m 2ms/step - loss: 9.7392e-07 - mae: 6.4048e-04\n",
      "Epoch 8/50\n",
      "\u001b[1m256/256\u001b[0m \u001b[32m━━━━━━━━━━━━━━━━━━━━\u001b[0m\u001b[37m\u001b[0m \u001b[1m1s\u001b[0m 2ms/step - loss: 9.7519e-07 - mae: 6.5043e-04\n",
      "Epoch 9/50\n",
      "\u001b[1m256/256\u001b[0m \u001b[32m━━━━━━━━━━━━━━━━━━━━\u001b[0m\u001b[37m\u001b[0m \u001b[1m1s\u001b[0m 2ms/step - loss: 8.8920e-07 - mae: 6.0327e-04\n",
      "Epoch 10/50\n",
      "\u001b[1m256/256\u001b[0m \u001b[32m━━━━━━━━━━━━━━━━━━━━\u001b[0m\u001b[37m\u001b[0m \u001b[1m1s\u001b[0m 2ms/step - loss: 7.6941e-07 - mae: 5.0181e-04\n",
      "Epoch 11/50\n",
      "\u001b[1m256/256\u001b[0m \u001b[32m━━━━━━━━━━━━━━━━━━━━\u001b[0m\u001b[37m\u001b[0m \u001b[1m1s\u001b[0m 2ms/step - loss: 8.3426e-07 - mae: 5.4566e-04\n",
      "Epoch 12/50\n",
      "\u001b[1m256/256\u001b[0m \u001b[32m━━━━━━━━━━━━━━━━━━━━\u001b[0m\u001b[37m\u001b[0m \u001b[1m1s\u001b[0m 2ms/step - loss: 9.0394e-07 - mae: 5.8482e-04\n",
      "Epoch 13/50\n",
      "\u001b[1m256/256\u001b[0m \u001b[32m━━━━━━━━━━━━━━━━━━━━\u001b[0m\u001b[37m\u001b[0m \u001b[1m1s\u001b[0m 2ms/step - loss: 6.3416e-07 - mae: 4.7137e-04\n",
      "Epoch 14/50\n",
      "\u001b[1m256/256\u001b[0m \u001b[32m━━━━━━━━━━━━━━━━━━━━\u001b[0m\u001b[37m\u001b[0m \u001b[1m1s\u001b[0m 2ms/step - loss: 8.8019e-07 - mae: 5.5356e-04\n",
      "Epoch 15/50\n",
      "\u001b[1m256/256\u001b[0m \u001b[32m━━━━━━━━━━━━━━━━━━━━\u001b[0m\u001b[37m\u001b[0m \u001b[1m1s\u001b[0m 2ms/step - loss: 9.9772e-07 - mae: 6.2742e-04\n",
      "Epoch 16/50\n",
      "\u001b[1m256/256\u001b[0m \u001b[32m━━━━━━━━━━━━━━━━━━━━\u001b[0m\u001b[37m\u001b[0m \u001b[1m1s\u001b[0m 2ms/step - loss: 6.1429e-07 - mae: 4.7205e-04\n",
      "Epoch 17/50\n",
      "\u001b[1m256/256\u001b[0m \u001b[32m━━━━━━━━━━━━━━━━━━━━\u001b[0m\u001b[37m\u001b[0m \u001b[1m1s\u001b[0m 2ms/step - loss: 6.2766e-07 - mae: 4.4262e-04\n",
      "Epoch 18/50\n",
      "\u001b[1m256/256\u001b[0m \u001b[32m━━━━━━━━━━━━━━━━━━━━\u001b[0m\u001b[37m\u001b[0m \u001b[1m1s\u001b[0m 2ms/step - loss: 8.1645e-07 - mae: 5.6398e-04\n",
      "Epoch 19/50\n",
      "\u001b[1m256/256\u001b[0m \u001b[32m━━━━━━━━━━━━━━━━━━━━\u001b[0m\u001b[37m\u001b[0m \u001b[1m1s\u001b[0m 2ms/step - loss: 8.2631e-07 - mae: 5.7391e-04\n",
      "Epoch 20/50\n",
      "\u001b[1m256/256\u001b[0m \u001b[32m━━━━━━━━━━━━━━━━━━━━\u001b[0m\u001b[37m\u001b[0m \u001b[1m1s\u001b[0m 2ms/step - loss: 6.7773e-07 - mae: 5.1907e-04\n",
      "Epoch 21/50\n",
      "\u001b[1m256/256\u001b[0m \u001b[32m━━━━━━━━━━━━━━━━━━━━\u001b[0m\u001b[37m\u001b[0m \u001b[1m1s\u001b[0m 2ms/step - loss: 5.5550e-07 - mae: 4.3218e-04\n",
      "Epoch 22/50\n",
      "\u001b[1m256/256\u001b[0m \u001b[32m━━━━━━━━━━━━━━━━━━━━\u001b[0m\u001b[37m\u001b[0m \u001b[1m1s\u001b[0m 2ms/step - loss: 6.4534e-07 - mae: 4.8730e-04\n",
      "Epoch 23/50\n",
      "\u001b[1m256/256\u001b[0m \u001b[32m━━━━━━━━━━━━━━━━━━━━\u001b[0m\u001b[37m\u001b[0m \u001b[1m1s\u001b[0m 2ms/step - loss: 6.9589e-07 - mae: 5.2881e-04\n",
      "Epoch 24/50\n",
      "\u001b[1m256/256\u001b[0m \u001b[32m━━━━━━━━━━━━━━━━━━━━\u001b[0m\u001b[37m\u001b[0m \u001b[1m1s\u001b[0m 2ms/step - loss: 5.2909e-07 - mae: 4.3515e-04\n",
      "Epoch 25/50\n",
      "\u001b[1m256/256\u001b[0m \u001b[32m━━━━━━━━━━━━━━━━━━━━\u001b[0m\u001b[37m\u001b[0m \u001b[1m1s\u001b[0m 2ms/step - loss: 7.8200e-07 - mae: 5.7602e-04\n",
      "Epoch 26/50\n",
      "\u001b[1m256/256\u001b[0m \u001b[32m━━━━━━━━━━━━━━━━━━━━\u001b[0m\u001b[37m\u001b[0m \u001b[1m1s\u001b[0m 2ms/step - loss: 5.0653e-07 - mae: 4.4708e-04\n",
      "Epoch 27/50\n",
      "\u001b[1m256/256\u001b[0m \u001b[32m━━━━━━━━━━━━━━━━━━━━\u001b[0m\u001b[37m\u001b[0m \u001b[1m1s\u001b[0m 2ms/step - loss: 5.3250e-07 - mae: 4.3238e-04\n",
      "Epoch 28/50\n",
      "\u001b[1m256/256\u001b[0m \u001b[32m━━━━━━━━━━━━━━━━━━━━\u001b[0m\u001b[37m\u001b[0m \u001b[1m1s\u001b[0m 2ms/step - loss: 5.3009e-07 - mae: 4.4078e-04\n",
      "Epoch 29/50\n",
      "\u001b[1m256/256\u001b[0m \u001b[32m━━━━━━━━━━━━━━━━━━━━\u001b[0m\u001b[37m\u001b[0m \u001b[1m1s\u001b[0m 2ms/step - loss: 5.0758e-07 - mae: 4.2442e-04\n",
      "Epoch 30/50\n",
      "\u001b[1m256/256\u001b[0m \u001b[32m━━━━━━━━━━━━━━━━━━━━\u001b[0m\u001b[37m\u001b[0m \u001b[1m1s\u001b[0m 2ms/step - loss: 6.3615e-07 - mae: 5.0187e-04\n",
      "Epoch 31/50\n",
      "\u001b[1m256/256\u001b[0m \u001b[32m━━━━━━━━━━━━━━━━━━━━\u001b[0m\u001b[37m\u001b[0m \u001b[1m1s\u001b[0m 2ms/step - loss: 6.5362e-07 - mae: 4.8362e-04\n",
      "Epoch 32/50\n",
      "\u001b[1m256/256\u001b[0m \u001b[32m━━━━━━━━━━━━━━━━━━━━\u001b[0m\u001b[37m\u001b[0m \u001b[1m1s\u001b[0m 2ms/step - loss: 5.2883e-07 - mae: 4.2002e-04\n",
      "Epoch 33/50\n",
      "\u001b[1m256/256\u001b[0m \u001b[32m━━━━━━━━━━━━━━━━━━━━\u001b[0m\u001b[37m\u001b[0m \u001b[1m1s\u001b[0m 2ms/step - loss: 5.3353e-07 - mae: 4.2555e-04\n",
      "Epoch 34/50\n",
      "\u001b[1m256/256\u001b[0m \u001b[32m━━━━━━━━━━━━━━━━━━━━\u001b[0m\u001b[37m\u001b[0m \u001b[1m1s\u001b[0m 2ms/step - loss: 6.7997e-07 - mae: 5.1913e-04\n",
      "Epoch 35/50\n",
      "\u001b[1m256/256\u001b[0m \u001b[32m━━━━━━━━━━━━━━━━━━━━\u001b[0m\u001b[37m\u001b[0m \u001b[1m1s\u001b[0m 2ms/step - loss: 5.4611e-07 - mae: 4.4037e-04\n",
      "Epoch 36/50\n",
      "\u001b[1m256/256\u001b[0m \u001b[32m━━━━━━━━━━━━━━━━━━━━\u001b[0m\u001b[37m\u001b[0m \u001b[1m1s\u001b[0m 2ms/step - loss: 6.0666e-07 - mae: 4.9137e-04\n",
      "Epoch 37/50\n",
      "\u001b[1m256/256\u001b[0m \u001b[32m━━━━━━━━━━━━━━━━━━━━\u001b[0m\u001b[37m\u001b[0m \u001b[1m1s\u001b[0m 2ms/step - loss: 4.3602e-07 - mae: 3.6587e-04\n",
      "Epoch 38/50\n",
      "\u001b[1m256/256\u001b[0m \u001b[32m━━━━━━━━━━━━━━━━━━━━\u001b[0m\u001b[37m\u001b[0m \u001b[1m1s\u001b[0m 2ms/step - loss: 5.1683e-07 - mae: 4.3425e-04\n",
      "Epoch 39/50\n",
      "\u001b[1m256/256\u001b[0m \u001b[32m━━━━━━━━━━━━━━━━━━━━\u001b[0m\u001b[37m\u001b[0m \u001b[1m1s\u001b[0m 2ms/step - loss: 5.3832e-07 - mae: 4.3105e-04\n",
      "Epoch 40/50\n",
      "\u001b[1m256/256\u001b[0m \u001b[32m━━━━━━━━━━━━━━━━━━━━\u001b[0m\u001b[37m\u001b[0m \u001b[1m1s\u001b[0m 2ms/step - loss: 5.8641e-07 - mae: 4.7132e-04\n",
      "Epoch 41/50\n",
      "\u001b[1m256/256\u001b[0m \u001b[32m━━━━━━━━━━━━━━━━━━━━\u001b[0m\u001b[37m\u001b[0m \u001b[1m1s\u001b[0m 2ms/step - loss: 4.7500e-07 - mae: 3.8160e-04\n",
      "Epoch 42/50\n",
      "\u001b[1m256/256\u001b[0m \u001b[32m━━━━━━━━━━━━━━━━━━━━\u001b[0m\u001b[37m\u001b[0m \u001b[1m1s\u001b[0m 2ms/step - loss: 4.4485e-07 - mae: 3.6503e-04\n",
      "Epoch 43/50\n",
      "\u001b[1m256/256\u001b[0m \u001b[32m━━━━━━━━━━━━━━━━━━━━\u001b[0m\u001b[37m\u001b[0m \u001b[1m1s\u001b[0m 2ms/step - loss: 3.8424e-07 - mae: 3.1157e-04\n",
      "Epoch 44/50\n",
      "\u001b[1m256/256\u001b[0m \u001b[32m━━━━━━━━━━━━━━━━━━━━\u001b[0m\u001b[37m\u001b[0m \u001b[1m1s\u001b[0m 2ms/step - loss: 4.1662e-07 - mae: 3.5823e-04\n",
      "Epoch 45/50\n",
      "\u001b[1m256/256\u001b[0m \u001b[32m━━━━━━━━━━━━━━━━━━━━\u001b[0m\u001b[37m\u001b[0m \u001b[1m1s\u001b[0m 2ms/step - loss: 4.2566e-07 - mae: 3.7570e-04\n",
      "Epoch 46/50\n",
      "\u001b[1m256/256\u001b[0m \u001b[32m━━━━━━━━━━━━━━━━━━━━\u001b[0m\u001b[37m\u001b[0m \u001b[1m1s\u001b[0m 2ms/step - loss: 4.6968e-07 - mae: 3.7454e-04\n",
      "Epoch 47/50\n",
      "\u001b[1m256/256\u001b[0m \u001b[32m━━━━━━━━━━━━━━━━━━━━\u001b[0m\u001b[37m\u001b[0m \u001b[1m1s\u001b[0m 2ms/step - loss: 4.9940e-07 - mae: 4.1555e-04\n",
      "Epoch 48/50\n",
      "\u001b[1m256/256\u001b[0m \u001b[32m━━━━━━━━━━━━━━━━━━━━\u001b[0m\u001b[37m\u001b[0m \u001b[1m1s\u001b[0m 2ms/step - loss: 5.1829e-07 - mae: 4.0842e-04\n",
      "Epoch 49/50\n",
      "\u001b[1m256/256\u001b[0m \u001b[32m━━━━━━━━━━━━━━━━━━━━\u001b[0m\u001b[37m\u001b[0m \u001b[1m1s\u001b[0m 2ms/step - loss: 4.3798e-07 - mae: 3.6975e-04\n",
      "Epoch 50/50\n",
      "\u001b[1m256/256\u001b[0m \u001b[32m━━━━━━━━━━━━━━━━━━━━\u001b[0m\u001b[37m\u001b[0m \u001b[1m1s\u001b[0m 2ms/step - loss: 6.0343e-07 - mae: 4.8296e-04\n"
     ]
    }
   ],
   "source": [
    "# Train the model on the full training set\n",
    "history_best = best_model.fit(\n",
    "    X_final_train, y_final_train,\n",
    "    epochs=50,\n",
    "    batch_size=32,\n",
    "    verbose=1\n",
    ")"
   ]
  },
  {
   "cell_type": "code",
   "execution_count": 39,
   "id": "5beb3883-d920-44f5-b2dc-a5528c31c549",
   "metadata": {},
   "outputs": [
    {
     "name": "stdout",
     "output_type": "stream",
     "text": [
      "\u001b[1m46/46\u001b[0m \u001b[32m━━━━━━━━━━━━━━━━━━━━\u001b[0m\u001b[37m\u001b[0m \u001b[1m0s\u001b[0m 4ms/step\n",
      "Unscaled Test MSE: 4.712831727804385\n",
      "Unscaled Test MAE: 1.2000760246725646\n"
     ]
    }
   ],
   "source": [
    "# Unscale y_test and predictions using the target_scaler\n",
    "y_test_unscaled = target_scaler.inverse_transform(y_test.reshape(-1, 1))\n",
    "predictions_unscaled = target_scaler.inverse_transform(best_model.predict(X_test).reshape(-1, 1))\n",
    "\n",
    "# Calculate MSE and MAE on unscaled data\n",
    "mse = mean_squared_error(y_test_unscaled, predictions_unscaled)\n",
    "mae = mean_absolute_error(y_test_unscaled, predictions_unscaled)\n",
    "\n",
    "print(f\"Unscaled Test MSE: {mse}\")\n",
    "print(f\"Unscaled Test MAE: {mae}\")"
   ]
  },
  {
   "cell_type": "code",
   "execution_count": 40,
   "id": "629a462e-d268-41c2-b1ff-f91cf4535ad7",
   "metadata": {},
   "outputs": [],
   "source": [
    "# Previous Closing Price as reference\n",
    "# Use the last value of y_test as predictions (lag-1 prediction)\n",
    "previous_closing_predictions = X_test[:, -1, 0]"
   ]
  },
  {
   "cell_type": "code",
   "execution_count": 41,
   "id": "b4148f18-d359-485c-a412-de98386ae577",
   "metadata": {},
   "outputs": [],
   "source": [
    "from sklearn.metrics import mean_absolute_error, mean_squared_error"
   ]
  },
  {
   "cell_type": "code",
   "execution_count": 42,
   "id": "c96ddc60-3f84-405c-b74a-a9019ab1a955",
   "metadata": {},
   "outputs": [
    {
     "name": "stdout",
     "output_type": "stream",
     "text": [
      "Previous Model Unscaled MSE: 10.829621997831993\n",
      "Previous Model Unscaled MAE: 2.124724443925987\n"
     ]
    }
   ],
   "source": [
    "# Unscale y_test and naive predictions\n",
    "y_test_unscaled = target_scaler.inverse_transform(y_test.reshape(-1, 1))\n",
    "previous_predictions_unscaled = target_scaler.inverse_transform(X_test[:, -1, 0].reshape(-1, 1))  # Assuming X_test[:, -1, 0] represents the previous day's price\n",
    "\n",
    "# Calculate MSE and MAE for the naive model\n",
    "previous_mse = mean_squared_error(y_test_unscaled, previous_predictions_unscaled)\n",
    "previous_mae = mean_absolute_error(y_test_unscaled, previous_predictions_unscaled)\n",
    "\n",
    "print(f\"Previous Model Unscaled MSE: {previous_mse}\")\n",
    "print(f\"Previous Model Unscaled MAE: {previous_mae}\")"
   ]
  },
  {
   "cell_type": "code",
   "execution_count": 43,
   "id": "c3ecb66e-3f98-41a2-91cb-72103f77ca1c",
   "metadata": {},
   "outputs": [],
   "source": [
    "from sklearn.linear_model import LinearRegression"
   ]
  },
  {
   "cell_type": "code",
   "execution_count": 44,
   "id": "40a45aba-b983-4ad8-8f03-d7993080c7b1",
   "metadata": {},
   "outputs": [],
   "source": [
    "# Reshape the data for linear regression (flatten time steps and features)\n",
    "X_train_flat = X_final_train.reshape(X_final_train.shape[0], -1)\n",
    "X_test_flat = X_test.reshape(X_test.shape[0], -1)"
   ]
  },
  {
   "cell_type": "code",
   "execution_count": 45,
   "id": "99d4251c-5645-4d06-98ca-08b3261e41a9",
   "metadata": {},
   "outputs": [
    {
     "data": {
      "text/html": [
       "<style>#sk-container-id-1 {color: black;background-color: white;}#sk-container-id-1 pre{padding: 0;}#sk-container-id-1 div.sk-toggleable {background-color: white;}#sk-container-id-1 label.sk-toggleable__label {cursor: pointer;display: block;width: 100%;margin-bottom: 0;padding: 0.3em;box-sizing: border-box;text-align: center;}#sk-container-id-1 label.sk-toggleable__label-arrow:before {content: \"▸\";float: left;margin-right: 0.25em;color: #696969;}#sk-container-id-1 label.sk-toggleable__label-arrow:hover:before {color: black;}#sk-container-id-1 div.sk-estimator:hover label.sk-toggleable__label-arrow:before {color: black;}#sk-container-id-1 div.sk-toggleable__content {max-height: 0;max-width: 0;overflow: hidden;text-align: left;background-color: #f0f8ff;}#sk-container-id-1 div.sk-toggleable__content pre {margin: 0.2em;color: black;border-radius: 0.25em;background-color: #f0f8ff;}#sk-container-id-1 input.sk-toggleable__control:checked~div.sk-toggleable__content {max-height: 200px;max-width: 100%;overflow: auto;}#sk-container-id-1 input.sk-toggleable__control:checked~label.sk-toggleable__label-arrow:before {content: \"▾\";}#sk-container-id-1 div.sk-estimator input.sk-toggleable__control:checked~label.sk-toggleable__label {background-color: #d4ebff;}#sk-container-id-1 div.sk-label input.sk-toggleable__control:checked~label.sk-toggleable__label {background-color: #d4ebff;}#sk-container-id-1 input.sk-hidden--visually {border: 0;clip: rect(1px 1px 1px 1px);clip: rect(1px, 1px, 1px, 1px);height: 1px;margin: -1px;overflow: hidden;padding: 0;position: absolute;width: 1px;}#sk-container-id-1 div.sk-estimator {font-family: monospace;background-color: #f0f8ff;border: 1px dotted black;border-radius: 0.25em;box-sizing: border-box;margin-bottom: 0.5em;}#sk-container-id-1 div.sk-estimator:hover {background-color: #d4ebff;}#sk-container-id-1 div.sk-parallel-item::after {content: \"\";width: 100%;border-bottom: 1px solid gray;flex-grow: 1;}#sk-container-id-1 div.sk-label:hover label.sk-toggleable__label {background-color: #d4ebff;}#sk-container-id-1 div.sk-serial::before {content: \"\";position: absolute;border-left: 1px solid gray;box-sizing: border-box;top: 0;bottom: 0;left: 50%;z-index: 0;}#sk-container-id-1 div.sk-serial {display: flex;flex-direction: column;align-items: center;background-color: white;padding-right: 0.2em;padding-left: 0.2em;position: relative;}#sk-container-id-1 div.sk-item {position: relative;z-index: 1;}#sk-container-id-1 div.sk-parallel {display: flex;align-items: stretch;justify-content: center;background-color: white;position: relative;}#sk-container-id-1 div.sk-item::before, #sk-container-id-1 div.sk-parallel-item::before {content: \"\";position: absolute;border-left: 1px solid gray;box-sizing: border-box;top: 0;bottom: 0;left: 50%;z-index: -1;}#sk-container-id-1 div.sk-parallel-item {display: flex;flex-direction: column;z-index: 1;position: relative;background-color: white;}#sk-container-id-1 div.sk-parallel-item:first-child::after {align-self: flex-end;width: 50%;}#sk-container-id-1 div.sk-parallel-item:last-child::after {align-self: flex-start;width: 50%;}#sk-container-id-1 div.sk-parallel-item:only-child::after {width: 0;}#sk-container-id-1 div.sk-dashed-wrapped {border: 1px dashed gray;margin: 0 0.4em 0.5em 0.4em;box-sizing: border-box;padding-bottom: 0.4em;background-color: white;}#sk-container-id-1 div.sk-label label {font-family: monospace;font-weight: bold;display: inline-block;line-height: 1.2em;}#sk-container-id-1 div.sk-label-container {text-align: center;}#sk-container-id-1 div.sk-container {/* jupyter's `normalize.less` sets `[hidden] { display: none; }` but bootstrap.min.css set `[hidden] { display: none !important; }` so we also need the `!important` here to be able to override the default hidden behavior on the sphinx rendered scikit-learn.org. See: https://github.com/scikit-learn/scikit-learn/issues/21755 */display: inline-block !important;position: relative;}#sk-container-id-1 div.sk-text-repr-fallback {display: none;}</style><div id=\"sk-container-id-1\" class=\"sk-top-container\"><div class=\"sk-text-repr-fallback\"><pre>LinearRegression()</pre><b>In a Jupyter environment, please rerun this cell to show the HTML representation or trust the notebook. <br />On GitHub, the HTML representation is unable to render, please try loading this page with nbviewer.org.</b></div><div class=\"sk-container\" hidden><div class=\"sk-item\"><div class=\"sk-estimator sk-toggleable\"><input class=\"sk-toggleable__control sk-hidden--visually\" id=\"sk-estimator-id-1\" type=\"checkbox\" checked><label for=\"sk-estimator-id-1\" class=\"sk-toggleable__label sk-toggleable__label-arrow\">LinearRegression</label><div class=\"sk-toggleable__content\"><pre>LinearRegression()</pre></div></div></div></div></div>"
      ],
      "text/plain": [
       "LinearRegression()"
      ]
     },
     "execution_count": 45,
     "metadata": {},
     "output_type": "execute_result"
    }
   ],
   "source": [
    "# Train a Linear Regression model\n",
    "lr_model = LinearRegression()\n",
    "lr_model.fit(X_train_flat, y_final_train)"
   ]
  },
  {
   "cell_type": "code",
   "execution_count": 46,
   "id": "11e37377-e41e-4f67-8cde-659d50a344db",
   "metadata": {},
   "outputs": [],
   "source": [
    "# Predict on the test set\n",
    "lr_predictions = lr_model.predict(X_test_flat)"
   ]
  },
  {
   "cell_type": "code",
   "execution_count": 47,
   "id": "6331bef9-7f8c-49bb-9f6d-d49a94157b1d",
   "metadata": {},
   "outputs": [
    {
     "name": "stdout",
     "output_type": "stream",
     "text": [
      "Linear Regression Unscaled MSE: 4.611140868291689\n",
      "Linear Regression Unscaled MAE: 1.1300083146481286\n"
     ]
    }
   ],
   "source": [
    "# Unscale y_test and linear regression predictions\n",
    "y_test_unscaled = target_scaler.inverse_transform(y_test.reshape(-1, 1))\n",
    "lr_predictions_unscaled = target_scaler.inverse_transform(lr_predictions.reshape(-1, 1))\n",
    "\n",
    "# Calculate MSE and MAE for the linear regression model\n",
    "lr_mse = mean_squared_error(y_test_unscaled, lr_predictions_unscaled)\n",
    "lr_mae = mean_absolute_error(y_test_unscaled, lr_predictions_unscaled)\n",
    "\n",
    "print(f\"Linear Regression Unscaled MSE: {lr_mse}\")\n",
    "print(f\"Linear Regression Unscaled MAE: {lr_mae}\")"
   ]
  },
  {
   "cell_type": "code",
   "execution_count": 48,
   "id": "5882082e-8057-4911-8a05-022bbce81e9e",
   "metadata": {},
   "outputs": [],
   "source": [
    "import pandas as pd\n",
    "from statsmodels.tsa.statespace.sarimax import SARIMAX\n",
    "\n",
    "sarima_data = df['Close_NVDA']"
   ]
  },
  {
   "cell_type": "code",
   "execution_count": 49,
   "id": "98ad9841-e8fb-4027-9527-aa2e6d822366",
   "metadata": {},
   "outputs": [
    {
     "data": {
      "text/plain": [
       "Unnamed: 0\n",
       "0       0.000042\n",
       "1       0.000069\n",
       "2       0.000069\n",
       "3       0.000069\n",
       "4       0.000047\n",
       "          ...   \n",
       "9632    0.948480\n",
       "9633    0.954572\n",
       "9634    0.954572\n",
       "9635    0.954572\n",
       "9636    0.963475\n",
       "Name: Close_NVDA, Length: 9637, dtype: float64"
      ]
     },
     "execution_count": 49,
     "metadata": {},
     "output_type": "execute_result"
    }
   ],
   "source": [
    "sarima_data"
   ]
  },
  {
   "cell_type": "code",
   "execution_count": 50,
   "id": "e9756dd3-e476-460b-a444-2a89e61b43f5",
   "metadata": {},
   "outputs": [],
   "source": [
    "# Split into train and test sets\n",
    "train_sarima = sarima_data[:len(X_final_train)]\n",
    "test_sarima = sarima_data[len(X_final_train):]"
   ]
  },
  {
   "cell_type": "code",
   "execution_count": 51,
   "id": "d530c1ed-1c50-4666-84e0-479c300a52f4",
   "metadata": {},
   "outputs": [],
   "source": [
    "# Fit the SARIMA model\n",
    "sarima_model = SARIMAX(train_sarima, \n",
    "                       order=(1, 0, 1),  # ARIMA parameters (p, d, q)\n",
    "                       seasonal_order=(1, 1, 0, 5),  # Seasonal order (P, D, Q, s)\n",
    "                       enforce_stationarity=False, \n",
    "                       enforce_invertibility=False)\n",
    "sarima_results = sarima_model.fit()"
   ]
  },
  {
   "cell_type": "code",
   "execution_count": 52,
   "id": "566e0161-9ef5-4b75-b52f-533b3a4b94c6",
   "metadata": {},
   "outputs": [],
   "source": [
    "# Make predictions on the test set\n",
    "sarima_predictions = sarima_results.predict(start=len(train_sarima), end=len(train_sarima) + len(test_sarima) - 1)"
   ]
  },
  {
   "cell_type": "code",
   "execution_count": 53,
   "id": "7846dfe6-a3b0-4efa-87fa-5501c8098ec1",
   "metadata": {},
   "outputs": [
    {
     "name": "stdout",
     "output_type": "stream",
     "text": [
      "SARIMA Unscaled MSE: 3608.8417053489393\n",
      "SARIMA Unscaled MAE: 40.82447539586946\n"
     ]
    }
   ],
   "source": [
    "# Unscale y_test and SARIMA predictions\n",
    "test_sarima_unscaled = target_scaler.inverse_transform(\n",
    "    test_sarima.to_numpy().reshape(-1, 1)\n",
    ")\n",
    "sarima_predictions_unscaled = target_scaler.inverse_transform(\n",
    "    sarima_predictions.to_numpy().reshape(-1, 1)\n",
    ")\n",
    "\n",
    "# Calculate MSE and MAE for the SARIMA model\n",
    "sarima_mse = mean_squared_error(test_sarima_unscaled, sarima_predictions_unscaled)\n",
    "sarima_mae = mean_absolute_error(test_sarima_unscaled, sarima_predictions_unscaled)\n",
    "\n",
    "print(f\"SARIMA Unscaled MSE: {sarima_mse}\")\n",
    "print(f\"SARIMA Unscaled MAE: {sarima_mae}\")\n"
   ]
  },
  {
   "cell_type": "code",
   "execution_count": 54,
   "id": "586b6fd5-206f-43fa-a57f-62e58e790cd2",
   "metadata": {},
   "outputs": [],
   "source": [
    "from tensorflow.keras.layers import LSTM"
   ]
  },
  {
   "cell_type": "code",
   "execution_count": 55,
   "id": "bdc9b267-ae10-4445-a71a-944e866edca8",
   "metadata": {},
   "outputs": [],
   "source": [
    "def create_lstm_model(units_layer1=64, units_layer2=32, dropout_rate=0.2, learning_rate=0.001):\n",
    "    model = Sequential([\n",
    "        Input(shape=(X_train.shape[1], X_train.shape[2])),\n",
    "        LSTM(64, activation='tanh', input_shape=(X_train.shape[1], X_train.shape[2])),\n",
    "        Dense(1)  # Single output\n",
    "    ])\n",
    "    optimizer = Adam(learning_rate=learning_rate)\n",
    "    model.compile(optimizer=optimizer, loss='mse', metrics=['mae'])\n",
    "    return model"
   ]
  },
  {
   "cell_type": "code",
   "execution_count": 56,
   "id": "cd1724a5-84fe-4c6d-b34a-589ef39ff152",
   "metadata": {},
   "outputs": [
    {
     "name": "stderr",
     "output_type": "stream",
     "text": [
      "D:\\Anaconda\\Lib\\site-packages\\keras\\src\\layers\\rnn\\rnn.py:204: UserWarning: Do not pass an `input_shape`/`input_dim` argument to a layer. When using Sequential models, prefer using an `Input(shape)` object as the first layer in the model instead.\n",
      "  super().__init__(**kwargs)\n"
     ]
    },
    {
     "data": {
      "text/html": [
       "<pre style=\"white-space:pre;overflow-x:auto;line-height:normal;font-family:Menlo,'DejaVu Sans Mono',consolas,'Courier New',monospace\"><span style=\"font-weight: bold\">Model: \"sequential_19\"</span>\n",
       "</pre>\n"
      ],
      "text/plain": [
       "\u001b[1mModel: \"sequential_19\"\u001b[0m\n"
      ]
     },
     "metadata": {},
     "output_type": "display_data"
    },
    {
     "data": {
      "text/html": [
       "<pre style=\"white-space:pre;overflow-x:auto;line-height:normal;font-family:Menlo,'DejaVu Sans Mono',consolas,'Courier New',monospace\">┏━━━━━━━━━━━━━━━━━━━━━━━━━━━━━━━━━━━━━━┳━━━━━━━━━━━━━━━━━━━━━━━━━━━━━┳━━━━━━━━━━━━━━━━━┓\n",
       "┃<span style=\"font-weight: bold\"> Layer (type)                         </span>┃<span style=\"font-weight: bold\"> Output Shape                </span>┃<span style=\"font-weight: bold\">         Param # </span>┃\n",
       "┡━━━━━━━━━━━━━━━━━━━━━━━━━━━━━━━━━━━━━━╇━━━━━━━━━━━━━━━━━━━━━━━━━━━━━╇━━━━━━━━━━━━━━━━━┩\n",
       "│ lstm (<span style=\"color: #0087ff; text-decoration-color: #0087ff\">LSTM</span>)                          │ (<span style=\"color: #00d7ff; text-decoration-color: #00d7ff\">None</span>, <span style=\"color: #00af00; text-decoration-color: #00af00\">64</span>)                  │          <span style=\"color: #00af00; text-decoration-color: #00af00\">19,200</span> │\n",
       "├──────────────────────────────────────┼─────────────────────────────┼─────────────────┤\n",
       "│ dense_19 (<span style=\"color: #0087ff; text-decoration-color: #0087ff\">Dense</span>)                     │ (<span style=\"color: #00d7ff; text-decoration-color: #00d7ff\">None</span>, <span style=\"color: #00af00; text-decoration-color: #00af00\">1</span>)                   │              <span style=\"color: #00af00; text-decoration-color: #00af00\">65</span> │\n",
       "└──────────────────────────────────────┴─────────────────────────────┴─────────────────┘\n",
       "</pre>\n"
      ],
      "text/plain": [
       "┏━━━━━━━━━━━━━━━━━━━━━━━━━━━━━━━━━━━━━━┳━━━━━━━━━━━━━━━━━━━━━━━━━━━━━┳━━━━━━━━━━━━━━━━━┓\n",
       "┃\u001b[1m \u001b[0m\u001b[1mLayer (type)                        \u001b[0m\u001b[1m \u001b[0m┃\u001b[1m \u001b[0m\u001b[1mOutput Shape               \u001b[0m\u001b[1m \u001b[0m┃\u001b[1m \u001b[0m\u001b[1m        Param #\u001b[0m\u001b[1m \u001b[0m┃\n",
       "┡━━━━━━━━━━━━━━━━━━━━━━━━━━━━━━━━━━━━━━╇━━━━━━━━━━━━━━━━━━━━━━━━━━━━━╇━━━━━━━━━━━━━━━━━┩\n",
       "│ lstm (\u001b[38;5;33mLSTM\u001b[0m)                          │ (\u001b[38;5;45mNone\u001b[0m, \u001b[38;5;34m64\u001b[0m)                  │          \u001b[38;5;34m19,200\u001b[0m │\n",
       "├──────────────────────────────────────┼─────────────────────────────┼─────────────────┤\n",
       "│ dense_19 (\u001b[38;5;33mDense\u001b[0m)                     │ (\u001b[38;5;45mNone\u001b[0m, \u001b[38;5;34m1\u001b[0m)                   │              \u001b[38;5;34m65\u001b[0m │\n",
       "└──────────────────────────────────────┴─────────────────────────────┴─────────────────┘\n"
      ]
     },
     "metadata": {},
     "output_type": "display_data"
    },
    {
     "data": {
      "text/html": [
       "<pre style=\"white-space:pre;overflow-x:auto;line-height:normal;font-family:Menlo,'DejaVu Sans Mono',consolas,'Courier New',monospace\"><span style=\"font-weight: bold\"> Total params: </span><span style=\"color: #00af00; text-decoration-color: #00af00\">19,265</span> (75.25 KB)\n",
       "</pre>\n"
      ],
      "text/plain": [
       "\u001b[1m Total params: \u001b[0m\u001b[38;5;34m19,265\u001b[0m (75.25 KB)\n"
      ]
     },
     "metadata": {},
     "output_type": "display_data"
    },
    {
     "data": {
      "text/html": [
       "<pre style=\"white-space:pre;overflow-x:auto;line-height:normal;font-family:Menlo,'DejaVu Sans Mono',consolas,'Courier New',monospace\"><span style=\"font-weight: bold\"> Trainable params: </span><span style=\"color: #00af00; text-decoration-color: #00af00\">19,265</span> (75.25 KB)\n",
       "</pre>\n"
      ],
      "text/plain": [
       "\u001b[1m Trainable params: \u001b[0m\u001b[38;5;34m19,265\u001b[0m (75.25 KB)\n"
      ]
     },
     "metadata": {},
     "output_type": "display_data"
    },
    {
     "data": {
      "text/html": [
       "<pre style=\"white-space:pre;overflow-x:auto;line-height:normal;font-family:Menlo,'DejaVu Sans Mono',consolas,'Courier New',monospace\"><span style=\"font-weight: bold\"> Non-trainable params: </span><span style=\"color: #00af00; text-decoration-color: #00af00\">0</span> (0.00 B)\n",
       "</pre>\n"
      ],
      "text/plain": [
       "\u001b[1m Non-trainable params: \u001b[0m\u001b[38;5;34m0\u001b[0m (0.00 B)\n"
      ]
     },
     "metadata": {},
     "output_type": "display_data"
    }
   ],
   "source": [
    "lstm_model = create_lstm_model(units_layer1=64, units_layer2=32, dropout_rate=0.2, learning_rate=0.001)\n",
    "lstm_model.summary()"
   ]
  },
  {
   "cell_type": "code",
   "execution_count": 57,
   "id": "e1fcb9fc-0a71-4d9d-b899-83a70402abe1",
   "metadata": {},
   "outputs": [
    {
     "name": "stdout",
     "output_type": "stream",
     "text": [
      "Epoch 1/50\n",
      "\u001b[1m211/211\u001b[0m \u001b[32m━━━━━━━━━━━━━━━━━━━━\u001b[0m\u001b[37m\u001b[0m \u001b[1m2s\u001b[0m 3ms/step - loss: 3.9283e-06 - mae: 0.0010 - val_loss: 7.1084e-06 - val_mae: 0.0018\n",
      "Epoch 2/50\n",
      "\u001b[1m211/211\u001b[0m \u001b[32m━━━━━━━━━━━━━━━━━━━━\u001b[0m\u001b[37m\u001b[0m \u001b[1m1s\u001b[0m 2ms/step - loss: 7.6770e-08 - mae: 1.6772e-04 - val_loss: 6.2099e-06 - val_mae: 0.0017\n",
      "Epoch 3/50\n",
      "\u001b[1m211/211\u001b[0m \u001b[32m━━━━━━━━━━━━━━━━━━━━\u001b[0m\u001b[37m\u001b[0m \u001b[1m1s\u001b[0m 2ms/step - loss: 7.8319e-08 - mae: 1.8136e-04 - val_loss: 7.4122e-06 - val_mae: 0.0019\n",
      "Epoch 4/50\n",
      "\u001b[1m211/211\u001b[0m \u001b[32m━━━━━━━━━━━━━━━━━━━━\u001b[0m\u001b[37m\u001b[0m \u001b[1m1s\u001b[0m 2ms/step - loss: 9.1696e-08 - mae: 1.8608e-04 - val_loss: 5.7488e-06 - val_mae: 0.0017\n",
      "Epoch 5/50\n",
      "\u001b[1m211/211\u001b[0m \u001b[32m━━━━━━━━━━━━━━━━━━━━\u001b[0m\u001b[37m\u001b[0m \u001b[1m1s\u001b[0m 2ms/step - loss: 8.0439e-08 - mae: 1.8326e-04 - val_loss: 5.0537e-06 - val_mae: 0.0015\n",
      "Epoch 6/50\n",
      "\u001b[1m211/211\u001b[0m \u001b[32m━━━━━━━━━━━━━━━━━━━━\u001b[0m\u001b[37m\u001b[0m \u001b[1m1s\u001b[0m 2ms/step - loss: 7.4023e-08 - mae: 1.6832e-04 - val_loss: 1.0559e-05 - val_mae: 0.0024\n",
      "Epoch 7/50\n",
      "\u001b[1m211/211\u001b[0m \u001b[32m━━━━━━━━━━━━━━━━━━━━\u001b[0m\u001b[37m\u001b[0m \u001b[1m1s\u001b[0m 2ms/step - loss: 1.1388e-07 - mae: 2.3430e-04 - val_loss: 5.7128e-06 - val_mae: 0.0017\n",
      "Epoch 8/50\n",
      "\u001b[1m211/211\u001b[0m \u001b[32m━━━━━━━━━━━━━━━━━━━━\u001b[0m\u001b[37m\u001b[0m \u001b[1m1s\u001b[0m 2ms/step - loss: 7.1901e-08 - mae: 1.6399e-04 - val_loss: 5.3899e-06 - val_mae: 0.0016\n",
      "Epoch 9/50\n",
      "\u001b[1m211/211\u001b[0m \u001b[32m━━━━━━━━━━━━━━━━━━━━\u001b[0m\u001b[37m\u001b[0m \u001b[1m1s\u001b[0m 2ms/step - loss: 7.4744e-08 - mae: 1.9238e-04 - val_loss: 4.7621e-06 - val_mae: 0.0015\n",
      "Epoch 10/50\n",
      "\u001b[1m211/211\u001b[0m \u001b[32m━━━━━━━━━━━━━━━━━━━━\u001b[0m\u001b[37m\u001b[0m \u001b[1m1s\u001b[0m 2ms/step - loss: 6.8401e-08 - mae: 1.6866e-04 - val_loss: 4.2622e-06 - val_mae: 0.0014\n",
      "Epoch 11/50\n",
      "\u001b[1m211/211\u001b[0m \u001b[32m━━━━━━━━━━━━━━━━━━━━\u001b[0m\u001b[37m\u001b[0m \u001b[1m1s\u001b[0m 2ms/step - loss: 8.2170e-08 - mae: 1.9691e-04 - val_loss: 4.3688e-06 - val_mae: 0.0014\n",
      "Epoch 12/50\n",
      "\u001b[1m211/211\u001b[0m \u001b[32m━━━━━━━━━━━━━━━━━━━━\u001b[0m\u001b[37m\u001b[0m \u001b[1m1s\u001b[0m 2ms/step - loss: 7.6709e-08 - mae: 1.8393e-04 - val_loss: 3.8660e-06 - val_mae: 0.0013\n",
      "Epoch 13/50\n",
      "\u001b[1m211/211\u001b[0m \u001b[32m━━━━━━━━━━━━━━━━━━━━\u001b[0m\u001b[37m\u001b[0m \u001b[1m1s\u001b[0m 2ms/step - loss: 5.4014e-08 - mae: 1.5170e-04 - val_loss: 4.0379e-06 - val_mae: 0.0014\n",
      "Epoch 14/50\n",
      "\u001b[1m211/211\u001b[0m \u001b[32m━━━━━━━━━━━━━━━━━━━━\u001b[0m\u001b[37m\u001b[0m \u001b[1m1s\u001b[0m 2ms/step - loss: 5.9509e-08 - mae: 1.5684e-04 - val_loss: 7.1386e-06 - val_mae: 0.0020\n",
      "Epoch 15/50\n",
      "\u001b[1m211/211\u001b[0m \u001b[32m━━━━━━━━━━━━━━━━━━━━\u001b[0m\u001b[37m\u001b[0m \u001b[1m1s\u001b[0m 2ms/step - loss: 7.2805e-08 - mae: 1.8403e-04 - val_loss: 4.6468e-06 - val_mae: 0.0015\n",
      "Epoch 16/50\n",
      "\u001b[1m211/211\u001b[0m \u001b[32m━━━━━━━━━━━━━━━━━━━━\u001b[0m\u001b[37m\u001b[0m \u001b[1m1s\u001b[0m 2ms/step - loss: 5.6309e-08 - mae: 1.6029e-04 - val_loss: 3.6275e-06 - val_mae: 0.0013\n",
      "Epoch 17/50\n",
      "\u001b[1m211/211\u001b[0m \u001b[32m━━━━━━━━━━━━━━━━━━━━\u001b[0m\u001b[37m\u001b[0m \u001b[1m1s\u001b[0m 2ms/step - loss: 7.8963e-08 - mae: 1.9897e-04 - val_loss: 3.6753e-06 - val_mae: 0.0013\n",
      "Epoch 18/50\n",
      "\u001b[1m211/211\u001b[0m \u001b[32m━━━━━━━━━━━━━━━━━━━━\u001b[0m\u001b[37m\u001b[0m \u001b[1m1s\u001b[0m 2ms/step - loss: 5.7680e-08 - mae: 1.4767e-04 - val_loss: 3.4577e-06 - val_mae: 0.0012\n",
      "Epoch 19/50\n",
      "\u001b[1m211/211\u001b[0m \u001b[32m━━━━━━━━━━━━━━━━━━━━\u001b[0m\u001b[37m\u001b[0m \u001b[1m1s\u001b[0m 2ms/step - loss: 4.8047e-08 - mae: 1.4656e-04 - val_loss: 3.4089e-06 - val_mae: 0.0012\n",
      "Epoch 20/50\n",
      "\u001b[1m211/211\u001b[0m \u001b[32m━━━━━━━━━━━━━━━━━━━━\u001b[0m\u001b[37m\u001b[0m \u001b[1m1s\u001b[0m 2ms/step - loss: 6.0237e-08 - mae: 1.5470e-04 - val_loss: 3.4284e-06 - val_mae: 0.0012\n",
      "Epoch 21/50\n",
      "\u001b[1m211/211\u001b[0m \u001b[32m━━━━━━━━━━━━━━━━━━━━\u001b[0m\u001b[37m\u001b[0m \u001b[1m1s\u001b[0m 2ms/step - loss: 3.8566e-08 - mae: 1.1530e-04 - val_loss: 8.0673e-06 - val_mae: 0.0022\n",
      "Epoch 22/50\n",
      "\u001b[1m211/211\u001b[0m \u001b[32m━━━━━━━━━━━━━━━━━━━━\u001b[0m\u001b[37m\u001b[0m \u001b[1m1s\u001b[0m 2ms/step - loss: 6.6421e-08 - mae: 1.7659e-04 - val_loss: 5.2421e-06 - val_mae: 0.0016\n",
      "Epoch 23/50\n",
      "\u001b[1m211/211\u001b[0m \u001b[32m━━━━━━━━━━━━━━━━━━━━\u001b[0m\u001b[37m\u001b[0m \u001b[1m1s\u001b[0m 2ms/step - loss: 5.3120e-08 - mae: 1.5586e-04 - val_loss: 3.4124e-06 - val_mae: 0.0012\n",
      "Epoch 24/50\n",
      "\u001b[1m211/211\u001b[0m \u001b[32m━━━━━━━━━━━━━━━━━━━━\u001b[0m\u001b[37m\u001b[0m \u001b[1m1s\u001b[0m 2ms/step - loss: 5.2386e-08 - mae: 1.4834e-04 - val_loss: 3.1592e-06 - val_mae: 0.0012\n",
      "Epoch 25/50\n",
      "\u001b[1m211/211\u001b[0m \u001b[32m━━━━━━━━━━━━━━━━━━━━\u001b[0m\u001b[37m\u001b[0m \u001b[1m1s\u001b[0m 2ms/step - loss: 5.1672e-08 - mae: 1.6326e-04 - val_loss: 7.6764e-06 - val_mae: 0.0021\n",
      "Epoch 26/50\n",
      "\u001b[1m211/211\u001b[0m \u001b[32m━━━━━━━━━━━━━━━━━━━━\u001b[0m\u001b[37m\u001b[0m \u001b[1m1s\u001b[0m 2ms/step - loss: 5.8588e-08 - mae: 1.7386e-04 - val_loss: 3.3246e-06 - val_mae: 0.0012\n",
      "Epoch 27/50\n",
      "\u001b[1m211/211\u001b[0m \u001b[32m━━━━━━━━━━━━━━━━━━━━\u001b[0m\u001b[37m\u001b[0m \u001b[1m1s\u001b[0m 2ms/step - loss: 4.8735e-08 - mae: 1.3909e-04 - val_loss: 3.4750e-06 - val_mae: 0.0012\n",
      "Epoch 28/50\n",
      "\u001b[1m211/211\u001b[0m \u001b[32m━━━━━━━━━━━━━━━━━━━━\u001b[0m\u001b[37m\u001b[0m \u001b[1m1s\u001b[0m 3ms/step - loss: 4.2420e-08 - mae: 1.3602e-04 - val_loss: 3.1847e-06 - val_mae: 0.0012\n",
      "Epoch 29/50\n",
      "\u001b[1m211/211\u001b[0m \u001b[32m━━━━━━━━━━━━━━━━━━━━\u001b[0m\u001b[37m\u001b[0m \u001b[1m1s\u001b[0m 2ms/step - loss: 4.1435e-08 - mae: 1.3662e-04 - val_loss: 3.0374e-06 - val_mae: 0.0012\n",
      "Epoch 30/50\n",
      "\u001b[1m211/211\u001b[0m \u001b[32m━━━━━━━━━━━━━━━━━━━━\u001b[0m\u001b[37m\u001b[0m \u001b[1m1s\u001b[0m 2ms/step - loss: 4.3912e-08 - mae: 1.4732e-04 - val_loss: 3.0544e-06 - val_mae: 0.0012\n",
      "Epoch 31/50\n",
      "\u001b[1m211/211\u001b[0m \u001b[32m━━━━━━━━━━━━━━━━━━━━\u001b[0m\u001b[37m\u001b[0m \u001b[1m1s\u001b[0m 2ms/step - loss: 4.4009e-08 - mae: 1.3024e-04 - val_loss: 4.0268e-06 - val_mae: 0.0014\n",
      "Epoch 32/50\n",
      "\u001b[1m211/211\u001b[0m \u001b[32m━━━━━━━━━━━━━━━━━━━━\u001b[0m\u001b[37m\u001b[0m \u001b[1m1s\u001b[0m 2ms/step - loss: 4.3633e-08 - mae: 1.3372e-04 - val_loss: 6.0160e-06 - val_mae: 0.0018\n",
      "Epoch 33/50\n",
      "\u001b[1m211/211\u001b[0m \u001b[32m━━━━━━━━━━━━━━━━━━━━\u001b[0m\u001b[37m\u001b[0m \u001b[1m1s\u001b[0m 2ms/step - loss: 4.6657e-08 - mae: 1.4747e-04 - val_loss: 2.9468e-06 - val_mae: 0.0011\n",
      "Epoch 34/50\n",
      "\u001b[1m211/211\u001b[0m \u001b[32m━━━━━━━━━━━━━━━━━━━━\u001b[0m\u001b[37m\u001b[0m \u001b[1m1s\u001b[0m 2ms/step - loss: 5.1228e-08 - mae: 1.5476e-04 - val_loss: 3.2575e-06 - val_mae: 0.0012\n",
      "Epoch 35/50\n",
      "\u001b[1m211/211\u001b[0m \u001b[32m━━━━━━━━━━━━━━━━━━━━\u001b[0m\u001b[37m\u001b[0m \u001b[1m1s\u001b[0m 2ms/step - loss: 3.7694e-08 - mae: 1.2542e-04 - val_loss: 3.0297e-06 - val_mae: 0.0012\n",
      "Epoch 36/50\n",
      "\u001b[1m211/211\u001b[0m \u001b[32m━━━━━━━━━━━━━━━━━━━━\u001b[0m\u001b[37m\u001b[0m \u001b[1m1s\u001b[0m 2ms/step - loss: 4.8582e-08 - mae: 1.5546e-04 - val_loss: 2.9256e-06 - val_mae: 0.0011\n",
      "Epoch 37/50\n",
      "\u001b[1m211/211\u001b[0m \u001b[32m━━━━━━━━━━━━━━━━━━━━\u001b[0m\u001b[37m\u001b[0m \u001b[1m1s\u001b[0m 3ms/step - loss: 5.2265e-08 - mae: 1.5858e-04 - val_loss: 2.9443e-06 - val_mae: 0.0011\n",
      "Epoch 38/50\n",
      "\u001b[1m211/211\u001b[0m \u001b[32m━━━━━━━━━━━━━━━━━━━━\u001b[0m\u001b[37m\u001b[0m \u001b[1m1s\u001b[0m 3ms/step - loss: 3.3255e-08 - mae: 1.1845e-04 - val_loss: 3.2350e-06 - val_mae: 0.0012\n",
      "Epoch 39/50\n",
      "\u001b[1m211/211\u001b[0m \u001b[32m━━━━━━━━━━━━━━━━━━━━\u001b[0m\u001b[37m\u001b[0m \u001b[1m1s\u001b[0m 2ms/step - loss: 4.4407e-08 - mae: 1.4424e-04 - val_loss: 3.3631e-06 - val_mae: 0.0013\n",
      "Epoch 40/50\n",
      "\u001b[1m211/211\u001b[0m \u001b[32m━━━━━━━━━━━━━━━━━━━━\u001b[0m\u001b[37m\u001b[0m \u001b[1m1s\u001b[0m 2ms/step - loss: 4.3569e-08 - mae: 1.3314e-04 - val_loss: 2.8379e-06 - val_mae: 0.0011\n",
      "Epoch 41/50\n",
      "\u001b[1m211/211\u001b[0m \u001b[32m━━━━━━━━━━━━━━━━━━━━\u001b[0m\u001b[37m\u001b[0m \u001b[1m1s\u001b[0m 2ms/step - loss: 5.3261e-08 - mae: 1.5933e-04 - val_loss: 3.2006e-06 - val_mae: 0.0012\n",
      "Epoch 42/50\n",
      "\u001b[1m211/211\u001b[0m \u001b[32m━━━━━━━━━━━━━━━━━━━━\u001b[0m\u001b[37m\u001b[0m \u001b[1m1s\u001b[0m 2ms/step - loss: 5.9584e-08 - mae: 1.8236e-04 - val_loss: 2.8417e-06 - val_mae: 0.0011\n",
      "Epoch 43/50\n",
      "\u001b[1m211/211\u001b[0m \u001b[32m━━━━━━━━━━━━━━━━━━━━\u001b[0m\u001b[37m\u001b[0m \u001b[1m1s\u001b[0m 2ms/step - loss: 3.8056e-08 - mae: 1.2679e-04 - val_loss: 3.6141e-06 - val_mae: 0.0013\n",
      "Epoch 44/50\n",
      "\u001b[1m211/211\u001b[0m \u001b[32m━━━━━━━━━━━━━━━━━━━━\u001b[0m\u001b[37m\u001b[0m \u001b[1m1s\u001b[0m 2ms/step - loss: 4.8285e-08 - mae: 1.4657e-04 - val_loss: 3.0803e-06 - val_mae: 0.0012\n",
      "Epoch 45/50\n",
      "\u001b[1m211/211\u001b[0m \u001b[32m━━━━━━━━━━━━━━━━━━━━\u001b[0m\u001b[37m\u001b[0m \u001b[1m1s\u001b[0m 2ms/step - loss: 4.1441e-08 - mae: 1.4123e-04 - val_loss: 3.9848e-06 - val_mae: 0.0014\n",
      "Epoch 46/50\n",
      "\u001b[1m211/211\u001b[0m \u001b[32m━━━━━━━━━━━━━━━━━━━━\u001b[0m\u001b[37m\u001b[0m \u001b[1m1s\u001b[0m 2ms/step - loss: 3.8637e-08 - mae: 1.2194e-04 - val_loss: 2.8106e-06 - val_mae: 0.0011\n",
      "Epoch 47/50\n",
      "\u001b[1m211/211\u001b[0m \u001b[32m━━━━━━━━━━━━━━━━━━━━\u001b[0m\u001b[37m\u001b[0m \u001b[1m1s\u001b[0m 3ms/step - loss: 3.5672e-08 - mae: 1.2455e-04 - val_loss: 2.7288e-06 - val_mae: 0.0011\n",
      "Epoch 48/50\n",
      "\u001b[1m211/211\u001b[0m \u001b[32m━━━━━━━━━━━━━━━━━━━━\u001b[0m\u001b[37m\u001b[0m \u001b[1m1s\u001b[0m 2ms/step - loss: 4.7742e-08 - mae: 1.5487e-04 - val_loss: 2.7786e-06 - val_mae: 0.0011\n",
      "Epoch 49/50\n",
      "\u001b[1m211/211\u001b[0m \u001b[32m━━━━━━━━━━━━━━━━━━━━\u001b[0m\u001b[37m\u001b[0m \u001b[1m1s\u001b[0m 2ms/step - loss: 3.4722e-08 - mae: 1.2162e-04 - val_loss: 3.4223e-06 - val_mae: 0.0013\n",
      "Epoch 50/50\n",
      "\u001b[1m211/211\u001b[0m \u001b[32m━━━━━━━━━━━━━━━━━━━━\u001b[0m\u001b[37m\u001b[0m \u001b[1m1s\u001b[0m 2ms/step - loss: 3.8381e-08 - mae: 1.3183e-04 - val_loss: 2.6540e-06 - val_mae: 0.0011\n"
     ]
    }
   ],
   "source": [
    "# Train the LSTM model\n",
    "history_lstm = lstm_model.fit(\n",
    "    X_train, y_train,\n",
    "    validation_data=(X_val, y_val),\n",
    "    epochs=50,\n",
    "    batch_size=32,\n",
    "    verbose=1\n",
    ")"
   ]
  },
  {
   "cell_type": "code",
   "execution_count": 58,
   "id": "f34d05c1-04d4-4400-b790-45d344b9db7b",
   "metadata": {},
   "outputs": [
    {
     "data": {
      "image/png": "[encoded data removed]",
      "text/plain": [
       "<Figure size 640x480 with 1 Axes>"
      ]
     },
     "metadata": {},
     "output_type": "display_data"
    }
   ],
   "source": [
    "# Plot the training and validation loss for the LSTM model\n",
    "plt.plot(history_lstm.history['loss'], label='Training Loss')\n",
    "plt.plot(history_lstm.history['val_loss'], label='Validation Loss')\n",
    "plt.title('LSTM Model Loss')\n",
    "plt.xlabel('Epochs')\n",
    "plt.ylabel('Loss')\n",
    "plt.legend()\n",
    "plt.show()"
   ]
  },
  {
   "cell_type": "code",
   "execution_count": 59,
   "id": "3bc06f65-31ef-436d-92df-90c8a6382a8f",
   "metadata": {},
   "outputs": [
    {
     "name": "stdout",
     "output_type": "stream",
     "text": [
      "\u001b[1m46/46\u001b[0m \u001b[32m━━━━━━━━━━━━━━━━━━━━\u001b[0m\u001b[37m\u001b[0m \u001b[1m0s\u001b[0m 4ms/step\n",
      "LSTM Unscaled MSE: 13.937549585284092\n",
      "LSTM Unscaled MAE: 2.2465812353114356\n"
     ]
    }
   ],
   "source": [
    "# Unscale y_test and GRU/LSTM predictions\n",
    "y_test_unscaled = target_scaler.inverse_transform(y_test.reshape(-1, 1))\n",
    "lstm_predictions_unscaled = target_scaler.inverse_transform(lstm_model.predict(X_test).reshape(-1, 1))\n",
    "\n",
    "# Calculate MSE and MAE for the GRU/LSTM model\n",
    "lstm_mse = mean_squared_error(y_test_unscaled, lstm_predictions_unscaled)\n",
    "lstm_mae = mean_absolute_error(y_test_unscaled, lstm_predictions_unscaled)\n",
    "\n",
    "print(f\"LSTM Unscaled MSE: {lstm_mse}\")\n",
    "print(f\"LSTM Unscaled MAE: {lstm_mae}\")"
   ]
  },
  {
   "cell_type": "code",
   "execution_count": 60,
   "id": "7fb9f541-cfed-468c-a448-b9898466723b",
   "metadata": {},
   "outputs": [
    {
     "name": "stdout",
     "output_type": "stream",
     "text": [
      "Training LSTM with params: (64, 32, 0.2, 0.001)\n"
     ]
    },
    {
     "name": "stderr",
     "output_type": "stream",
     "text": [
      "D:\\Anaconda\\Lib\\site-packages\\keras\\src\\layers\\rnn\\rnn.py:204: UserWarning: Do not pass an `input_shape`/`input_dim` argument to a layer. When using Sequential models, prefer using an `Input(shape)` object as the first layer in the model instead.\n",
      "  super().__init__(**kwargs)\n"
     ]
    },
    {
     "name": "stdout",
     "output_type": "stream",
     "text": [
      "Training LSTM with params: (64, 32, 0.2, 0.0005)\n"
     ]
    },
    {
     "name": "stderr",
     "output_type": "stream",
     "text": [
      "D:\\Anaconda\\Lib\\site-packages\\keras\\src\\layers\\rnn\\rnn.py:204: UserWarning: Do not pass an `input_shape`/`input_dim` argument to a layer. When using Sequential models, prefer using an `Input(shape)` object as the first layer in the model instead.\n",
      "  super().__init__(**kwargs)\n"
     ]
    },
    {
     "name": "stdout",
     "output_type": "stream",
     "text": [
      "Training LSTM with params: (64, 32, 0.3, 0.001)\n"
     ]
    },
    {
     "name": "stderr",
     "output_type": "stream",
     "text": [
      "D:\\Anaconda\\Lib\\site-packages\\keras\\src\\layers\\rnn\\rnn.py:204: UserWarning: Do not pass an `input_shape`/`input_dim` argument to a layer. When using Sequential models, prefer using an `Input(shape)` object as the first layer in the model instead.\n",
      "  super().__init__(**kwargs)\n"
     ]
    },
    {
     "name": "stdout",
     "output_type": "stream",
     "text": [
      "Training LSTM with params: (64, 32, 0.3, 0.0005)\n"
     ]
    },
    {
     "name": "stderr",
     "output_type": "stream",
     "text": [
      "D:\\Anaconda\\Lib\\site-packages\\keras\\src\\layers\\rnn\\rnn.py:204: UserWarning: Do not pass an `input_shape`/`input_dim` argument to a layer. When using Sequential models, prefer using an `Input(shape)` object as the first layer in the model instead.\n",
      "  super().__init__(**kwargs)\n"
     ]
    },
    {
     "name": "stdout",
     "output_type": "stream",
     "text": [
      "Training LSTM with params: (64, 64, 0.2, 0.001)\n"
     ]
    },
    {
     "name": "stderr",
     "output_type": "stream",
     "text": [
      "D:\\Anaconda\\Lib\\site-packages\\keras\\src\\layers\\rnn\\rnn.py:204: UserWarning: Do not pass an `input_shape`/`input_dim` argument to a layer. When using Sequential models, prefer using an `Input(shape)` object as the first layer in the model instead.\n",
      "  super().__init__(**kwargs)\n"
     ]
    },
    {
     "name": "stdout",
     "output_type": "stream",
     "text": [
      "Training LSTM with params: (64, 64, 0.2, 0.0005)\n"
     ]
    },
    {
     "name": "stderr",
     "output_type": "stream",
     "text": [
      "D:\\Anaconda\\Lib\\site-packages\\keras\\src\\layers\\rnn\\rnn.py:204: UserWarning: Do not pass an `input_shape`/`input_dim` argument to a layer. When using Sequential models, prefer using an `Input(shape)` object as the first layer in the model instead.\n",
      "  super().__init__(**kwargs)\n"
     ]
    },
    {
     "name": "stdout",
     "output_type": "stream",
     "text": [
      "Training LSTM with params: (64, 64, 0.3, 0.001)\n"
     ]
    },
    {
     "name": "stderr",
     "output_type": "stream",
     "text": [
      "D:\\Anaconda\\Lib\\site-packages\\keras\\src\\layers\\rnn\\rnn.py:204: UserWarning: Do not pass an `input_shape`/`input_dim` argument to a layer. When using Sequential models, prefer using an `Input(shape)` object as the first layer in the model instead.\n",
      "  super().__init__(**kwargs)\n"
     ]
    },
    {
     "name": "stdout",
     "output_type": "stream",
     "text": [
      "Training LSTM with params: (64, 64, 0.3, 0.0005)\n"
     ]
    },
    {
     "name": "stderr",
     "output_type": "stream",
     "text": [
      "D:\\Anaconda\\Lib\\site-packages\\keras\\src\\layers\\rnn\\rnn.py:204: UserWarning: Do not pass an `input_shape`/`input_dim` argument to a layer. When using Sequential models, prefer using an `Input(shape)` object as the first layer in the model instead.\n",
      "  super().__init__(**kwargs)\n"
     ]
    },
    {
     "name": "stdout",
     "output_type": "stream",
     "text": [
      "Training LSTM with params: (128, 32, 0.2, 0.001)\n"
     ]
    },
    {
     "name": "stderr",
     "output_type": "stream",
     "text": [
      "D:\\Anaconda\\Lib\\site-packages\\keras\\src\\layers\\rnn\\rnn.py:204: UserWarning: Do not pass an `input_shape`/`input_dim` argument to a layer. When using Sequential models, prefer using an `Input(shape)` object as the first layer in the model instead.\n",
      "  super().__init__(**kwargs)\n"
     ]
    },
    {
     "name": "stdout",
     "output_type": "stream",
     "text": [
      "Training LSTM with params: (128, 32, 0.2, 0.0005)\n"
     ]
    },
    {
     "name": "stderr",
     "output_type": "stream",
     "text": [
      "D:\\Anaconda\\Lib\\site-packages\\keras\\src\\layers\\rnn\\rnn.py:204: UserWarning: Do not pass an `input_shape`/`input_dim` argument to a layer. When using Sequential models, prefer using an `Input(shape)` object as the first layer in the model instead.\n",
      "  super().__init__(**kwargs)\n"
     ]
    },
    {
     "name": "stdout",
     "output_type": "stream",
     "text": [
      "Training LSTM with params: (128, 32, 0.3, 0.001)\n"
     ]
    },
    {
     "name": "stderr",
     "output_type": "stream",
     "text": [
      "D:\\Anaconda\\Lib\\site-packages\\keras\\src\\layers\\rnn\\rnn.py:204: UserWarning: Do not pass an `input_shape`/`input_dim` argument to a layer. When using Sequential models, prefer using an `Input(shape)` object as the first layer in the model instead.\n",
      "  super().__init__(**kwargs)\n"
     ]
    },
    {
     "name": "stdout",
     "output_type": "stream",
     "text": [
      "Training LSTM with params: (128, 32, 0.3, 0.0005)\n"
     ]
    },
    {
     "name": "stderr",
     "output_type": "stream",
     "text": [
      "D:\\Anaconda\\Lib\\site-packages\\keras\\src\\layers\\rnn\\rnn.py:204: UserWarning: Do not pass an `input_shape`/`input_dim` argument to a layer. When using Sequential models, prefer using an `Input(shape)` object as the first layer in the model instead.\n",
      "  super().__init__(**kwargs)\n"
     ]
    },
    {
     "name": "stdout",
     "output_type": "stream",
     "text": [
      "Training LSTM with params: (128, 64, 0.2, 0.001)\n"
     ]
    },
    {
     "name": "stderr",
     "output_type": "stream",
     "text": [
      "D:\\Anaconda\\Lib\\site-packages\\keras\\src\\layers\\rnn\\rnn.py:204: UserWarning: Do not pass an `input_shape`/`input_dim` argument to a layer. When using Sequential models, prefer using an `Input(shape)` object as the first layer in the model instead.\n",
      "  super().__init__(**kwargs)\n"
     ]
    },
    {
     "name": "stdout",
     "output_type": "stream",
     "text": [
      "Training LSTM with params: (128, 64, 0.2, 0.0005)\n"
     ]
    },
    {
     "name": "stderr",
     "output_type": "stream",
     "text": [
      "D:\\Anaconda\\Lib\\site-packages\\keras\\src\\layers\\rnn\\rnn.py:204: UserWarning: Do not pass an `input_shape`/`input_dim` argument to a layer. When using Sequential models, prefer using an `Input(shape)` object as the first layer in the model instead.\n",
      "  super().__init__(**kwargs)\n"
     ]
    },
    {
     "name": "stdout",
     "output_type": "stream",
     "text": [
      "Training LSTM with params: (128, 64, 0.3, 0.001)\n"
     ]
    },
    {
     "name": "stderr",
     "output_type": "stream",
     "text": [
      "D:\\Anaconda\\Lib\\site-packages\\keras\\src\\layers\\rnn\\rnn.py:204: UserWarning: Do not pass an `input_shape`/`input_dim` argument to a layer. When using Sequential models, prefer using an `Input(shape)` object as the first layer in the model instead.\n",
      "  super().__init__(**kwargs)\n"
     ]
    },
    {
     "name": "stdout",
     "output_type": "stream",
     "text": [
      "Training LSTM with params: (128, 64, 0.3, 0.0005)\n"
     ]
    },
    {
     "name": "stderr",
     "output_type": "stream",
     "text": [
      "D:\\Anaconda\\Lib\\site-packages\\keras\\src\\layers\\rnn\\rnn.py:204: UserWarning: Do not pass an `input_shape`/`input_dim` argument to a layer. When using Sequential models, prefer using an `Input(shape)` object as the first layer in the model instead.\n",
      "  super().__init__(**kwargs)\n"
     ]
    },
    {
     "name": "stdout",
     "output_type": "stream",
     "text": [
      "Best LSTM Parameters: (128, 64, 0.2, 0.001)\n",
      "Validation MSE (Unscaled): 0.056782973415129404\n",
      "Validation MAE (Unscaled): 0.1547922425250295\n"
     ]
    }
   ],
   "source": [
    "from sklearn.metrics import mean_squared_error, mean_absolute_error\n",
    "\n",
    "# Define hyperparameter combinations for the grid search\n",
    "lstm_param_combinations = [\n",
    "    (units_layer1, units_layer2, dropout_rate, learning_rate)\n",
    "    for units_layer1 in [64, 128]\n",
    "    for units_layer2 in [32, 64]\n",
    "    for dropout_rate in [0.2, 0.3]\n",
    "    for learning_rate in [0.001, 0.0005]\n",
    "]\n",
    "\n",
    "lstm_results = []\n",
    "\n",
    "# Perform grid search\n",
    "for params in lstm_param_combinations:\n",
    "    units_layer1, units_layer2, dropout_rate, learning_rate = params\n",
    "\n",
    "    print(f\"Training LSTM with params: {params}\")\n",
    "\n",
    "    # Create model with current hyperparameters\n",
    "    lstm_model = create_lstm_model(\n",
    "        units_layer1=units_layer1,\n",
    "        units_layer2=units_layer2,\n",
    "        dropout_rate=dropout_rate,\n",
    "        learning_rate=learning_rate\n",
    "    )\n",
    "\n",
    "    # Train the model\n",
    "    history = lstm_model.fit(\n",
    "        X_train, y_train,\n",
    "        validation_data=(X_val, y_val),\n",
    "        epochs=50,\n",
    "        batch_size=32,\n",
    "        verbose=0,  # Suppress detailed output\n",
    "        callbacks=[EarlyStopping(monitor='val_loss', patience=5, restore_best_weights=True)]\n",
    "    )\n",
    "\n",
    "    # Predict on validation set\n",
    "    val_predictions = lstm_model.predict(X_val, verbose=0)\n",
    "\n",
    "    # Unscale y_val and predictions\n",
    "    y_val_unscaled = target_scaler.inverse_transform(y_val.reshape(-1, 1))\n",
    "    val_predictions_unscaled = target_scaler.inverse_transform(val_predictions.reshape(-1, 1))\n",
    "\n",
    "    # Calculate MSE and MAE on unscaled validation set\n",
    "    val_mse_unscaled = mean_squared_error(y_val_unscaled, val_predictions_unscaled)\n",
    "    val_mae_unscaled = mean_absolute_error(y_val_unscaled, val_predictions_unscaled)\n",
    "\n",
    "    # Append results\n",
    "    lstm_results.append((params, val_mse_unscaled, val_mae_unscaled))\n",
    "\n",
    "# Find the best hyperparameters\n",
    "best_lstm_params = sorted(lstm_results, key=lambda x: x[1])[0]  # Sort by MSE\n",
    "\n",
    "# Display the best hyperparameters and their validation loss\n",
    "print(\"Best LSTM Parameters:\", best_lstm_params[0])\n",
    "print(\"Validation MSE (Unscaled):\", best_lstm_params[1])\n",
    "print(\"Validation MAE (Unscaled):\", best_lstm_params[2])\n"
   ]
  },
  {
   "cell_type": "code",
   "execution_count": 61,
   "id": "865ae924-584b-42cc-9cdf-d43ef59678d9",
   "metadata": {},
   "outputs": [],
   "source": [
    "# Find the best hyperparameters\n",
    "best_lstm_params = sorted(lstm_results, key=lambda x: x[1])[0]"
   ]
  },
  {
   "cell_type": "code",
   "execution_count": 62,
   "id": "3e040bf6-0ed3-4335-b248-508a33ee535a",
   "metadata": {},
   "outputs": [
    {
     "name": "stdout",
     "output_type": "stream",
     "text": [
      "Best Parameters: (128, 64, 0.2, 0.001)\n",
      "Validation Loss: 0.056782973415129404\n",
      "Validation MAE: 0.1547922425250295\n"
     ]
    }
   ],
   "source": [
    "# Display the best hyperparameters and their validation loss\n",
    "print(\"Best Parameters:\", best_lstm_params[0])\n",
    "print(\"Validation Loss:\", best_lstm_params[1])\n",
    "print(\"Validation MAE:\", best_lstm_params[2])"
   ]
  },
  {
   "cell_type": "code",
   "execution_count": 63,
   "id": "75ddd969-fd5d-4641-a81e-f751400677af",
   "metadata": {},
   "outputs": [],
   "source": [
    "import numpy as np\n",
    "X_final_train = np.concatenate((X_train, X_val), axis=0)\n",
    "y_final_train = np.concatenate((y_train, y_val), axis=0)"
   ]
  },
  {
   "cell_type": "code",
   "execution_count": 64,
   "id": "e2d5d3c3-2dac-455f-90c1-178f0947018e",
   "metadata": {},
   "outputs": [
    {
     "name": "stderr",
     "output_type": "stream",
     "text": [
      "D:\\Anaconda\\Lib\\site-packages\\keras\\src\\layers\\rnn\\rnn.py:204: UserWarning: Do not pass an `input_shape`/`input_dim` argument to a layer. When using Sequential models, prefer using an `Input(shape)` object as the first layer in the model instead.\n",
      "  super().__init__(**kwargs)\n"
     ]
    }
   ],
   "source": [
    "# Retrain the model with the best hyperparameters\n",
    "best_lstm_model = create_lstm_model(\n",
    "    units_layer1=best_lstm_params[0][0], \n",
    "    units_layer2=best_lstm_params[0][1], \n",
    "    dropout_rate=best_lstm_params[0][2], \n",
    "    learning_rate=best_lstm_params[0][3]\n",
    ")"
   ]
  },
  {
   "cell_type": "code",
   "execution_count": 65,
   "id": "fe36469f-6916-4e37-8221-aead5b768bbb",
   "metadata": {
    "scrolled": true
   },
   "outputs": [
    {
     "data": {
      "text/html": [
       "<pre style=\"white-space:pre;overflow-x:auto;line-height:normal;font-family:Menlo,'DejaVu Sans Mono',consolas,'Courier New',monospace\"><span style=\"font-weight: bold\">Model: \"sequential_36\"</span>\n",
       "</pre>\n"
      ],
      "text/plain": [
       "\u001b[1mModel: \"sequential_36\"\u001b[0m\n"
      ]
     },
     "metadata": {},
     "output_type": "display_data"
    },
    {
     "data": {
      "text/html": [
       "<pre style=\"white-space:pre;overflow-x:auto;line-height:normal;font-family:Menlo,'DejaVu Sans Mono',consolas,'Courier New',monospace\">┏━━━━━━━━━━━━━━━━━━━━━━━━━━━━━━━━━━━━━━┳━━━━━━━━━━━━━━━━━━━━━━━━━━━━━┳━━━━━━━━━━━━━━━━━┓\n",
       "┃<span style=\"font-weight: bold\"> Layer (type)                         </span>┃<span style=\"font-weight: bold\"> Output Shape                </span>┃<span style=\"font-weight: bold\">         Param # </span>┃\n",
       "┡━━━━━━━━━━━━━━━━━━━━━━━━━━━━━━━━━━━━━━╇━━━━━━━━━━━━━━━━━━━━━━━━━━━━━╇━━━━━━━━━━━━━━━━━┩\n",
       "│ lstm_17 (<span style=\"color: #0087ff; text-decoration-color: #0087ff\">LSTM</span>)                       │ (<span style=\"color: #00d7ff; text-decoration-color: #00d7ff\">None</span>, <span style=\"color: #00af00; text-decoration-color: #00af00\">64</span>)                  │          <span style=\"color: #00af00; text-decoration-color: #00af00\">19,200</span> │\n",
       "├──────────────────────────────────────┼─────────────────────────────┼─────────────────┤\n",
       "│ dense_36 (<span style=\"color: #0087ff; text-decoration-color: #0087ff\">Dense</span>)                     │ (<span style=\"color: #00d7ff; text-decoration-color: #00d7ff\">None</span>, <span style=\"color: #00af00; text-decoration-color: #00af00\">1</span>)                   │              <span style=\"color: #00af00; text-decoration-color: #00af00\">65</span> │\n",
       "└──────────────────────────────────────┴─────────────────────────────┴─────────────────┘\n",
       "</pre>\n"
      ],
      "text/plain": [
       "┏━━━━━━━━━━━━━━━━━━━━━━━━━━━━━━━━━━━━━━┳━━━━━━━━━━━━━━━━━━━━━━━━━━━━━┳━━━━━━━━━━━━━━━━━┓\n",
       "┃\u001b[1m \u001b[0m\u001b[1mLayer (type)                        \u001b[0m\u001b[1m \u001b[0m┃\u001b[1m \u001b[0m\u001b[1mOutput Shape               \u001b[0m\u001b[1m \u001b[0m┃\u001b[1m \u001b[0m\u001b[1m        Param #\u001b[0m\u001b[1m \u001b[0m┃\n",
       "┡━━━━━━━━━━━━━━━━━━━━━━━━━━━━━━━━━━━━━━╇━━━━━━━━━━━━━━━━━━━━━━━━━━━━━╇━━━━━━━━━━━━━━━━━┩\n",
       "│ lstm_17 (\u001b[38;5;33mLSTM\u001b[0m)                       │ (\u001b[38;5;45mNone\u001b[0m, \u001b[38;5;34m64\u001b[0m)                  │          \u001b[38;5;34m19,200\u001b[0m │\n",
       "├──────────────────────────────────────┼─────────────────────────────┼─────────────────┤\n",
       "│ dense_36 (\u001b[38;5;33mDense\u001b[0m)                     │ (\u001b[38;5;45mNone\u001b[0m, \u001b[38;5;34m1\u001b[0m)                   │              \u001b[38;5;34m65\u001b[0m │\n",
       "└──────────────────────────────────────┴─────────────────────────────┴─────────────────┘\n"
      ]
     },
     "metadata": {},
     "output_type": "display_data"
    },
    {
     "data": {
      "text/html": [
       "<pre style=\"white-space:pre;overflow-x:auto;line-height:normal;font-family:Menlo,'DejaVu Sans Mono',consolas,'Courier New',monospace\"><span style=\"font-weight: bold\"> Total params: </span><span style=\"color: #00af00; text-decoration-color: #00af00\">19,265</span> (75.25 KB)\n",
       "</pre>\n"
      ],
      "text/plain": [
       "\u001b[1m Total params: \u001b[0m\u001b[38;5;34m19,265\u001b[0m (75.25 KB)\n"
      ]
     },
     "metadata": {},
     "output_type": "display_data"
    },
    {
     "data": {
      "text/html": [
       "<pre style=\"white-space:pre;overflow-x:auto;line-height:normal;font-family:Menlo,'DejaVu Sans Mono',consolas,'Courier New',monospace\"><span style=\"font-weight: bold\"> Trainable params: </span><span style=\"color: #00af00; text-decoration-color: #00af00\">19,265</span> (75.25 KB)\n",
       "</pre>\n"
      ],
      "text/plain": [
       "\u001b[1m Trainable params: \u001b[0m\u001b[38;5;34m19,265\u001b[0m (75.25 KB)\n"
      ]
     },
     "metadata": {},
     "output_type": "display_data"
    },
    {
     "data": {
      "text/html": [
       "<pre style=\"white-space:pre;overflow-x:auto;line-height:normal;font-family:Menlo,'DejaVu Sans Mono',consolas,'Courier New',monospace\"><span style=\"font-weight: bold\"> Non-trainable params: </span><span style=\"color: #00af00; text-decoration-color: #00af00\">0</span> (0.00 B)\n",
       "</pre>\n"
      ],
      "text/plain": [
       "\u001b[1m Non-trainable params: \u001b[0m\u001b[38;5;34m0\u001b[0m (0.00 B)\n"
      ]
     },
     "metadata": {},
     "output_type": "display_data"
    }
   ],
   "source": [
    "best_lstm_model.summary()"
   ]
  },
  {
   "cell_type": "code",
   "execution_count": 66,
   "id": "f7ec4e85-d8d6-4f78-aa36-9aa3803a35e3",
   "metadata": {},
   "outputs": [
    {
     "name": "stdout",
     "output_type": "stream",
     "text": [
      "Epoch 1/50\n",
      "\u001b[1m256/256\u001b[0m \u001b[32m━━━━━━━━━━━━━━━━━━━━\u001b[0m\u001b[37m\u001b[0m \u001b[1m2s\u001b[0m 2ms/step - loss: 4.3641e-05 - mae: 0.0029\n",
      "Epoch 2/50\n",
      "\u001b[1m256/256\u001b[0m \u001b[32m━━━━━━━━━━━━━━━━━━━━\u001b[0m\u001b[37m\u001b[0m \u001b[1m1s\u001b[0m 2ms/step - loss: 1.3717e-06 - mae: 5.7649e-04\n",
      "Epoch 3/50\n",
      "\u001b[1m256/256\u001b[0m \u001b[32m━━━━━━━━━━━━━━━━━━━━\u001b[0m\u001b[37m\u001b[0m \u001b[1m1s\u001b[0m 2ms/step - loss: 1.5394e-06 - mae: 7.8071e-04\n",
      "Epoch 4/50\n",
      "\u001b[1m256/256\u001b[0m \u001b[32m━━━━━━━━━━━━━━━━━━━━\u001b[0m\u001b[37m\u001b[0m \u001b[1m1s\u001b[0m 2ms/step - loss: 1.0297e-06 - mae: 5.6943e-04\n",
      "Epoch 5/50\n",
      "\u001b[1m256/256\u001b[0m \u001b[32m━━━━━━━━━━━━━━━━━━━━\u001b[0m\u001b[37m\u001b[0m \u001b[1m1s\u001b[0m 2ms/step - loss: 1.6646e-06 - mae: 8.0152e-04\n",
      "Epoch 6/50\n",
      "\u001b[1m256/256\u001b[0m \u001b[32m━━━━━━━━━━━━━━━━━━━━\u001b[0m\u001b[37m\u001b[0m \u001b[1m1s\u001b[0m 2ms/step - loss: 1.3235e-06 - mae: 7.4048e-04\n",
      "Epoch 7/50\n",
      "\u001b[1m256/256\u001b[0m \u001b[32m━━━━━━━━━━━━━━━━━━━━\u001b[0m\u001b[37m\u001b[0m \u001b[1m1s\u001b[0m 2ms/step - loss: 9.6554e-07 - mae: 5.5903e-04\n",
      "Epoch 8/50\n",
      "\u001b[1m256/256\u001b[0m \u001b[32m━━━━━━━━━━━━━━━━━━━━\u001b[0m\u001b[37m\u001b[0m \u001b[1m1s\u001b[0m 2ms/step - loss: 1.2732e-06 - mae: 7.2831e-04\n",
      "Epoch 9/50\n",
      "\u001b[1m256/256\u001b[0m \u001b[32m━━━━━━━━━━━━━━━━━━━━\u001b[0m\u001b[37m\u001b[0m \u001b[1m1s\u001b[0m 2ms/step - loss: 1.1328e-06 - mae: 6.3613e-04\n",
      "Epoch 10/50\n",
      "\u001b[1m256/256\u001b[0m \u001b[32m━━━━━━━━━━━━━━━━━━━━\u001b[0m\u001b[37m\u001b[0m \u001b[1m1s\u001b[0m 2ms/step - loss: 8.7217e-07 - mae: 5.2468e-04\n",
      "Epoch 11/50\n",
      "\u001b[1m256/256\u001b[0m \u001b[32m━━━━━━━━━━━━━━━━━━━━\u001b[0m\u001b[37m\u001b[0m \u001b[1m1s\u001b[0m 2ms/step - loss: 1.1326e-06 - mae: 6.6657e-04\n",
      "Epoch 12/50\n",
      "\u001b[1m256/256\u001b[0m \u001b[32m━━━━━━━━━━━━━━━━━━━━\u001b[0m\u001b[37m\u001b[0m \u001b[1m1s\u001b[0m 2ms/step - loss: 8.6159e-07 - mae: 5.4594e-04\n",
      "Epoch 13/50\n",
      "\u001b[1m256/256\u001b[0m \u001b[32m━━━━━━━━━━━━━━━━━━━━\u001b[0m\u001b[37m\u001b[0m \u001b[1m1s\u001b[0m 2ms/step - loss: 7.8057e-07 - mae: 5.3787e-04\n",
      "Epoch 14/50\n",
      "\u001b[1m256/256\u001b[0m \u001b[32m━━━━━━━━━━━━━━━━━━━━\u001b[0m\u001b[37m\u001b[0m \u001b[1m1s\u001b[0m 2ms/step - loss: 7.2763e-07 - mae: 4.7850e-04\n",
      "Epoch 15/50\n",
      "\u001b[1m256/256\u001b[0m \u001b[32m━━━━━━━━━━━━━━━━━━━━\u001b[0m\u001b[37m\u001b[0m \u001b[1m1s\u001b[0m 2ms/step - loss: 7.8736e-07 - mae: 5.3939e-04\n",
      "Epoch 16/50\n",
      "\u001b[1m256/256\u001b[0m \u001b[32m━━━━━━━━━━━━━━━━━━━━\u001b[0m\u001b[37m\u001b[0m \u001b[1m1s\u001b[0m 2ms/step - loss: 6.6312e-07 - mae: 4.4710e-04\n",
      "Epoch 17/50\n",
      "\u001b[1m256/256\u001b[0m \u001b[32m━━━━━━━━━━━━━━━━━━━━\u001b[0m\u001b[37m\u001b[0m \u001b[1m1s\u001b[0m 2ms/step - loss: 8.0622e-07 - mae: 5.5718e-04\n",
      "Epoch 18/50\n",
      "\u001b[1m256/256\u001b[0m \u001b[32m━━━━━━━━━━━━━━━━━━━━\u001b[0m\u001b[37m\u001b[0m \u001b[1m1s\u001b[0m 2ms/step - loss: 5.7673e-07 - mae: 4.1230e-04\n",
      "Epoch 19/50\n",
      "\u001b[1m256/256\u001b[0m \u001b[32m━━━━━━━━━━━━━━━━━━━━\u001b[0m\u001b[37m\u001b[0m \u001b[1m1s\u001b[0m 2ms/step - loss: 7.5161e-07 - mae: 5.0478e-04\n",
      "Epoch 20/50\n",
      "\u001b[1m256/256\u001b[0m \u001b[32m━━━━━━━━━━━━━━━━━━━━\u001b[0m\u001b[37m\u001b[0m \u001b[1m1s\u001b[0m 2ms/step - loss: 7.5949e-07 - mae: 5.0866e-04\n",
      "Epoch 21/50\n",
      "\u001b[1m256/256\u001b[0m \u001b[32m━━━━━━━━━━━━━━━━━━━━\u001b[0m\u001b[37m\u001b[0m \u001b[1m1s\u001b[0m 2ms/step - loss: 6.5806e-07 - mae: 4.2935e-04\n",
      "Epoch 22/50\n",
      "\u001b[1m256/256\u001b[0m \u001b[32m━━━━━━━━━━━━━━━━━━━━\u001b[0m\u001b[37m\u001b[0m \u001b[1m1s\u001b[0m 2ms/step - loss: 6.3227e-07 - mae: 4.7640e-04\n",
      "Epoch 23/50\n",
      "\u001b[1m256/256\u001b[0m \u001b[32m━━━━━━━━━━━━━━━━━━━━\u001b[0m\u001b[37m\u001b[0m \u001b[1m1s\u001b[0m 2ms/step - loss: 6.8946e-07 - mae: 4.9220e-04\n",
      "Epoch 24/50\n",
      "\u001b[1m256/256\u001b[0m \u001b[32m━━━━━━━━━━━━━━━━━━━━\u001b[0m\u001b[37m\u001b[0m \u001b[1m1s\u001b[0m 2ms/step - loss: 6.2021e-07 - mae: 4.4543e-04\n",
      "Epoch 25/50\n",
      "\u001b[1m256/256\u001b[0m \u001b[32m━━━━━━━━━━━━━━━━━━━━\u001b[0m\u001b[37m\u001b[0m \u001b[1m1s\u001b[0m 2ms/step - loss: 5.8474e-07 - mae: 4.4550e-04\n",
      "Epoch 26/50\n",
      "\u001b[1m256/256\u001b[0m \u001b[32m━━━━━━━━━━━━━━━━━━━━\u001b[0m\u001b[37m\u001b[0m \u001b[1m1s\u001b[0m 2ms/step - loss: 5.9938e-07 - mae: 4.3684e-04\n",
      "Epoch 27/50\n",
      "\u001b[1m256/256\u001b[0m \u001b[32m━━━━━━━━━━━━━━━━━━━━\u001b[0m\u001b[37m\u001b[0m \u001b[1m1s\u001b[0m 2ms/step - loss: 5.8205e-07 - mae: 4.2276e-04\n",
      "Epoch 28/50\n",
      "\u001b[1m256/256\u001b[0m \u001b[32m━━━━━━━━━━━━━━━━━━━━\u001b[0m\u001b[37m\u001b[0m \u001b[1m1s\u001b[0m 2ms/step - loss: 6.2748e-07 - mae: 4.3211e-04\n",
      "Epoch 29/50\n",
      "\u001b[1m256/256\u001b[0m \u001b[32m━━━━━━━━━━━━━━━━━━━━\u001b[0m\u001b[37m\u001b[0m \u001b[1m1s\u001b[0m 2ms/step - loss: 6.2389e-07 - mae: 4.4652e-04\n",
      "Epoch 30/50\n",
      "\u001b[1m256/256\u001b[0m \u001b[32m━━━━━━━━━━━━━━━━━━━━\u001b[0m\u001b[37m\u001b[0m \u001b[1m1s\u001b[0m 2ms/step - loss: 5.5573e-07 - mae: 3.7707e-04\n",
      "Epoch 31/50\n",
      "\u001b[1m256/256\u001b[0m \u001b[32m━━━━━━━━━━━━━━━━━━━━\u001b[0m\u001b[37m\u001b[0m \u001b[1m1s\u001b[0m 2ms/step - loss: 5.7195e-07 - mae: 4.4403e-04\n",
      "Epoch 32/50\n",
      "\u001b[1m256/256\u001b[0m \u001b[32m━━━━━━━━━━━━━━━━━━━━\u001b[0m\u001b[37m\u001b[0m \u001b[1m1s\u001b[0m 2ms/step - loss: 6.5660e-07 - mae: 4.7248e-04\n",
      "Epoch 33/50\n",
      "\u001b[1m256/256\u001b[0m \u001b[32m━━━━━━━━━━━━━━━━━━━━\u001b[0m\u001b[37m\u001b[0m \u001b[1m1s\u001b[0m 2ms/step - loss: 5.4374e-07 - mae: 3.8314e-04\n",
      "Epoch 34/50\n",
      "\u001b[1m256/256\u001b[0m \u001b[32m━━━━━━━━━━━━━━━━━━━━\u001b[0m\u001b[37m\u001b[0m \u001b[1m1s\u001b[0m 2ms/step - loss: 5.0749e-07 - mae: 3.9796e-04\n",
      "Epoch 35/50\n",
      "\u001b[1m256/256\u001b[0m \u001b[32m━━━━━━━━━━━━━━━━━━━━\u001b[0m\u001b[37m\u001b[0m \u001b[1m1s\u001b[0m 2ms/step - loss: 5.1634e-07 - mae: 3.9032e-04\n",
      "Epoch 36/50\n",
      "\u001b[1m256/256\u001b[0m \u001b[32m━━━━━━━━━━━━━━━━━━━━\u001b[0m\u001b[37m\u001b[0m \u001b[1m1s\u001b[0m 2ms/step - loss: 4.7330e-07 - mae: 3.7284e-04\n",
      "Epoch 37/50\n",
      "\u001b[1m256/256\u001b[0m \u001b[32m━━━━━━━━━━━━━━━━━━━━\u001b[0m\u001b[37m\u001b[0m \u001b[1m1s\u001b[0m 2ms/step - loss: 5.4814e-07 - mae: 4.4624e-04\n",
      "Epoch 38/50\n",
      "\u001b[1m256/256\u001b[0m \u001b[32m━━━━━━━━━━━━━━━━━━━━\u001b[0m\u001b[37m\u001b[0m \u001b[1m1s\u001b[0m 2ms/step - loss: 5.1121e-07 - mae: 3.5008e-04\n",
      "Epoch 39/50\n",
      "\u001b[1m256/256\u001b[0m \u001b[32m━━━━━━━━━━━━━━━━━━━━\u001b[0m\u001b[37m\u001b[0m \u001b[1m1s\u001b[0m 2ms/step - loss: 5.2034e-07 - mae: 4.0389e-04\n",
      "Epoch 40/50\n",
      "\u001b[1m256/256\u001b[0m \u001b[32m━━━━━━━━━━━━━━━━━━━━\u001b[0m\u001b[37m\u001b[0m \u001b[1m1s\u001b[0m 2ms/step - loss: 4.0811e-07 - mae: 3.5126e-04\n",
      "Epoch 41/50\n",
      "\u001b[1m256/256\u001b[0m \u001b[32m━━━━━━━━━━━━━━━━━━━━\u001b[0m\u001b[37m\u001b[0m \u001b[1m1s\u001b[0m 2ms/step - loss: 5.7979e-07 - mae: 4.3909e-04\n",
      "Epoch 42/50\n",
      "\u001b[1m256/256\u001b[0m \u001b[32m━━━━━━━━━━━━━━━━━━━━\u001b[0m\u001b[37m\u001b[0m \u001b[1m1s\u001b[0m 2ms/step - loss: 4.7078e-07 - mae: 3.7116e-04\n",
      "Epoch 43/50\n",
      "\u001b[1m256/256\u001b[0m \u001b[32m━━━━━━━━━━━━━━━━━━━━\u001b[0m\u001b[37m\u001b[0m \u001b[1m1s\u001b[0m 2ms/step - loss: 5.0132e-07 - mae: 3.8687e-04\n",
      "Epoch 44/50\n",
      "\u001b[1m256/256\u001b[0m \u001b[32m━━━━━━━━━━━━━━━━━━━━\u001b[0m\u001b[37m\u001b[0m \u001b[1m1s\u001b[0m 2ms/step - loss: 4.8450e-07 - mae: 4.1952e-04\n",
      "Epoch 45/50\n",
      "\u001b[1m256/256\u001b[0m \u001b[32m━━━━━━━━━━━━━━━━━━━━\u001b[0m\u001b[37m\u001b[0m \u001b[1m1s\u001b[0m 2ms/step - loss: 4.1580e-07 - mae: 3.3265e-04\n",
      "Epoch 46/50\n",
      "\u001b[1m256/256\u001b[0m \u001b[32m━━━━━━━━━━━━━━━━━━━━\u001b[0m\u001b[37m\u001b[0m \u001b[1m1s\u001b[0m 2ms/step - loss: 6.3539e-07 - mae: 4.6403e-04\n",
      "Epoch 47/50\n",
      "\u001b[1m256/256\u001b[0m \u001b[32m━━━━━━━━━━━━━━━━━━━━\u001b[0m\u001b[37m\u001b[0m \u001b[1m1s\u001b[0m 2ms/step - loss: 4.2359e-07 - mae: 3.7243e-04\n",
      "Epoch 48/50\n",
      "\u001b[1m256/256\u001b[0m \u001b[32m━━━━━━━━━━━━━━━━━━━━\u001b[0m\u001b[37m\u001b[0m \u001b[1m1s\u001b[0m 2ms/step - loss: 4.6096e-07 - mae: 3.7441e-04\n",
      "Epoch 49/50\n",
      "\u001b[1m256/256\u001b[0m \u001b[32m━━━━━━━━━━━━━━━━━━━━\u001b[0m\u001b[37m\u001b[0m \u001b[1m1s\u001b[0m 2ms/step - loss: 4.4799e-07 - mae: 3.5912e-04\n",
      "Epoch 50/50\n",
      "\u001b[1m256/256\u001b[0m \u001b[32m━━━━━━━━━━━━━━━━━━━━\u001b[0m\u001b[37m\u001b[0m \u001b[1m1s\u001b[0m 2ms/step - loss: 4.2750e-07 - mae: 3.6390e-04\n"
     ]
    }
   ],
   "source": [
    "# Train the model on the full training set\n",
    "history_lstm_best = best_lstm_model.fit(\n",
    "    X_final_train, y_final_train,\n",
    "    epochs=50,\n",
    "    batch_size=32,\n",
    "    verbose=1\n",
    ")"
   ]
  },
  {
   "cell_type": "code",
   "execution_count": 67,
   "id": "a3c7eb69-e8f4-4ae4-b147-d326358f4447",
   "metadata": {},
   "outputs": [
    {
     "name": "stdout",
     "output_type": "stream",
     "text": [
      "\u001b[1m46/46\u001b[0m \u001b[32m━━━━━━━━━━━━━━━━━━━━\u001b[0m\u001b[37m\u001b[0m \u001b[1m0s\u001b[0m 4ms/step\n",
      "Unscaled Test MSE: 6.034305892320121\n",
      "Unscaled Test MAE: 1.5610272542828094\n"
     ]
    }
   ],
   "source": [
    "# Unscale y_test and predictions using the target_scaler\n",
    "y_test_unscaled = target_scaler.inverse_transform(y_test.reshape(-1, 1))\n",
    "predictions_unscaled = target_scaler.inverse_transform(best_lstm_model.predict(X_test).reshape(-1, 1))\n",
    "\n",
    "# Calculate MSE and MAE on unscaled data\n",
    "lstm_mse = mean_squared_error(y_test_unscaled, predictions_unscaled)\n",
    "lstm_mae = mean_absolute_error(y_test_unscaled, predictions_unscaled)\n",
    "\n",
    "print(f\"Unscaled Test MSE: {lstm_mse}\")\n",
    "print(f\"Unscaled Test MAE: {lstm_mae}\")"
   ]
  },
  {
   "cell_type": "code",
   "execution_count": 68,
   "id": "96b0b845-0458-4474-82f3-7ebf28feca09",
   "metadata": {},
   "outputs": [],
   "source": [
    "n_rows_to_display = 50"
   ]
  },
  {
   "cell_type": "code",
   "execution_count": 69,
   "id": "96a3b902-7f45-4e3d-b528-f17af078778e",
   "metadata": {},
   "outputs": [
    {
     "name": "stdout",
     "output_type": "stream",
     "text": [
      "\u001b[1m211/211\u001b[0m \u001b[32m━━━━━━━━━━━━━━━━━━━━\u001b[0m\u001b[37m\u001b[0m \u001b[1m0s\u001b[0m 1ms/step\n",
      "\u001b[1m46/46\u001b[0m \u001b[32m━━━━━━━━━━━━━━━━━━━━\u001b[0m\u001b[37m\u001b[0m \u001b[1m0s\u001b[0m 1ms/step \n"
     ]
    }
   ],
   "source": [
    "gru_train_predictions = best_model.predict(X_train)\n",
    "gru_test_predictions = best_model.predict(X_test)"
   ]
  },
  {
   "cell_type": "code",
   "execution_count": 70,
   "id": "d80da8df-0053-4798-b3c8-230ceeaba2a4",
   "metadata": {},
   "outputs": [
    {
     "name": "stdout",
     "output_type": "stream",
     "text": [
      "\u001b[1m211/211\u001b[0m \u001b[32m━━━━━━━━━━━━━━━━━━━━\u001b[0m\u001b[37m\u001b[0m \u001b[1m0s\u001b[0m 1ms/step\n",
      "\u001b[1m46/46\u001b[0m \u001b[32m━━━━━━━━━━━━━━━━━━━━\u001b[0m\u001b[37m\u001b[0m \u001b[1m0s\u001b[0m 1ms/step\n"
     ]
    }
   ],
   "source": [
    "lstm_train_predictions = best_lstm_model.predict(X_train)\n",
    "lstm_test_predictions = best_lstm_model.predict(X_test)"
   ]
  },
  {
   "cell_type": "code",
   "execution_count": 71,
   "id": "f10804b5-367c-4b76-9464-5599d2f8b6c6",
   "metadata": {},
   "outputs": [],
   "source": [
    "# Previous closing price predictions for training and testing data\n",
    "previous_train_predictions = X_train[:, -1, 0]\n",
    "previous_test_predictions = X_test[:, -1, 0]"
   ]
  },
  {
   "cell_type": "code",
   "execution_count": 72,
   "id": "c710a8a5-d66e-490a-b8d1-1bdf36233a79",
   "metadata": {},
   "outputs": [],
   "source": [
    "# Linear Regression predictions for training and testing data\n",
    "lr_train_predictions = lr_model.predict(X_train.reshape(X_train.shape[0], -1))\n",
    "lr_test_predictions = lr_model.predict(X_test_flat)"
   ]
  },
  {
   "cell_type": "code",
   "execution_count": 73,
   "id": "48e24131-efc7-4704-a18d-3938de82f7cf",
   "metadata": {},
   "outputs": [],
   "source": [
    "# Unscale the actual values and predictions\n",
    "y_train_unscaled = target_scaler.inverse_transform(y_train.reshape(-1, 1))[-n_rows_to_display:]\n",
    "y_test_unscaled = target_scaler.inverse_transform(y_test.reshape(-1, 1))[-n_rows_to_display:]\n",
    "\n",
    "gru_train_predictions_unscaled = target_scaler.inverse_transform(gru_train_predictions.reshape(-1, 1))[-n_rows_to_display:]\n",
    "gru_test_predictions_unscaled = target_scaler.inverse_transform(gru_test_predictions.reshape(-1, 1))[-n_rows_to_display:]\n",
    "\n",
    "lstm_train_predictions_unscaled = target_scaler.inverse_transform(lstm_train_predictions.reshape(-1, 1))[-n_rows_to_display:]\n",
    "lstm_test_predictions_unscaled = target_scaler.inverse_transform(lstm_test_predictions.reshape(-1, 1))[-n_rows_to_display:]\n",
    "\n",
    "previous_train_predictions_unscaled = target_scaler.inverse_transform(previous_train_predictions.reshape(-1, 1))[-n_rows_to_display:]\n",
    "previous_test_predictions_unscaled = target_scaler.inverse_transform(previous_test_predictions.reshape(-1, 1))[-n_rows_to_display:]\n",
    "\n",
    "lr_train_predictions_unscaled = target_scaler.inverse_transform(lr_train_predictions.reshape(-1, 1))[-n_rows_to_display:]\n",
    "lr_test_predictions_unscaled = target_scaler.inverse_transform(lr_test_predictions.reshape(-1, 1))[-n_rows_to_display:]"
   ]
  },
  {
   "cell_type": "code",
   "execution_count": 74,
   "id": "135a6f67-1205-46a7-9c4a-50682034c780",
   "metadata": {},
   "outputs": [
    {
     "data": {
      "image/png": "[encoded data removed]",
      "text/plain": [
       "<Figure size 1400x800 with 2 Axes>"
      ]
     },
     "metadata": {},
     "output_type": "display_data"
    }
   ],
   "source": [
    "# Plotting\n",
    "plt.figure(figsize=(14, 8))\n",
    "\n",
    "# Plot actual vs. predicted for training data\n",
    "plt.subplot(2, 1, 1)\n",
    "plt.plot(y_train_unscaled, label='Actual (Train)', color='blue', linestyle='-', alpha=0.7)\n",
    "plt.plot(gru_train_predictions_unscaled, label='GRU Predictions (Train)', color='red', linestyle='--')\n",
    "plt.plot(lstm_train_predictions_unscaled, label='LSTM Predictions (Train)', color='pink', linestyle='--')\n",
    "plt.plot(previous_train_predictions_unscaled, label='Previous Closing Price (Train)', color='green', linestyle=':')\n",
    "plt.plot(lr_train_predictions_unscaled, label='Linear Regression (Train)', color='orange', linestyle='-.')\n",
    "plt.title('Training Data: Actual vs Predictions (Last Rows)')\n",
    "plt.legend()\n",
    "\n",
    "# Plot actual vs. predicted for testing data\n",
    "plt.subplot(2, 1, 2)\n",
    "plt.plot(y_test_unscaled, label='Actual (Test)', color='blue', linestyle='-', alpha=0.7)\n",
    "plt.plot(gru_test_predictions_unscaled, label='GRU Predictions (Test)', color='red', linestyle='--')\n",
    "plt.plot(lstm_test_predictions_unscaled, label='LSTM Predictions (Test)', color='pink', linestyle='--')\n",
    "plt.plot(previous_test_predictions_unscaled, label='Previous Closing Price (Test)', color='green', linestyle=':')\n",
    "plt.plot(lr_test_predictions_unscaled, label='Linear Regression (Test)', color='orange', linestyle='-.')\n",
    "plt.title('Testing Data: Actual vs Predictions (Last Rows)')\n",
    "plt.legend()\n",
    "\n",
    "plt.tight_layout()\n",
    "plt.show()"
   ]
  },
  {
   "cell_type": "code",
   "execution_count": 75,
   "id": "4159b2cf-35cc-4133-8514-5d5e8f97785e",
   "metadata": {},
   "outputs": [],
   "source": [
    "# Data for MSE and MAE\n",
    "models = ['LSTM', 'Previous', 'Linear Regression', 'SARIMA']\n",
    "mse_values = [lstm_mse, previous_mse, lr_mse, sarima_mse]\n",
    "mae_values = [lstm_mae, previous_mae, lr_mae, sarima_mae]"
   ]
  },
  {
   "cell_type": "code",
   "execution_count": 76,
   "id": "56d78450-e285-41f2-91ca-bd0a91d310a3",
   "metadata": {},
   "outputs": [
    {
     "data": {
      "image/png": "[encoded data removed]",
      "text/plain": [
       "<Figure size 1200x600 with 1 Axes>"
      ]
     },
     "metadata": {},
     "output_type": "display_data"
    }
   ],
   "source": [
    "# Plotting MSE\n",
    "plt.figure(figsize=(12, 6))\n",
    "plt.bar(models, mse_values, color='blue', alpha=0.6, label='MSE')\n",
    "plt.bar(models, mae_values, color='orange', alpha=0.6, label='MAE')\n",
    "plt.xlabel('Models')\n",
    "plt.ylabel('Error')\n",
    "plt.title('Comparison of MSE and MAE for Different Models')\n",
    "plt.legend()\n",
    "plt.tight_layout()\n",
    "plt.show()"
   ]
  },
  {
   "cell_type": "code",
   "execution_count": 77,
   "id": "5ceb8535-02f9-428e-824c-2472b5f42845",
   "metadata": {},
   "outputs": [],
   "source": [
    "# Data for MSE and MAE (without SARIMA)\n",
    "models = ['LSTM', 'Previous', 'Linear Regression']\n",
    "mse_values = [lstm_mse, previous_mse, lr_mse]\n",
    "mae_values = [lstm_mae, previous_mae, lr_mae]"
   ]
  },
  {
   "cell_type": "code",
   "execution_count": 78,
   "id": "a3d180de-00c3-4bc9-b0bc-42077ce7ca85",
   "metadata": {},
   "outputs": [
    {
     "data": {
      "image/png": "[encoded data removed]",
      "text/plain": [
       "<Figure size 1200x600 with 1 Axes>"
      ]
     },
     "metadata": {},
     "output_type": "display_data"
    }
   ],
   "source": [
    "# Plotting MSE and MAE\n",
    "plt.figure(figsize=(12, 6))\n",
    "bar_width = 0.35\n",
    "index = range(len(models))\n",
    "\n",
    "plt.bar(index, mse_values, bar_width, color='blue', alpha=0.6, label='MSE')\n",
    "plt.bar([i + bar_width for i in index], mae_values, bar_width, color='orange', alpha=0.6, label='MAE')\n",
    "plt.xlabel('Models')\n",
    "plt.ylabel('Error')\n",
    "plt.title('Comparison of MSE and MAE for Different Models (Without SARIMA)')\n",
    "plt.xticks([i + bar_width / 2 for i in index], models)\n",
    "plt.legend()\n",
    "plt.tight_layout()\n",
    "plt.show()"
   ]
  },
  {
   "cell_type": "code",
   "execution_count": 79,
   "id": "1d6ccee6-b728-4a77-b289-d1f9da01683c",
   "metadata": {},
   "outputs": [],
   "source": [
    "from sklearn.linear_model import LinearRegression\n",
    "from sklearn.metrics import mean_absolute_error, mean_squared_error\n",
    "import numpy as np"
   ]
  },
  {
   "cell_type": "code",
   "execution_count": 80,
   "id": "80bf124c-1d8e-4a75-8fea-0eb0a40ea6a8",
   "metadata": {},
   "outputs": [
    {
     "name": "stdout",
     "output_type": "stream",
     "text": [
      "\u001b[1m46/46\u001b[0m \u001b[32m━━━━━━━━━━━━━━━━━━━━\u001b[0m\u001b[37m\u001b[0m \u001b[1m0s\u001b[0m 1ms/step \n"
     ]
    }
   ],
   "source": [
    "gru_predictions = best_model.predict(X_test)\n",
    "lr_predictions = lr_model.predict(X_test_flat)\n",
    "previous_predictions = X_test[:, -1, 0]  # Using previous closing price as prediction"
   ]
  },
  {
   "cell_type": "code",
   "execution_count": 81,
   "id": "db24e0b4-99a9-4ada-ad29-3f4da731c5e0",
   "metadata": {},
   "outputs": [],
   "source": [
    "meta_model_input = np.column_stack((gru_predictions, lr_predictions, previous_predictions))"
   ]
  },
  {
   "cell_type": "code",
   "execution_count": 82,
   "id": "ba4375eb-7e31-4983-a123-1dc01cb75201",
   "metadata": {},
   "outputs": [
    {
     "data": {
      "text/html": [
       "<style>#sk-container-id-2 {color: black;background-color: white;}#sk-container-id-2 pre{padding: 0;}#sk-container-id-2 div.sk-toggleable {background-color: white;}#sk-container-id-2 label.sk-toggleable__label {cursor: pointer;display: block;width: 100%;margin-bottom: 0;padding: 0.3em;box-sizing: border-box;text-align: center;}#sk-container-id-2 label.sk-toggleable__label-arrow:before {content: \"▸\";float: left;margin-right: 0.25em;color: #696969;}#sk-container-id-2 label.sk-toggleable__label-arrow:hover:before {color: black;}#sk-container-id-2 div.sk-estimator:hover label.sk-toggleable__label-arrow:before {color: black;}#sk-container-id-2 div.sk-toggleable__content {max-height: 0;max-width: 0;overflow: hidden;text-align: left;background-color: #f0f8ff;}#sk-container-id-2 div.sk-toggleable__content pre {margin: 0.2em;color: black;border-radius: 0.25em;background-color: #f0f8ff;}#sk-container-id-2 input.sk-toggleable__control:checked~div.sk-toggleable__content {max-height: 200px;max-width: 100%;overflow: auto;}#sk-container-id-2 input.sk-toggleable__control:checked~label.sk-toggleable__label-arrow:before {content: \"▾\";}#sk-container-id-2 div.sk-estimator input.sk-toggleable__control:checked~label.sk-toggleable__label {background-color: #d4ebff;}#sk-container-id-2 div.sk-label input.sk-toggleable__control:checked~label.sk-toggleable__label {background-color: #d4ebff;}#sk-container-id-2 input.sk-hidden--visually {border: 0;clip: rect(1px 1px 1px 1px);clip: rect(1px, 1px, 1px, 1px);height: 1px;margin: -1px;overflow: hidden;padding: 0;position: absolute;width: 1px;}#sk-container-id-2 div.sk-estimator {font-family: monospace;background-color: #f0f8ff;border: 1px dotted black;border-radius: 0.25em;box-sizing: border-box;margin-bottom: 0.5em;}#sk-container-id-2 div.sk-estimator:hover {background-color: #d4ebff;}#sk-container-id-2 div.sk-parallel-item::after {content: \"\";width: 100%;border-bottom: 1px solid gray;flex-grow: 1;}#sk-container-id-2 div.sk-label:hover label.sk-toggleable__label {background-color: #d4ebff;}#sk-container-id-2 div.sk-serial::before {content: \"\";position: absolute;border-left: 1px solid gray;box-sizing: border-box;top: 0;bottom: 0;left: 50%;z-index: 0;}#sk-container-id-2 div.sk-serial {display: flex;flex-direction: column;align-items: center;background-color: white;padding-right: 0.2em;padding-left: 0.2em;position: relative;}#sk-container-id-2 div.sk-item {position: relative;z-index: 1;}#sk-container-id-2 div.sk-parallel {display: flex;align-items: stretch;justify-content: center;background-color: white;position: relative;}#sk-container-id-2 div.sk-item::before, #sk-container-id-2 div.sk-parallel-item::before {content: \"\";position: absolute;border-left: 1px solid gray;box-sizing: border-box;top: 0;bottom: 0;left: 50%;z-index: -1;}#sk-container-id-2 div.sk-parallel-item {display: flex;flex-direction: column;z-index: 1;position: relative;background-color: white;}#sk-container-id-2 div.sk-parallel-item:first-child::after {align-self: flex-end;width: 50%;}#sk-container-id-2 div.sk-parallel-item:last-child::after {align-self: flex-start;width: 50%;}#sk-container-id-2 div.sk-parallel-item:only-child::after {width: 0;}#sk-container-id-2 div.sk-dashed-wrapped {border: 1px dashed gray;margin: 0 0.4em 0.5em 0.4em;box-sizing: border-box;padding-bottom: 0.4em;background-color: white;}#sk-container-id-2 div.sk-label label {font-family: monospace;font-weight: bold;display: inline-block;line-height: 1.2em;}#sk-container-id-2 div.sk-label-container {text-align: center;}#sk-container-id-2 div.sk-container {/* jupyter's `normalize.less` sets `[hidden] { display: none; }` but bootstrap.min.css set `[hidden] { display: none !important; }` so we also need the `!important` here to be able to override the default hidden behavior on the sphinx rendered scikit-learn.org. See: https://github.com/scikit-learn/scikit-learn/issues/21755 */display: inline-block !important;position: relative;}#sk-container-id-2 div.sk-text-repr-fallback {display: none;}</style><div id=\"sk-container-id-2\" class=\"sk-top-container\"><div class=\"sk-text-repr-fallback\"><pre>LinearRegression()</pre><b>In a Jupyter environment, please rerun this cell to show the HTML representation or trust the notebook. <br />On GitHub, the HTML representation is unable to render, please try loading this page with nbviewer.org.</b></div><div class=\"sk-container\" hidden><div class=\"sk-item\"><div class=\"sk-estimator sk-toggleable\"><input class=\"sk-toggleable__control sk-hidden--visually\" id=\"sk-estimator-id-2\" type=\"checkbox\" checked><label for=\"sk-estimator-id-2\" class=\"sk-toggleable__label sk-toggleable__label-arrow\">LinearRegression</label><div class=\"sk-toggleable__content\"><pre>LinearRegression()</pre></div></div></div></div></div>"
      ],
      "text/plain": [
       "LinearRegression()"
      ]
     },
     "execution_count": 82,
     "metadata": {},
     "output_type": "execute_result"
    }
   ],
   "source": [
    "meta_model = LinearRegression()\n",
    "meta_model.fit(meta_model_input, y_test)"
   ]
  },
  {
   "cell_type": "code",
   "execution_count": 83,
   "id": "5721d40a-c47c-498d-b484-273b26884174",
   "metadata": {},
   "outputs": [],
   "source": [
    "meta_model_predictions = meta_model.predict(meta_model_input)"
   ]
  },
  {
   "cell_type": "code",
   "execution_count": 84,
   "id": "14c03d74-5968-403c-90fe-7cd5adb54fd3",
   "metadata": {},
   "outputs": [
    {
     "name": "stdout",
     "output_type": "stream",
     "text": [
      "Meta-Model (Stacking) MSE: 4.328257000715158\n",
      "Meta-Model (Stacking) MAE: 1.072908418159104\n"
     ]
    }
   ],
   "source": [
    "# Unscale y_test and meta-model predictions\n",
    "y_test_unscaled = target_scaler.inverse_transform(y_test.reshape(-1, 1))\n",
    "meta_model_predictions_unscaled = target_scaler.inverse_transform(meta_model_predictions.reshape(-1, 1))\n",
    "\n",
    "# Calculate MSE and MAE on unscaled data\n",
    "meta_mse = mean_squared_error(y_test_unscaled, meta_model_predictions_unscaled)\n",
    "meta_mae = mean_absolute_error(y_test_unscaled, meta_model_predictions_unscaled)\n",
    "\n",
    "print(f\"Meta-Model (Stacking) MSE: {meta_mse}\")\n",
    "print(f\"Meta-Model (Stacking) MAE: {meta_mae}\")"
   ]
  },
  {
   "cell_type": "code",
   "execution_count": 85,
   "id": "4eed072b-dc35-4d18-90c8-10f2f81e5be3",
   "metadata": {},
   "outputs": [],
   "source": [
    "models = ['LSTM', 'Previous', 'Linear Regression', 'Meta-Model (Stacking)']\n",
    "mse_values = [lstm_mse, previous_mse, lr_mse, meta_mse]\n",
    "mae_values = [lstm_mae, previous_mae, lr_mae, meta_mae]"
   ]
  },
  {
   "cell_type": "code",
   "execution_count": 86,
   "id": "b0f39cf7-a55f-4420-83b1-87ca9497b3ef",
   "metadata": {},
   "outputs": [
    {
     "data": {
      "image/png": "[encoded data removed]",
      "text/plain": [
       "<Figure size 1200x600 with 1 Axes>"
      ]
     },
     "metadata": {},
     "output_type": "display_data"
    }
   ],
   "source": [
    "plt.figure(figsize=(12, 6))\n",
    "bar_width = 0.35\n",
    "index = range(len(models))\n",
    "plt.bar(index, mse_values, bar_width, color='blue', alpha=0.6, label='MSE')\n",
    "plt.bar([i + bar_width for i in index], mae_values, bar_width, color='orange', alpha=0.6, label='MAE')\n",
    "plt.xlabel('Models')\n",
    "plt.ylabel('Error')\n",
    "plt.title('Comparison of MSE and MAE for Different Models and Meta-Model (Stacking)')\n",
    "plt.xticks([i + bar_width / 2 for i in index], models)\n",
    "plt.legend()\n",
    "plt.tight_layout()\n",
    "plt.show()"
   ]
  },
  {
   "cell_type": "code",
   "execution_count": 87,
   "id": "8f804db2-4032-4611-b30c-4c1b4531079d",
   "metadata": {},
   "outputs": [],
   "source": [
    "models = ['LSTM', 'Previous', 'Linear Regression', 'Meta-Model (Stacking)']\n",
    "mse_values = [lstm_mse, previous_mse, lr_mse, meta_mse]"
   ]
  },
  {
   "cell_type": "code",
   "execution_count": 88,
   "id": "481dc29e-2194-4092-b049-f89103266557",
   "metadata": {},
   "outputs": [
    {
     "data": {
      "image/png": "[encoded data removed]",
      "text/plain": [
       "<Figure size 1200x600 with 1 Axes>"
      ]
     },
     "metadata": {},
     "output_type": "display_data"
    }
   ],
   "source": [
    "plt.figure(figsize=(12, 6))\n",
    "bar_width = 0.35\n",
    "index = range(len(models))\n",
    "plt.bar(index, mse_values, bar_width, color='blue', alpha=0.6, label='MSE')\n",
    "plt.xlabel('Models')\n",
    "plt.ylabel('Error')\n",
    "plt.title('Comparison of MSE for Different Models and Meta-Model (Stacking)')\n",
    "plt.xticks([i + bar_width / 2 for i in index], models)\n",
    "plt.legend()\n",
    "plt.tight_layout()\n",
    "plt.show()"
   ]
  },
  {
   "cell_type": "code",
   "execution_count": 89,
   "id": "0706ed31-4fbc-47ca-8e7e-f27d26a6e973",
   "metadata": {},
   "outputs": [],
   "source": [
    "models = ['Linear Regression', 'Meta Model']\n",
    "mse_values = [lr_mse, meta_mse]"
   ]
  },
  {
   "cell_type": "code",
   "execution_count": 90,
   "id": "bd483013-fa14-45f3-846b-4da013bc276c",
   "metadata": {},
   "outputs": [
    {
     "data": {
      "image/png": "[encoded data removed]",
      "text/plain": [
       "<Figure size 1200x600 with 1 Axes>"
      ]
     },
     "metadata": {},
     "output_type": "display_data"
    }
   ],
   "source": [
    "plt.figure(figsize=(12, 6))\n",
    "bar_width = 0.35\n",
    "index = range(len(models))\n",
    "plt.bar(index, mse_values, bar_width, color='blue', alpha=0.6, label='MSE')\n",
    "plt.xlabel('Models')\n",
    "plt.ylabel('Error')\n",
    "plt.title('Comparison of MSE for Different Models and Meta-Model (Stacking)')\n",
    "plt.xticks([i + bar_width / 2 for i in index], models)\n",
    "plt.legend()\n",
    "plt.tight_layout()\n",
    "plt.show()"
   ]
  },
  {
   "cell_type": "code",
   "execution_count": 91,
   "id": "570122a1-883c-41bc-9145-9e3524a250a6",
   "metadata": {},
   "outputs": [],
   "source": [
    "meta_test_predictions_unscaled = target_scaler.inverse_transform(meta_model_predictions.reshape(-1, 1))[-n_rows_to_display:]"
   ]
  },
  {
   "cell_type": "code",
   "execution_count": 92,
   "id": "7df19787-d281-4927-9340-3d5ddcad2fa1",
   "metadata": {},
   "outputs": [],
   "source": [
    "# Unscale the actual values and predictions\n",
    "y_train_unscaled = target_scaler.inverse_transform(y_train.reshape(-1, 1))[-n_rows_to_display:]\n",
    "y_test_unscaled = target_scaler.inverse_transform(y_test.reshape(-1, 1))[-n_rows_to_display:]"
   ]
  },
  {
   "cell_type": "code",
   "execution_count": 93,
   "id": "705f7a29-6e1b-49d0-8c9e-3d0dab548f4a",
   "metadata": {},
   "outputs": [
    {
     "data": {
      "image/png": "[encoded data removed]",
      "text/plain": [
       "<Figure size 640x480 with 1 Axes>"
      ]
     },
     "metadata": {},
     "output_type": "display_data"
    }
   ],
   "source": [
    "# Plot actual vs. predicted for testing data\n",
    "plt.subplot(2, 1, 2)\n",
    "plt.plot(y_test_unscaled, label='Actual (Test)', color='blue', linestyle='-', alpha=0.7)\n",
    "plt.plot(lstm_test_predictions_unscaled, label='Prediction Model', color='red', linestyle='-.')\n",
    "plt.title('Testing Data: Actual vs Predictions (Last Rows)')\n",
    "plt.legend()\n",
    "\n",
    "plt.tight_layout()\n",
    "plt.show()"
   ]
  },
  {
   "cell_type": "code",
   "execution_count": 228,
   "id": "8a16b241-49b7-4999-9645-61583749a17d",
   "metadata": {},
   "outputs": [],
   "source": [
    "df = pd.read_csv(\"cleaned.csv\")"
   ]
  },
  {
   "cell_type": "code",
   "execution_count": 230,
   "id": "d1e7dd22-fb8a-4efc-8458-6b0aa2986b21",
   "metadata": {},
   "outputs": [],
   "source": [
    "date = df['Unnamed: 0']"
   ]
  },
  {
   "cell_type": "code",
   "execution_count": 232,
   "id": "18000534-72bb-49d8-a865-8f5a95be6605",
   "metadata": {},
   "outputs": [
    {
     "data": {
      "text/plain": [
       "0       1999-01-22\n",
       "1       1999-01-23\n",
       "2       1999-01-24\n",
       "3       1999-01-25\n",
       "4       1999-01-26\n",
       "           ...    \n",
       "9632    2025-06-06\n",
       "9633    2025-06-07\n",
       "9634    2025-06-08\n",
       "9635    2025-06-09\n",
       "9636    2025-06-10\n",
       "Name: Unnamed: 0, Length: 9637, dtype: object"
      ]
     },
     "execution_count": 232,
     "metadata": {},
     "output_type": "execute_result"
    }
   ],
   "source": [
    "date"
   ]
  },
  {
   "cell_type": "code",
   "execution_count": 234,
   "id": "5df13726-b0be-41d1-8ae9-72d244de8447",
   "metadata": {},
   "outputs": [
    {
     "data": {
      "text/plain": [
       "(0    1999-01-22\n",
       " 1    1999-01-23\n",
       " 2    1999-01-24\n",
       " 3    1999-01-25\n",
       " 4    1999-01-26\n",
       " Name: Unnamed: 0, dtype: object,\n",
       " 6745    2017-07-11\n",
       " 6746    2017-07-12\n",
       " 6747    2017-07-13\n",
       " 6748    2017-07-14\n",
       " 6749    2017-07-15\n",
       " Name: Unnamed: 0, dtype: object,\n",
       " 8191    2021-06-26\n",
       " 8192    2021-06-27\n",
       " 8193    2021-06-28\n",
       " 8194    2021-06-29\n",
       " 8195    2021-06-30\n",
       " Name: Unnamed: 0, dtype: object)"
      ]
     },
     "execution_count": 234,
     "metadata": {},
     "output_type": "execute_result"
    }
   ],
   "source": [
    "# Calculate the indices for splitting\n",
    "train_size = int(len(date) * 0.7)\n",
    "val_size = int(len(date) * 0.85)\n",
    "\n",
    "# Split the date column into training, validation, and test sets\n",
    "date_train = date[:train_size]\n",
    "date_val = date[train_size:val_size]\n",
    "date_test = date[val_size:]\n",
    "\n",
    "# Show the splits for the date column\n",
    "(date_train.head(), date_val.head(), date_test.head())"
   ]
  },
  {
   "cell_type": "code",
   "execution_count": 256,
   "id": "05ee87b0-47df-4cdb-b32e-929d03e381ff",
   "metadata": {},
   "outputs": [
    {
     "data": {
      "text/plain": [
       "1445"
      ]
     },
     "execution_count": 256,
     "metadata": {},
     "output_type": "execute_result"
    }
   ],
   "source": [
    "y_test_unscaled = target_scaler.inverse_transform(y_test.reshape(-1, 1))\n",
    "y_test_unscaled.size"
   ]
  },
  {
   "cell_type": "code",
   "execution_count": 262,
   "id": "da294515-eb6a-45e9-9319-20d3fe99344f",
   "metadata": {},
   "outputs": [
    {
     "data": {
      "text/plain": [
       "1446"
      ]
     },
     "execution_count": 262,
     "metadata": {},
     "output_type": "execute_result"
    }
   ],
   "source": [
    "date_test.size"
   ]
  },
  {
   "cell_type": "code",
   "execution_count": 282,
   "id": "57ba8fc9-c755-4e81-b8d8-ed8aaec57765",
   "metadata": {},
   "outputs": [],
   "source": [
    "date_test = date_test.iloc[1:]"
   ]
  },
  {
   "cell_type": "code",
   "execution_count": 284,
   "id": "b5e8ba32-76ab-4f00-9214-0e322a6f4589",
   "metadata": {},
   "outputs": [
    {
     "name": "stdout",
     "output_type": "stream",
     "text": [
      "\u001b[1m46/46\u001b[0m \u001b[32m━━━━━━━━━━━━━━━━━━━━\u001b[0m\u001b[37m\u001b[0m \u001b[1m0s\u001b[0m 1ms/step\n"
     ]
    },
    {
     "data": {
      "text/plain": [
       "1445"
      ]
     },
     "execution_count": 284,
     "metadata": {},
     "output_type": "execute_result"
    }
   ],
   "source": [
    "predictions_unscaled = target_scaler.inverse_transform(best_lstm_model.predict(X_test).reshape(-1, 1))\n",
    "predictions_unscaled.size"
   ]
  },
  {
   "cell_type": "code",
   "execution_count": 286,
   "id": "f7fa6359-0e5d-4b3b-99f7-7fc0545e64e0",
   "metadata": {},
   "outputs": [],
   "source": [
    "predictions = pd.DataFrame()"
   ]
  },
  {
   "cell_type": "code",
   "execution_count": 352,
   "id": "6226d2f4-18c2-40a7-aafa-cb163b553ea0",
   "metadata": {},
   "outputs": [
    {
     "data": {
      "text/plain": [
       "array([[[0.11573803, 0.11876996, 0.12132421, ..., 0.11876996,\n",
       "         0.11862465, 0.12016282],\n",
       "        [0.12232322, 0.12442828, 0.12205306, ..., 0.12442828,\n",
       "         0.11876996, 0.11862465],\n",
       "        [0.12004824, 0.12430468, 0.12260921, ..., 0.12430468,\n",
       "         0.12442828, 0.11876996],\n",
       "        ...,\n",
       "        [0.1252179 , 0.12710041, 0.12597317, ..., 0.12710041,\n",
       "         0.12596141, 0.12289178],\n",
       "        [0.12556202, 0.12809077, 0.12679871, ..., 0.12809077,\n",
       "         0.12710041, 0.12596141],\n",
       "        [0.12608877, 0.12692508, 0.12814495, ..., 0.12692508,\n",
       "         0.12809077, 0.12710041]],\n",
       "\n",
       "       [[0.12232322, 0.12442828, 0.12205306, ..., 0.12442828,\n",
       "         0.11876996, 0.11862465],\n",
       "        [0.12004824, 0.12430468, 0.12260921, ..., 0.12430468,\n",
       "         0.12442828, 0.11876996],\n",
       "        [0.12004824, 0.12289178, 0.12260921, ..., 0.12289178,\n",
       "         0.12430468, 0.12442828],\n",
       "        ...,\n",
       "        [0.12556202, 0.12809077, 0.12679871, ..., 0.12809077,\n",
       "         0.12710041, 0.12596141],\n",
       "        [0.12608877, 0.12692508, 0.12814495, ..., 0.12692508,\n",
       "         0.12809077, 0.12710041],\n",
       "        [0.12608877, 0.13329817, 0.12814495, ..., 0.13329817,\n",
       "         0.12692508, 0.12809077]],\n",
       "\n",
       "       [[0.12004824, 0.12430468, 0.12260921, ..., 0.12430468,\n",
       "         0.12442828, 0.11876996],\n",
       "        [0.12004824, 0.12289178, 0.12260921, ..., 0.12289178,\n",
       "         0.12430468, 0.12442828],\n",
       "        [0.12004824, 0.12289178, 0.12260921, ..., 0.12289178,\n",
       "         0.12289178, 0.12430468],\n",
       "        ...,\n",
       "        [0.12608877, 0.12692508, 0.12814495, ..., 0.12692508,\n",
       "         0.12809077, 0.12710041],\n",
       "        [0.12608877, 0.13329817, 0.12814495, ..., 0.13329817,\n",
       "         0.12692508, 0.12809077],\n",
       "        [0.12608877, 0.13329817, 0.12814495, ..., 0.13329817,\n",
       "         0.13329817, 0.12692508]],\n",
       "\n",
       "       ...,\n",
       "\n",
       "       [[0.92962712, 0.90222411, 0.92296354, ..., 0.90222411,\n",
       "         0.90684307, 0.90684307],\n",
       "        [0.90655281, 0.93154437, 0.92316937, ..., 0.93154437,\n",
       "         0.90222411, 0.90684307],\n",
       "        [0.8854395 , 0.90436628, 0.92452781, ..., 0.90436628,\n",
       "         0.93154437, 0.90222411],\n",
       "        ...,\n",
       "        [0.92910418, 0.94981927, 0.93919614, ..., 0.94981927,\n",
       "         0.94513341, 0.91942804],\n",
       "        [0.93132661, 0.93689968, 0.94529536, ..., 0.93689968,\n",
       "         0.94981927, 0.94513341],\n",
       "        [0.93577157, 0.94848047, 0.95307549, ..., 0.94848047,\n",
       "         0.93689968, 0.94981927]],\n",
       "\n",
       "       [[0.90655281, 0.93154437, 0.92316937, ..., 0.93154437,\n",
       "         0.90222411, 0.90684307],\n",
       "        [0.8854395 , 0.90436628, 0.92452781, ..., 0.90436628,\n",
       "         0.93154437, 0.90222411],\n",
       "        [0.8854395 , 0.91942804, 0.92452781, ..., 0.91942804,\n",
       "         0.90436628, 0.93154437],\n",
       "        ...,\n",
       "        [0.93132661, 0.93689968, 0.94529536, ..., 0.93689968,\n",
       "         0.94981927, 0.94513341],\n",
       "        [0.93577157, 0.94848047, 0.95307549, ..., 0.94848047,\n",
       "         0.93689968, 0.94981927],\n",
       "        [0.93577157, 0.95457214, 0.95307549, ..., 0.95457214,\n",
       "         0.94848047, 0.93689968]],\n",
       "\n",
       "       [[0.8854395 , 0.90436628, 0.92452781, ..., 0.90436628,\n",
       "         0.93154437, 0.90222411],\n",
       "        [0.8854395 , 0.91942804, 0.92452781, ..., 0.91942804,\n",
       "         0.90436628, 0.93154437],\n",
       "        [0.8854395 , 0.91942804, 0.92452781, ..., 0.91942804,\n",
       "         0.91942804, 0.90436628],\n",
       "        ...,\n",
       "        [0.93577157, 0.94848047, 0.95307549, ..., 0.94848047,\n",
       "         0.93689968, 0.94981927],\n",
       "        [0.93577157, 0.95457214, 0.95307549, ..., 0.95457214,\n",
       "         0.94848047, 0.93689968],\n",
       "        [0.93577157, 0.95457214, 0.95307549, ..., 0.95457214,\n",
       "         0.95457214, 0.94848047]]])"
      ]
     },
     "execution_count": 352,
     "metadata": {},
     "output_type": "execute_result"
    }
   ],
   "source": [
    "X_test"
   ]
  },
  {
   "cell_type": "code",
   "execution_count": 348,
   "id": "890ebb74-963b-4c38-992f-c866fa6ce395",
   "metadata": {},
   "outputs": [
    {
     "ename": "ValueError",
     "evalue": "Found array with dim 3. None expected <= 2.",
     "output_type": "error",
     "traceback": [
      "\u001b[1;31m---------------------------------------------------------------------------\u001b[0m",
      "\u001b[1;31mValueError\u001b[0m                                Traceback (most recent call last)",
      "Cell \u001b[1;32mIn[348], line 1\u001b[0m\n\u001b[1;32m----> 1\u001b[0m X_test_unscaled \u001b[38;5;241m=\u001b[39m feature_scaler\u001b[38;5;241m.\u001b[39minverse_transform(X_test)\n",
      "File \u001b[1;32mD:\\Anaconda\\Lib\\site-packages\\sklearn\\preprocessing\\_data.py:537\u001b[0m, in \u001b[0;36mMinMaxScaler.inverse_transform\u001b[1;34m(self, X)\u001b[0m\n\u001b[0;32m    523\u001b[0m \u001b[38;5;250m\u001b[39m\u001b[38;5;124;03m\"\"\"Undo the scaling of X according to feature_range.\u001b[39;00m\n\u001b[0;32m    524\u001b[0m \n\u001b[0;32m    525\u001b[0m \u001b[38;5;124;03mParameters\u001b[39;00m\n\u001b[1;32m   (...)\u001b[0m\n\u001b[0;32m    533\u001b[0m \u001b[38;5;124;03m    Transformed data.\u001b[39;00m\n\u001b[0;32m    534\u001b[0m \u001b[38;5;124;03m\"\"\"\u001b[39;00m\n\u001b[0;32m    535\u001b[0m check_is_fitted(\u001b[38;5;28mself\u001b[39m)\n\u001b[1;32m--> 537\u001b[0m X \u001b[38;5;241m=\u001b[39m check_array(\n\u001b[0;32m    538\u001b[0m     X, copy\u001b[38;5;241m=\u001b[39m\u001b[38;5;28mself\u001b[39m\u001b[38;5;241m.\u001b[39mcopy, dtype\u001b[38;5;241m=\u001b[39mFLOAT_DTYPES, force_all_finite\u001b[38;5;241m=\u001b[39m\u001b[38;5;124m\"\u001b[39m\u001b[38;5;124mallow-nan\u001b[39m\u001b[38;5;124m\"\u001b[39m\n\u001b[0;32m    539\u001b[0m )\n\u001b[0;32m    541\u001b[0m X \u001b[38;5;241m-\u001b[39m\u001b[38;5;241m=\u001b[39m \u001b[38;5;28mself\u001b[39m\u001b[38;5;241m.\u001b[39mmin_\n\u001b[0;32m    542\u001b[0m X \u001b[38;5;241m/\u001b[39m\u001b[38;5;241m=\u001b[39m \u001b[38;5;28mself\u001b[39m\u001b[38;5;241m.\u001b[39mscale_\n",
      "File \u001b[1;32mD:\\Anaconda\\Lib\\site-packages\\sklearn\\utils\\validation.py:915\u001b[0m, in \u001b[0;36mcheck_array\u001b[1;34m(array, accept_sparse, accept_large_sparse, dtype, order, copy, force_all_finite, ensure_2d, allow_nd, ensure_min_samples, ensure_min_features, estimator, input_name)\u001b[0m\n\u001b[0;32m    910\u001b[0m     \u001b[38;5;28;01mraise\u001b[39;00m \u001b[38;5;167;01mValueError\u001b[39;00m(\n\u001b[0;32m    911\u001b[0m         \u001b[38;5;124m\"\u001b[39m\u001b[38;5;124mdtype=\u001b[39m\u001b[38;5;124m'\u001b[39m\u001b[38;5;124mnumeric\u001b[39m\u001b[38;5;124m'\u001b[39m\u001b[38;5;124m is not compatible with arrays of bytes/strings.\u001b[39m\u001b[38;5;124m\"\u001b[39m\n\u001b[0;32m    912\u001b[0m         \u001b[38;5;124m\"\u001b[39m\u001b[38;5;124mConvert your data to numeric values explicitly instead.\u001b[39m\u001b[38;5;124m\"\u001b[39m\n\u001b[0;32m    913\u001b[0m     )\n\u001b[0;32m    914\u001b[0m \u001b[38;5;28;01mif\u001b[39;00m \u001b[38;5;129;01mnot\u001b[39;00m allow_nd \u001b[38;5;129;01mand\u001b[39;00m array\u001b[38;5;241m.\u001b[39mndim \u001b[38;5;241m>\u001b[39m\u001b[38;5;241m=\u001b[39m \u001b[38;5;241m3\u001b[39m:\n\u001b[1;32m--> 915\u001b[0m     \u001b[38;5;28;01mraise\u001b[39;00m \u001b[38;5;167;01mValueError\u001b[39;00m(\n\u001b[0;32m    916\u001b[0m         \u001b[38;5;124m\"\u001b[39m\u001b[38;5;124mFound array with dim \u001b[39m\u001b[38;5;132;01m%d\u001b[39;00m\u001b[38;5;124m. \u001b[39m\u001b[38;5;132;01m%s\u001b[39;00m\u001b[38;5;124m expected <= 2.\u001b[39m\u001b[38;5;124m\"\u001b[39m\n\u001b[0;32m    917\u001b[0m         \u001b[38;5;241m%\u001b[39m (array\u001b[38;5;241m.\u001b[39mndim, estimator_name)\n\u001b[0;32m    918\u001b[0m     )\n\u001b[0;32m    920\u001b[0m \u001b[38;5;28;01mif\u001b[39;00m force_all_finite:\n\u001b[0;32m    921\u001b[0m     _assert_all_finite(\n\u001b[0;32m    922\u001b[0m         array,\n\u001b[0;32m    923\u001b[0m         input_name\u001b[38;5;241m=\u001b[39minput_name,\n\u001b[0;32m    924\u001b[0m         estimator_name\u001b[38;5;241m=\u001b[39mestimator_name,\n\u001b[0;32m    925\u001b[0m         allow_nan\u001b[38;5;241m=\u001b[39mforce_all_finite \u001b[38;5;241m==\u001b[39m \u001b[38;5;124m\"\u001b[39m\u001b[38;5;124mallow-nan\u001b[39m\u001b[38;5;124m\"\u001b[39m,\n\u001b[0;32m    926\u001b[0m     )\n",
      "\u001b[1;31mValueError\u001b[0m: Found array with dim 3. None expected <= 2."
     ]
    }
   ],
   "source": [
    "X_test_unscaled = feature_scaler.inverse_transform(X_test)"
   ]
  },
  {
   "cell_type": "code",
   "execution_count": 346,
   "id": "4645f20a-7d98-421d-9284-4eebdde46a6a",
   "metadata": {},
   "outputs": [
    {
     "data": {
      "text/plain": [
       "array([[17.32080531],\n",
       "       [17.77372932],\n",
       "       [18.15529597],\n",
       "       [18.17194101],\n",
       "       [16.62577749],\n",
       "       [17.98180199],\n",
       "       [18.61899757],\n",
       "       [17.77372932],\n",
       "       [17.75202179],\n",
       "       [17.98180199],\n",
       "       [18.30453267],\n",
       "       [18.61899757],\n",
       "       [18.26417559],\n",
       "       [18.35704046],\n",
       "       [16.71792343],\n",
       "       [17.75202179],\n",
       "       [18.60053253],\n",
       "       [18.61899757],\n",
       "       [17.77372932],\n",
       "       [17.75202179],\n",
       "       [17.96468545],\n",
       "       [18.60053253],\n",
       "       [18.34725588],\n",
       "       [18.46888883],\n",
       "       [16.80379549],\n",
       "       [17.77372932],\n",
       "       [18.38946724],\n",
       "       [18.60053253],\n",
       "       [18.61899757],\n",
       "       [17.77372932],\n",
       "       [17.96468545],\n",
       "       [18.38946724],\n",
       "       [18.34725588],\n",
       "       [18.46888883],\n",
       "       [16.80379549],\n",
       "       [18.61899757],\n",
       "       [18.38946724],\n",
       "       [18.38946724],\n",
       "       [18.60053253],\n",
       "       [18.61899757],\n",
       "       [17.96468545],\n",
       "       [18.38946724],\n",
       "       [18.34725588],\n",
       "       [18.46888883],\n",
       "       [16.80379549],\n",
       "       [18.60053253],\n",
       "       [18.38946724],\n",
       "       [18.38946724],\n",
       "       [18.38946724],\n",
       "       [18.60053253],\n",
       "       [18.00001104],\n",
       "       [18.38946724],\n",
       "       [18.49389919],\n",
       "       [18.64642815],\n",
       "       [16.88222525],\n",
       "       [18.38946724],\n",
       "       [18.84802437],\n",
       "       [18.38946724],\n",
       "       [18.38946724],\n",
       "       [18.38946724],\n",
       "       [18.52256993],\n",
       "       [18.84802437],\n",
       "       [18.6676717 ],\n",
       "       [18.82360814],\n",
       "       [16.95426571],\n",
       "       [18.38946724],\n",
       "       [19.01817322],\n",
       "       [18.84802437],\n",
       "       [18.38946724],\n",
       "       [18.38946724],\n",
       "       [18.73695394],\n",
       "       [19.01817322],\n",
       "       [18.84978001],\n",
       "       [18.9963287 ],\n",
       "       [17.03803803],\n",
       "       [18.38946724],\n",
       "       [19.16611862],\n",
       "       [19.01817322],\n",
       "       [18.84802437],\n",
       "       [18.38946724],\n",
       "       [18.78836155],\n",
       "       [19.16611862],\n",
       "       [18.9731041 ],\n",
       "       [19.10497675],\n",
       "       [17.09976905],\n",
       "       [18.84802437],\n",
       "       [18.99198151],\n",
       "       [19.16611862],\n",
       "       [19.01817322],\n",
       "       [18.84802437],\n",
       "       [18.86704883],\n",
       "       [18.99198151],\n",
       "       [19.17421165],\n",
       "       [19.3724775 ],\n",
       "       [17.18661257],\n",
       "       [19.01817322],\n",
       "       [19.94402504],\n",
       "       [18.99198151],\n",
       "       [19.16611862],\n",
       "       [19.01817322]])"
      ]
     },
     "execution_count": 346,
     "metadata": {},
     "output_type": "execute_result"
    }
   ],
   "source": [
    "X_test_unscaled"
   ]
  },
  {
   "cell_type": "code",
   "execution_count": 288,
   "id": "78901e64-85c4-4795-8ca6-32ce3c6c1575",
   "metadata": {},
   "outputs": [],
   "source": [
    "predictions[\"Date\"] = date_test\n",
    "predictions[\"Prediction\"] = predictions_unscaled\n",
    "predictions[\"Actual\"] = y_test_unscaled"
   ]
  },
  {
   "cell_type": "code",
   "execution_count": 296,
   "id": "a6860936-ce8f-4fd8-9b46-c8ad0819224c",
   "metadata": {},
   "outputs": [],
   "source": [
    "predictions['Date'] = pd.to_datetime(predictions['Date'])"
   ]
  },
  {
   "cell_type": "code",
   "execution_count": 298,
   "id": "a99e5f25-c67f-4f7e-82e0-72f74039b366",
   "metadata": {},
   "outputs": [
    {
     "data": {
      "text/html": [
       "<div>\n",
       "<style scoped>\n",
       "    .dataframe tbody tr th:only-of-type {\n",
       "        vertical-align: middle;\n",
       "    }\n",
       "\n",
       "    .dataframe tbody tr th {\n",
       "        vertical-align: top;\n",
       "    }\n",
       "\n",
       "    .dataframe thead th {\n",
       "        text-align: right;\n",
       "    }\n",
       "</style>\n",
       "<table border=\"1\" class=\"dataframe\">\n",
       "  <thead>\n",
       "    <tr style=\"text-align: right;\">\n",
       "      <th></th>\n",
       "      <th>Date</th>\n",
       "      <th>Prediction</th>\n",
       "      <th>Actual</th>\n",
       "    </tr>\n",
       "  </thead>\n",
       "  <tbody>\n",
       "    <tr>\n",
       "      <th>8192</th>\n",
       "      <td>2021-06-27</td>\n",
       "      <td>19.238503</td>\n",
       "      <td>19.944025</td>\n",
       "    </tr>\n",
       "    <tr>\n",
       "      <th>8193</th>\n",
       "      <td>2021-06-28</td>\n",
       "      <td>19.451565</td>\n",
       "      <td>19.944025</td>\n",
       "    </tr>\n",
       "    <tr>\n",
       "      <th>8194</th>\n",
       "      <td>2021-06-29</td>\n",
       "      <td>19.413877</td>\n",
       "      <td>19.985689</td>\n",
       "    </tr>\n",
       "    <tr>\n",
       "      <th>8195</th>\n",
       "      <td>2021-06-30</td>\n",
       "      <td>19.500505</td>\n",
       "      <td>19.961491</td>\n",
       "    </tr>\n",
       "    <tr>\n",
       "      <th>8196</th>\n",
       "      <td>2021-07-01</td>\n",
       "      <td>19.528442</td>\n",
       "      <td>20.170557</td>\n",
       "    </tr>\n",
       "    <tr>\n",
       "      <th>...</th>\n",
       "      <td>...</td>\n",
       "      <td>...</td>\n",
       "      <td>...</td>\n",
       "    </tr>\n",
       "    <tr>\n",
       "      <th>9632</th>\n",
       "      <td>2025-06-06</td>\n",
       "      <td>138.712158</td>\n",
       "      <td>141.720001</td>\n",
       "    </tr>\n",
       "    <tr>\n",
       "      <th>9633</th>\n",
       "      <td>2025-06-07</td>\n",
       "      <td>139.146500</td>\n",
       "      <td>142.630005</td>\n",
       "    </tr>\n",
       "    <tr>\n",
       "      <th>9634</th>\n",
       "      <td>2025-06-08</td>\n",
       "      <td>140.253586</td>\n",
       "      <td>142.630005</td>\n",
       "    </tr>\n",
       "    <tr>\n",
       "      <th>9635</th>\n",
       "      <td>2025-06-09</td>\n",
       "      <td>140.490387</td>\n",
       "      <td>142.630005</td>\n",
       "    </tr>\n",
       "    <tr>\n",
       "      <th>9636</th>\n",
       "      <td>2025-06-10</td>\n",
       "      <td>140.377914</td>\n",
       "      <td>143.960007</td>\n",
       "    </tr>\n",
       "  </tbody>\n",
       "</table>\n",
       "<p>1445 rows × 3 columns</p>\n",
       "</div>"
      ],
      "text/plain": [
       "           Date  Prediction      Actual\n",
       "8192 2021-06-27   19.238503   19.944025\n",
       "8193 2021-06-28   19.451565   19.944025\n",
       "8194 2021-06-29   19.413877   19.985689\n",
       "8195 2021-06-30   19.500505   19.961491\n",
       "8196 2021-07-01   19.528442   20.170557\n",
       "...         ...         ...         ...\n",
       "9632 2025-06-06  138.712158  141.720001\n",
       "9633 2025-06-07  139.146500  142.630005\n",
       "9634 2025-06-08  140.253586  142.630005\n",
       "9635 2025-06-09  140.490387  142.630005\n",
       "9636 2025-06-10  140.377914  143.960007\n",
       "\n",
       "[1445 rows x 3 columns]"
      ]
     },
     "execution_count": 298,
     "metadata": {},
     "output_type": "execute_result"
    }
   ],
   "source": [
    "predictions"
   ]
  },
  {
   "cell_type": "code",
   "execution_count": 383,
   "id": "cd0cdf72-081f-41cc-a96b-b0482cac308d",
   "metadata": {},
   "outputs": [],
   "source": [
    "# Define date ranges for serious volatility\n",
    "deepseek_start = pd.to_datetime('2025-01-23')\n",
    "deepseek_end = pd.to_datetime('2025-01-26')\n",
    "\n",
    "tariff_start = pd.to_datetime('2025-02-01')\n",
    "tariff_end = pd.to_datetime('2025-06-01')\n",
    "\n",
    "# Filter for DeepSeek release period\n",
    "deepseek_period = predictions[(predictions['Date'] >= deepseek_start) & (predictions['Date'] <= deepseek_end)]\n",
    "\n",
    "# Filter for Trump tariffs period\n",
    "tariff_period = predictions[(predictions['Date'] >= tariff_start) & (predictions['Date'] <= tariff_end)]"
   ]
  },
  {
   "cell_type": "code",
   "execution_count": 385,
   "id": "4a25ad78-f9e0-4e55-9ffe-740f053cf7bd",
   "metadata": {},
   "outputs": [
    {
     "data": {
      "text/html": [
       "<div>\n",
       "<style scoped>\n",
       "    .dataframe tbody tr th:only-of-type {\n",
       "        vertical-align: middle;\n",
       "    }\n",
       "\n",
       "    .dataframe tbody tr th {\n",
       "        vertical-align: top;\n",
       "    }\n",
       "\n",
       "    .dataframe thead th {\n",
       "        text-align: right;\n",
       "    }\n",
       "</style>\n",
       "<table border=\"1\" class=\"dataframe\">\n",
       "  <thead>\n",
       "    <tr style=\"text-align: right;\">\n",
       "      <th></th>\n",
       "      <th>Date</th>\n",
       "      <th>Prediction</th>\n",
       "      <th>Actual</th>\n",
       "    </tr>\n",
       "  </thead>\n",
       "  <tbody>\n",
       "    <tr>\n",
       "      <th>9498</th>\n",
       "      <td>2025-01-23</td>\n",
       "      <td>142.920486</td>\n",
       "      <td>147.206467</td>\n",
       "    </tr>\n",
       "    <tr>\n",
       "      <th>9499</th>\n",
       "      <td>2025-01-24</td>\n",
       "      <td>144.638031</td>\n",
       "      <td>142.606873</td>\n",
       "    </tr>\n",
       "    <tr>\n",
       "      <th>9500</th>\n",
       "      <td>2025-01-25</td>\n",
       "      <td>142.329865</td>\n",
       "      <td>118.409103</td>\n",
       "    </tr>\n",
       "    <tr>\n",
       "      <th>9501</th>\n",
       "      <td>2025-01-26</td>\n",
       "      <td>122.115234</td>\n",
       "      <td>118.409103</td>\n",
       "    </tr>\n",
       "  </tbody>\n",
       "</table>\n",
       "</div>"
      ],
      "text/plain": [
       "           Date  Prediction      Actual\n",
       "9498 2025-01-23  142.920486  147.206467\n",
       "9499 2025-01-24  144.638031  142.606873\n",
       "9500 2025-01-25  142.329865  118.409103\n",
       "9501 2025-01-26  122.115234  118.409103"
      ]
     },
     "execution_count": 385,
     "metadata": {},
     "output_type": "execute_result"
    }
   ],
   "source": [
    "deepseek_period"
   ]
  },
  {
   "cell_type": "code",
   "execution_count": 387,
   "id": "8387a147-8f63-454f-9073-2944636689a9",
   "metadata": {},
   "outputs": [
    {
     "data": {
      "text/html": [
       "<div>\n",
       "<style scoped>\n",
       "    .dataframe tbody tr th:only-of-type {\n",
       "        vertical-align: middle;\n",
       "    }\n",
       "\n",
       "    .dataframe tbody tr th {\n",
       "        vertical-align: top;\n",
       "    }\n",
       "\n",
       "    .dataframe thead th {\n",
       "        text-align: right;\n",
       "    }\n",
       "</style>\n",
       "<table border=\"1\" class=\"dataframe\">\n",
       "  <thead>\n",
       "    <tr style=\"text-align: right;\">\n",
       "      <th></th>\n",
       "      <th>Date</th>\n",
       "      <th>Prediction</th>\n",
       "      <th>Actual</th>\n",
       "    </tr>\n",
       "  </thead>\n",
       "  <tbody>\n",
       "    <tr>\n",
       "      <th>9507</th>\n",
       "      <td>2025-02-01</td>\n",
       "      <td>120.560837</td>\n",
       "      <td>116.649277</td>\n",
       "    </tr>\n",
       "    <tr>\n",
       "      <th>9508</th>\n",
       "      <td>2025-02-02</td>\n",
       "      <td>115.762009</td>\n",
       "      <td>116.649277</td>\n",
       "    </tr>\n",
       "    <tr>\n",
       "      <th>9509</th>\n",
       "      <td>2025-02-03</td>\n",
       "      <td>115.296204</td>\n",
       "      <td>116.649277</td>\n",
       "    </tr>\n",
       "    <tr>\n",
       "      <th>9510</th>\n",
       "      <td>2025-02-04</td>\n",
       "      <td>115.785805</td>\n",
       "      <td>118.639091</td>\n",
       "    </tr>\n",
       "    <tr>\n",
       "      <th>9511</th>\n",
       "      <td>2025-02-05</td>\n",
       "      <td>117.385193</td>\n",
       "      <td>124.818520</td>\n",
       "    </tr>\n",
       "    <tr>\n",
       "      <th>...</th>\n",
       "      <td>...</td>\n",
       "      <td>...</td>\n",
       "      <td>...</td>\n",
       "    </tr>\n",
       "    <tr>\n",
       "      <th>9623</th>\n",
       "      <td>2025-05-28</td>\n",
       "      <td>133.095795</td>\n",
       "      <td>134.809998</td>\n",
       "    </tr>\n",
       "    <tr>\n",
       "      <th>9624</th>\n",
       "      <td>2025-05-29</td>\n",
       "      <td>133.052658</td>\n",
       "      <td>139.190002</td>\n",
       "    </tr>\n",
       "    <tr>\n",
       "      <th>9625</th>\n",
       "      <td>2025-05-30</td>\n",
       "      <td>136.610947</td>\n",
       "      <td>135.130005</td>\n",
       "    </tr>\n",
       "    <tr>\n",
       "      <th>9626</th>\n",
       "      <td>2025-05-31</td>\n",
       "      <td>134.635605</td>\n",
       "      <td>137.380005</td>\n",
       "    </tr>\n",
       "    <tr>\n",
       "      <th>9627</th>\n",
       "      <td>2025-06-01</td>\n",
       "      <td>134.334106</td>\n",
       "      <td>137.380005</td>\n",
       "    </tr>\n",
       "  </tbody>\n",
       "</table>\n",
       "<p>121 rows × 3 columns</p>\n",
       "</div>"
      ],
      "text/plain": [
       "           Date  Prediction      Actual\n",
       "9507 2025-02-01  120.560837  116.649277\n",
       "9508 2025-02-02  115.762009  116.649277\n",
       "9509 2025-02-03  115.296204  116.649277\n",
       "9510 2025-02-04  115.785805  118.639091\n",
       "9511 2025-02-05  117.385193  124.818520\n",
       "...         ...         ...         ...\n",
       "9623 2025-05-28  133.095795  134.809998\n",
       "9624 2025-05-29  133.052658  139.190002\n",
       "9625 2025-05-30  136.610947  135.130005\n",
       "9626 2025-05-31  134.635605  137.380005\n",
       "9627 2025-06-01  134.334106  137.380005\n",
       "\n",
       "[121 rows x 3 columns]"
      ]
     },
     "execution_count": 387,
     "metadata": {},
     "output_type": "execute_result"
    }
   ],
   "source": [
    "tariff_period"
   ]
  },
  {
   "cell_type": "code",
   "execution_count": 389,
   "id": "8b5a6a1b-7f85-47a7-9bc2-1986b6d5eacc",
   "metadata": {},
   "outputs": [],
   "source": [
    "tariff_period.to_csv(\"tariffs.csv\")"
   ]
  },
  {
   "cell_type": "code",
   "execution_count": 391,
   "id": "7b4fce8f-bcc6-45b6-a1e4-3ebe08786f52",
   "metadata": {},
   "outputs": [],
   "source": [
    "test_start = pd.to_datetime('2024-02-01')\n",
    "test_end = pd.to_datetime('2024-06-01')"
   ]
  },
  {
   "cell_type": "code",
   "execution_count": 393,
   "id": "bf148a11-5d17-4f6f-af13-b87415a64797",
   "metadata": {},
   "outputs": [],
   "source": [
    "# Filter for period\n",
    "test_period = predictions[(predictions['Date'] >= test_start) & (predictions['Date'] <= test_end)]"
   ]
  },
  {
   "cell_type": "code",
   "execution_count": 395,
   "id": "7d266c1d-fe10-423d-b130-1cefb712e1b0",
   "metadata": {},
   "outputs": [],
   "source": [
    "test_period.to_csv(\"experiment.csv\")"
   ]
  },
  {
   "cell_type": "code",
   "execution_count": null,
   "id": "603d7cf7-5bb8-4a2f-bed8-39b3261aa892",
   "metadata": {},
   "outputs": [],
   "source": []
  }
 ],
 "metadata": {
  "kernelspec": {
   "display_name": "Python 3 (ipykernel)",
   "language": "python",
   "name": "python3"
  },
  "language_info": {
   "codemirror_mode": {
    "name": "ipython",
    "version": 3
   },
   "file_extension": ".py",
   "mimetype": "text/x-python",
   "name": "python",
   "nbconvert_exporter": "python",
   "pygments_lexer": "ipython3",
   "version": "3.11.7"
  }
 },
 "nbformat": 4,
 "nbformat_minor": 5
}
