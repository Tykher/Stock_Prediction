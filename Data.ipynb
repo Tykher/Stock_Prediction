{
 "cells": [
  {
   "cell_type": "code",
   "execution_count": 1,
   "id": "b9b5fad4-4f5c-4dcb-bbe7-3cfb17d63e15",
   "metadata": {},
   "outputs": [
    {
     "name": "stdout",
     "output_type": "stream",
     "text": [
      "Requirement already satisfied: yfinance in c:\\python\\lib\\site-packages (0.2.50)\n",
      "Requirement already satisfied: pandas in c:\\python\\lib\\site-packages (2.2.2)\n",
      "Requirement already satisfied: ta in c:\\python\\lib\\site-packages (0.11.0)\n",
      "Requirement already satisfied: numpy>=1.16.5 in c:\\python\\lib\\site-packages (from yfinance) (1.26.0)\n",
      "Requirement already satisfied: requests>=2.31 in c:\\python\\lib\\site-packages (from yfinance) (2.31.0)\n",
      "Requirement already satisfied: multitasking>=0.0.7 in c:\\python\\lib\\site-packages (from yfinance) (0.0.11)\n",
      "Requirement already satisfied: lxml>=4.9.1 in c:\\python\\lib\\site-packages (from yfinance) (5.2.2)\n",
      "Requirement already satisfied: platformdirs>=2.0.0 in c:\\python\\lib\\site-packages (from yfinance) (4.2.2)\n",
      "Requirement already satisfied: pytz>=2022.5 in c:\\python\\lib\\site-packages (from yfinance) (2024.1)\n",
      "Requirement already satisfied: frozendict>=2.3.4 in c:\\python\\lib\\site-packages (from yfinance) (2.4.6)\n",
      "Requirement already satisfied: peewee>=3.16.2 in c:\\python\\lib\\site-packages (from yfinance) (3.17.8)\n",
      "Requirement already satisfied: beautifulsoup4>=4.11.1 in c:\\python\\lib\\site-packages (from yfinance) (4.12.3)\n",
      "Requirement already satisfied: html5lib>=1.1 in c:\\python\\lib\\site-packages (from yfinance) (1.1)\n",
      "Requirement already satisfied: python-dateutil>=2.8.2 in c:\\python\\lib\\site-packages (from pandas) (2.9.0.post0)\n",
      "Requirement already satisfied: tzdata>=2022.7 in c:\\python\\lib\\site-packages (from pandas) (2024.1)\n",
      "Requirement already satisfied: soupsieve>1.2 in c:\\python\\lib\\site-packages (from beautifulsoup4>=4.11.1->yfinance) (2.5)\n",
      "Requirement already satisfied: six>=1.9 in c:\\python\\lib\\site-packages (from html5lib>=1.1->yfinance) (1.16.0)\n",
      "Requirement already satisfied: webencodings in c:\\python\\lib\\site-packages (from html5lib>=1.1->yfinance) (0.5.1)\n",
      "Requirement already satisfied: charset-normalizer<4,>=2 in c:\\python\\lib\\site-packages (from requests>=2.31->yfinance) (3.2.0)\n",
      "Requirement already satisfied: idna<4,>=2.5 in c:\\python\\lib\\site-packages (from requests>=2.31->yfinance) (3.4)\n",
      "Requirement already satisfied: urllib3<3,>=1.21.1 in c:\\python\\lib\\site-packages (from requests>=2.31->yfinance) (2.0.3)\n",
      "Requirement already satisfied: certifi>=2017.4.17 in c:\\python\\lib\\site-packages (from requests>=2.31->yfinance) (2025.4.26)\n"
     ]
    },
    {
     "name": "stderr",
     "output_type": "stream",
     "text": [
      "\n",
      "[notice] A new release of pip is available: 24.3.1 -> 25.1.1\n",
      "[notice] To update, run: python.exe -m pip install --upgrade pip\n"
     ]
    }
   ],
   "source": [
    "!pip install yfinance pandas ta"
   ]
  },
  {
   "cell_type": "code",
   "execution_count": 2,
   "id": "86661119-7ffe-4bba-b41b-7cee852a6876",
   "metadata": {},
   "outputs": [],
   "source": [
    "import yfinance as yf\n",
    "import pandas as pd"
   ]
  },
  {
   "cell_type": "code",
   "execution_count": 3,
   "id": "c4462c21-e671-41b9-9301-88c117af2802",
   "metadata": {},
   "outputs": [
    {
     "name": "stderr",
     "output_type": "stream",
     "text": [
      "Failed to get ticker 'NVDA' reason: HTTPSConnectionPool(host='fc.yahoo.com', port=443): Max retries exceeded with url: / (Caused by SSLError(SSLCertVerificationError(1, '[SSL: CERTIFICATE_VERIFY_FAILED] certificate verify failed: unable to get local issuer certificate (_ssl.c:1002)')))\n",
      "[*********************100%***********************]  1 of 1 completed\n",
      "\n",
      "1 Failed download:\n",
      "['NVDA']: YFTzMissingError('$%ticker%: possibly delisted; no timezone found')\n"
     ]
    }
   ],
   "source": [
    "ticker = \"NVDA\"\n",
    "data = yf.download(ticker, period=\"max\", interval=\"1d\")  # 1 year of daily data"
   ]
  },
  {
   "cell_type": "code",
   "execution_count": 4,
   "id": "872cf3ea-f596-4995-a7ca-8bb94592bfb9",
   "metadata": {},
   "outputs": [
    {
     "data": {
      "text/html": [
       "<div>\n",
       "<style scoped>\n",
       "    .dataframe tbody tr th:only-of-type {\n",
       "        vertical-align: middle;\n",
       "    }\n",
       "\n",
       "    .dataframe tbody tr th {\n",
       "        vertical-align: top;\n",
       "    }\n",
       "\n",
       "    .dataframe thead tr th {\n",
       "        text-align: left;\n",
       "    }\n",
       "\n",
       "    .dataframe thead tr:last-of-type th {\n",
       "        text-align: right;\n",
       "    }\n",
       "</style>\n",
       "<table border=\"1\" class=\"dataframe\">\n",
       "  <thead>\n",
       "    <tr>\n",
       "      <th>Price</th>\n",
       "      <th>Adj Close</th>\n",
       "      <th>Close</th>\n",
       "      <th>High</th>\n",
       "      <th>Low</th>\n",
       "      <th>Open</th>\n",
       "      <th>Volume</th>\n",
       "    </tr>\n",
       "    <tr>\n",
       "      <th>Ticker</th>\n",
       "      <th>NVDA</th>\n",
       "      <th>NVDA</th>\n",
       "      <th>NVDA</th>\n",
       "      <th>NVDA</th>\n",
       "      <th>NVDA</th>\n",
       "      <th>NVDA</th>\n",
       "    </tr>\n",
       "    <tr>\n",
       "      <th>Date</th>\n",
       "      <th></th>\n",
       "      <th></th>\n",
       "      <th></th>\n",
       "      <th></th>\n",
       "      <th></th>\n",
       "      <th></th>\n",
       "    </tr>\n",
       "  </thead>\n",
       "  <tbody>\n",
       "  </tbody>\n",
       "</table>\n",
       "</div>"
      ],
      "text/plain": [
       "Empty DataFrame\n",
       "Columns: [(Adj Close, NVDA), (Close, NVDA), (High, NVDA), (Low, NVDA), (Open, NVDA), (Volume, NVDA)]\n",
       "Index: []"
      ]
     },
     "execution_count": 4,
     "metadata": {},
     "output_type": "execute_result"
    }
   ],
   "source": [
    "data"
   ]
  },
  {
   "cell_type": "code",
   "execution_count": 5,
   "id": "47aacb87-3830-49e1-9bf6-45de0a6411ad",
   "metadata": {},
   "outputs": [],
   "source": [
    "# Simple Moving Averages\n",
    "data['MA10'] = data['Close'].rolling(window=10).mean()  # 10-day MA\n",
    "data['MA50'] = data['Close'].rolling(window=50).mean()  # 50-day MA\n",
    "\n",
    "# Exponential Moving Averages\n",
    "data['EMA10'] = data['Close'].ewm(span=10, adjust=False).mean()  # 10-day EMA\n",
    "data['EMA50'] = data['Close'].ewm(span=50, adjust=False).mean()  # 50-day EMA"
   ]
  },
  {
   "cell_type": "code",
   "execution_count": 6,
   "id": "c47dedf6-3e57-4968-a085-94f7c42d907c",
   "metadata": {},
   "outputs": [],
   "source": [
    "from ta.momentum import RSIIndicator\n",
    "\n",
    "# Add RSI (default is 14-day period)\n",
    "data['RSI'] = RSIIndicator(data['Close']['NVDA']).rsi()"
   ]
  },
  {
   "cell_type": "code",
   "execution_count": 7,
   "id": "9709e3a8-7bb7-4c8f-b73b-2289b53ec658",
   "metadata": {},
   "outputs": [],
   "source": [
    "from ta.volatility import BollingerBands\n",
    "\n",
    "# Calculate Bollinger Bands\n",
    "bb_indicator = BollingerBands(data['Close']['NVDA'])\n",
    "data['BB_upper'] = bb_indicator.bollinger_hband()\n",
    "data['BB_lower'] = bb_indicator.bollinger_lband()\n",
    "data['BB_middle'] = bb_indicator.bollinger_mavg()"
   ]
  },
  {
   "cell_type": "code",
   "execution_count": 8,
   "id": "a5b0692b-2436-4df7-b1e9-fe2d78f955f7",
   "metadata": {},
   "outputs": [
    {
     "ename": "IndexError",
     "evalue": "index 13 is out of bounds for axis 0 with size 0",
     "output_type": "error",
     "traceback": [
      "\u001b[1;31m---------------------------------------------------------------------------\u001b[0m",
      "\u001b[1;31mIndexError\u001b[0m                                Traceback (most recent call last)",
      "Cell \u001b[1;32mIn[8], line 4\u001b[0m\n\u001b[0;32m      1\u001b[0m \u001b[38;5;28;01mfrom\u001b[39;00m \u001b[38;5;21;01mta\u001b[39;00m\u001b[38;5;21;01m.\u001b[39;00m\u001b[38;5;21;01mvolatility\u001b[39;00m \u001b[38;5;28;01mimport\u001b[39;00m AverageTrueRange\n\u001b[0;32m      3\u001b[0m \u001b[38;5;66;03m# Calculate ATR\u001b[39;00m\n\u001b[1;32m----> 4\u001b[0m data[\u001b[38;5;124m'\u001b[39m\u001b[38;5;124mATR\u001b[39m\u001b[38;5;124m'\u001b[39m] \u001b[38;5;241m=\u001b[39m \u001b[43mAverageTrueRange\u001b[49m\u001b[43m(\u001b[49m\u001b[43mdata\u001b[49m\u001b[43m[\u001b[49m\u001b[38;5;124;43m'\u001b[39;49m\u001b[38;5;124;43mHigh\u001b[39;49m\u001b[38;5;124;43m'\u001b[39;49m\u001b[43m]\u001b[49m\u001b[43m[\u001b[49m\u001b[38;5;124;43m'\u001b[39;49m\u001b[38;5;124;43mNVDA\u001b[39;49m\u001b[38;5;124;43m'\u001b[39;49m\u001b[43m]\u001b[49m\u001b[43m,\u001b[49m\u001b[43m \u001b[49m\u001b[43mdata\u001b[49m\u001b[43m[\u001b[49m\u001b[38;5;124;43m'\u001b[39;49m\u001b[38;5;124;43mLow\u001b[39;49m\u001b[38;5;124;43m'\u001b[39;49m\u001b[43m]\u001b[49m\u001b[43m[\u001b[49m\u001b[38;5;124;43m'\u001b[39;49m\u001b[38;5;124;43mNVDA\u001b[39;49m\u001b[38;5;124;43m'\u001b[39;49m\u001b[43m]\u001b[49m\u001b[43m,\u001b[49m\u001b[43m \u001b[49m\u001b[43mdata\u001b[49m\u001b[43m[\u001b[49m\u001b[38;5;124;43m'\u001b[39;49m\u001b[38;5;124;43mClose\u001b[39;49m\u001b[38;5;124;43m'\u001b[39;49m\u001b[43m]\u001b[49m\u001b[43m[\u001b[49m\u001b[38;5;124;43m'\u001b[39;49m\u001b[38;5;124;43mNVDA\u001b[39;49m\u001b[38;5;124;43m'\u001b[39;49m\u001b[43m]\u001b[49m\u001b[43m)\u001b[49m\u001b[38;5;241m.\u001b[39maverage_true_range()\n",
      "File \u001b[1;32mC:\\Python\\Lib\\site-packages\\ta\\volatility.py:44\u001b[0m, in \u001b[0;36mAverageTrueRange.__init__\u001b[1;34m(self, high, low, close, window, fillna)\u001b[0m\n\u001b[0;32m     42\u001b[0m \u001b[38;5;28mself\u001b[39m\u001b[38;5;241m.\u001b[39m_window \u001b[38;5;241m=\u001b[39m window\n\u001b[0;32m     43\u001b[0m \u001b[38;5;28mself\u001b[39m\u001b[38;5;241m.\u001b[39m_fillna \u001b[38;5;241m=\u001b[39m fillna\n\u001b[1;32m---> 44\u001b[0m \u001b[38;5;28;43mself\u001b[39;49m\u001b[38;5;241;43m.\u001b[39;49m\u001b[43m_run\u001b[49m\u001b[43m(\u001b[49m\u001b[43m)\u001b[49m\n",
      "File \u001b[1;32mC:\\Python\\Lib\\site-packages\\ta\\volatility.py:50\u001b[0m, in \u001b[0;36mAverageTrueRange._run\u001b[1;34m(self)\u001b[0m\n\u001b[0;32m     48\u001b[0m true_range \u001b[38;5;241m=\u001b[39m \u001b[38;5;28mself\u001b[39m\u001b[38;5;241m.\u001b[39m_true_range(\u001b[38;5;28mself\u001b[39m\u001b[38;5;241m.\u001b[39m_high, \u001b[38;5;28mself\u001b[39m\u001b[38;5;241m.\u001b[39m_low, close_shift)\n\u001b[0;32m     49\u001b[0m atr \u001b[38;5;241m=\u001b[39m np\u001b[38;5;241m.\u001b[39mzeros(\u001b[38;5;28mlen\u001b[39m(\u001b[38;5;28mself\u001b[39m\u001b[38;5;241m.\u001b[39m_close))\n\u001b[1;32m---> 50\u001b[0m \u001b[43matr\u001b[49m\u001b[43m[\u001b[49m\u001b[38;5;28;43mself\u001b[39;49m\u001b[38;5;241;43m.\u001b[39;49m\u001b[43m_window\u001b[49m\u001b[43m \u001b[49m\u001b[38;5;241;43m-\u001b[39;49m\u001b[43m \u001b[49m\u001b[38;5;241;43m1\u001b[39;49m\u001b[43m]\u001b[49m \u001b[38;5;241m=\u001b[39m true_range[\u001b[38;5;241m0\u001b[39m : \u001b[38;5;28mself\u001b[39m\u001b[38;5;241m.\u001b[39m_window]\u001b[38;5;241m.\u001b[39mmean()\n\u001b[0;32m     51\u001b[0m \u001b[38;5;28;01mfor\u001b[39;00m i \u001b[38;5;129;01min\u001b[39;00m \u001b[38;5;28mrange\u001b[39m(\u001b[38;5;28mself\u001b[39m\u001b[38;5;241m.\u001b[39m_window, \u001b[38;5;28mlen\u001b[39m(atr)):\n\u001b[0;32m     52\u001b[0m     atr[i] \u001b[38;5;241m=\u001b[39m (atr[i \u001b[38;5;241m-\u001b[39m \u001b[38;5;241m1\u001b[39m] \u001b[38;5;241m*\u001b[39m (\u001b[38;5;28mself\u001b[39m\u001b[38;5;241m.\u001b[39m_window \u001b[38;5;241m-\u001b[39m \u001b[38;5;241m1\u001b[39m) \u001b[38;5;241m+\u001b[39m true_range\u001b[38;5;241m.\u001b[39miloc[i]) \u001b[38;5;241m/\u001b[39m \u001b[38;5;28mfloat\u001b[39m(\n\u001b[0;32m     53\u001b[0m         \u001b[38;5;28mself\u001b[39m\u001b[38;5;241m.\u001b[39m_window\n\u001b[0;32m     54\u001b[0m     )\n",
      "\u001b[1;31mIndexError\u001b[0m: index 13 is out of bounds for axis 0 with size 0"
     ]
    }
   ],
   "source": [
    "from ta.volatility import AverageTrueRange\n",
    "\n",
    "# Calculate ATR\n",
    "data['ATR'] = AverageTrueRange(data['High']['NVDA'], data['Low']['NVDA'], data['Close']['NVDA']).average_true_range()"
   ]
  },
  {
   "cell_type": "code",
   "execution_count": null,
   "id": "02693847-0956-4a95-895b-818c42e36611",
   "metadata": {},
   "outputs": [],
   "source": [
    "# Flatten MultiIndex columns\n",
    "data.columns = ['_'.join(col).strip() for col in data.columns.values]"
   ]
  },
  {
   "cell_type": "code",
   "execution_count": null,
   "id": "34ae6595-4188-4cac-a779-7c64b611cb33",
   "metadata": {},
   "outputs": [],
   "source": [
    "data"
   ]
  },
  {
   "cell_type": "code",
   "execution_count": null,
   "id": "079388df-4ca2-42e3-814d-d03f95e13fd8",
   "metadata": {},
   "outputs": [],
   "source": [
    "tickers = [\"NVDA\", \"AMD\", \"INTC\", \"^GSPC\", \"^IXIC\"]\n",
    "\n",
    "# Fetch data for each ticker\n",
    "data_dict = {}\n",
    "for ticker in tickers:\n",
    "    data_dict[ticker] = yf.download(ticker, period=\"max\", interval=\"1d\")"
   ]
  },
  {
   "cell_type": "code",
   "execution_count": null,
   "id": "37e0072d-9259-4fa5-ba9b-130c9cd8806e",
   "metadata": {},
   "outputs": [],
   "source": [
    "# Extract relevant columns and rename them\n",
    "for ticker in tickers:\n",
    "    data[f\"{ticker}_Close\"] = data_dict[ticker]['Close']"
   ]
  },
  {
   "cell_type": "code",
   "execution_count": null,
   "id": "6d571b9d-7877-4429-9b15-734775652217",
   "metadata": {},
   "outputs": [],
   "source": [
    "from dotenv import load_dotenv\n",
    "import os\n",
    "import requests\n",
    "\n",
    "# Load environment variables from .env file\n",
    "load_dotenv()\n",
    "\n",
    "# Access the API key\n",
    "FRED_API_KEY = os.getenv(\"FRED_API_KEY\")"
   ]
  },
  {
   "cell_type": "code",
   "execution_count": null,
   "id": "f8a67697-5f80-42bb-864b-69e8d2cd8aee",
   "metadata": {},
   "outputs": [],
   "source": [
    "interest_endpoint = f\"https://api.stlouisfed.org/fred/series/observations?series_id=FEDFUNDS&api_key={FRED_API_KEY}&file_type=json\"\n",
    "interest_response = requests.get(interest_endpoint)"
   ]
  },
  {
   "cell_type": "code",
   "execution_count": null,
   "id": "77842794-a5d4-48cc-9a8f-3c0c5524ec89",
   "metadata": {},
   "outputs": [],
   "source": [
    "gdp_endpoint = f\"https://api.stlouisfed.org/fred/series/observations?series_id=GDP&api_key={FRED_API_KEY}&file_type=json\"\n",
    "gdp_response = requests.get(gdp_endpoint)"
   ]
  },
  {
   "cell_type": "code",
   "execution_count": null,
   "id": "71c5e4e0-06ed-4236-bcf5-5ffb020451f1",
   "metadata": {},
   "outputs": [],
   "source": [
    "start_date = data.index.min().strftime('%Y-%m-%d')\n",
    "end_date = data.index.max().strftime('%Y-%m-%d')\n",
    "\n",
    "print(\"Start Date:\", start_date)\n",
    "print(\"End Date:\", end_date)"
   ]
  },
  {
   "cell_type": "code",
   "execution_count": null,
   "id": "257c6084-d0c4-4295-8e1c-f4dbd5058d47",
   "metadata": {},
   "outputs": [],
   "source": [
    "gdp_data = gdp_response.json()"
   ]
  },
  {
   "cell_type": "code",
   "execution_count": null,
   "id": "6cc7d280-cbb9-410f-9ba5-6b7f3e56f8ad",
   "metadata": {},
   "outputs": [],
   "source": [
    "gdp_df = pd.DataFrame(gdp_data['observations'])\n",
    "gdp_df['date'] = pd.to_datetime(gdp_df['date'])\n",
    "gdp_df['value'] = pd.to_numeric(gdp_df['value'], errors='coerce')\n",
    "gdp_df = gdp_df.rename(columns={'date': 'Date', 'value': 'GDP'}).set_index('Date')"
   ]
  },
  {
   "cell_type": "code",
   "execution_count": null,
   "id": "035478c1-4e3a-4309-99ee-d399c1d62f9d",
   "metadata": {},
   "outputs": [],
   "source": [
    "gdp_daily = gdp_df.resample('D').ffill()"
   ]
  },
  {
   "cell_type": "code",
   "execution_count": null,
   "id": "01aeea66-a0c7-4cff-beb8-9320dc207feb",
   "metadata": {},
   "outputs": [],
   "source": [
    "gdp_daily = gdp_daily[start_date:end_date]"
   ]
  },
  {
   "cell_type": "code",
   "execution_count": null,
   "id": "bfe31133-6a92-4984-887b-8a6b1c88a08e",
   "metadata": {},
   "outputs": [],
   "source": [
    "gdp_daily"
   ]
  },
  {
   "cell_type": "code",
   "execution_count": null,
   "id": "f1e65e5e-204d-413b-bab3-c25314cf937d",
   "metadata": {},
   "outputs": [],
   "source": [
    "interest_data = interest_response.json()"
   ]
  },
  {
   "cell_type": "code",
   "execution_count": null,
   "id": "94c26f19-5d52-4734-b14a-c4dbfe5e694e",
   "metadata": {},
   "outputs": [],
   "source": [
    "interest_df = pd.DataFrame(interest_data['observations'])\n",
    "interest_df['date'] = pd.to_datetime(interest_df['date'])\n",
    "interest_df['value'] = pd.to_numeric(interest_df['value'], errors='coerce')\n",
    "interest_df = interest_df.rename(columns={'date': 'Date', 'value': 'Interest_Rate'}).set_index('Date')"
   ]
  },
  {
   "cell_type": "code",
   "execution_count": null,
   "id": "c864dd2f-ec49-4dc2-bae1-e37efcc95eb5",
   "metadata": {},
   "outputs": [],
   "source": [
    "interest_daily = interest_df.resample('D').ffill()"
   ]
  },
  {
   "cell_type": "code",
   "execution_count": null,
   "id": "59ae8c01-c9c5-4299-835e-1e93814b06ae",
   "metadata": {},
   "outputs": [],
   "source": [
    "interest_daily = interest_daily[start_date:end_date]"
   ]
  },
  {
   "cell_type": "code",
   "execution_count": null,
   "id": "742b4689-7abf-4eb9-a0e4-8caf38a8876a",
   "metadata": {},
   "outputs": [],
   "source": [
    "interest_daily"
   ]
  },
  {
   "cell_type": "code",
   "execution_count": null,
   "id": "644379f2-6bcc-45a7-a002-41decf1f5c5f",
   "metadata": {},
   "outputs": [],
   "source": [
    "# Merge GDP and Interest Rate into data\n",
    "data = data.merge(gdp_daily, how='left', left_index=True, right_index=True)\n",
    "data = data.merge(interest_daily, how='left', left_index=True, right_index=True)"
   ]
  },
  {
   "cell_type": "code",
   "execution_count": null,
   "id": "786bd851-06c3-4185-8329-ec6c11f4ce69",
   "metadata": {},
   "outputs": [],
   "source": [
    "data"
   ]
  },
  {
   "cell_type": "code",
   "execution_count": null,
   "id": "80acb520-01bb-462e-b1d1-85d53c72d6de",
   "metadata": {},
   "outputs": [],
   "source": [
    "data = data.drop(columns=['realtime_start_x', 'realtime_end_x', 'realtime_start_y', 'realtime_end_y'], errors='ignore')"
   ]
  },
  {
   "cell_type": "code",
   "execution_count": null,
   "id": "69f23714-e039-410a-915c-f9e698f002e3",
   "metadata": {},
   "outputs": [],
   "source": [
    "data.to_csv('uncleaned.csv')"
   ]
  },
  {
   "cell_type": "code",
   "execution_count": null,
   "id": "21c31791-5b65-4c73-ac69-a0ec632b903e",
   "metadata": {},
   "outputs": [],
   "source": [
    "data"
   ]
  },
  {
   "cell_type": "code",
   "execution_count": null,
   "id": "827b8cf7-46fa-4171-85d0-277f87924a85",
   "metadata": {},
   "outputs": [],
   "source": []
  }
 ],
 "metadata": {
  "kernelspec": {
   "display_name": "Python 3 (ipykernel)",
   "language": "python",
   "name": "python3"
  },
  "language_info": {
   "codemirror_mode": {
    "name": "ipython",
    "version": 3
   },
   "file_extension": ".py",
   "mimetype": "text/x-python",
   "name": "python",
   "nbconvert_exporter": "python",
   "pygments_lexer": "ipython3",
   "version": "3.11.4"
  }
 },
 "nbformat": 4,
 "nbformat_minor": 5
}
